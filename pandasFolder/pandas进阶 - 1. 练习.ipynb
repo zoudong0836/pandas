{
 "cells": [
  {
   "cell_type": "markdown",
   "metadata": {},
   "source": [
    "## 对于一组电影数据，希望统计电影分类(genre)的情况，应该如何处理数据？\n",
    "> 思路：重构一个全为`0`的数据，列名为分类，如果某一条数据中分类出现过，就让`0`变为`1`"
   ]
  },
  {
   "cell_type": "code",
   "execution_count": 20,
   "metadata": {},
   "outputs": [
    {
     "name": "stdout",
     "output_type": "stream",
     "text": [
      "Populating the interactive namespace from numpy and matplotlib\n"
     ]
    }
   ],
   "source": [
    "import pandas as pd\n",
    "import numpy as np\n",
    "from matplotlib import pyplot as plt\n",
    "%pylab inline"
   ]
  },
  {
   "cell_type": "code",
   "execution_count": 3,
   "metadata": {},
   "outputs": [],
   "source": [
    "filename = 'data/IMDB-Movie-Data.csv'\n",
    "df = pd.read_csv(filename)"
   ]
  },
  {
   "cell_type": "code",
   "execution_count": 7,
   "metadata": {},
   "outputs": [],
   "source": [
    "# 统计分类的列表\n",
    "temp_list = df['Genre'].str.split(\",\").tolist()   # 列表嵌套列表\n",
    "genre_list = list(set([i for j in temp_list for i in j]))     # 合并成一个大列表并去重"
   ]
  },
  {
   "cell_type": "code",
   "execution_count": 13,
   "metadata": {},
   "outputs": [],
   "source": [
    "# 构造全为 0 的数组\n",
    "zeros_df = pd.DataFrame(np.zeros((df.shape[0], len(genre_list))), columns=genre_list)"
   ]
  },
  {
   "cell_type": "code",
   "execution_count": 19,
   "metadata": {},
   "outputs": [
    {
     "data": {
      "text/html": [
       "<div>\n",
       "<style scoped>\n",
       "    .dataframe tbody tr th:only-of-type {\n",
       "        vertical-align: middle;\n",
       "    }\n",
       "\n",
       "    .dataframe tbody tr th {\n",
       "        vertical-align: top;\n",
       "    }\n",
       "\n",
       "    .dataframe thead th {\n",
       "        text-align: right;\n",
       "    }\n",
       "</style>\n",
       "<table border=\"1\" class=\"dataframe\">\n",
       "  <thead>\n",
       "    <tr style=\"text-align: right;\">\n",
       "      <th></th>\n",
       "      <th>Drama</th>\n",
       "      <th>Family</th>\n",
       "      <th>Animation</th>\n",
       "      <th>Music</th>\n",
       "      <th>Biography</th>\n",
       "      <th>Western</th>\n",
       "      <th>Romance</th>\n",
       "      <th>Musical</th>\n",
       "      <th>Fantasy</th>\n",
       "      <th>Sport</th>\n",
       "      <th>Thriller</th>\n",
       "      <th>Crime</th>\n",
       "      <th>Action</th>\n",
       "      <th>Sci-Fi</th>\n",
       "      <th>Adventure</th>\n",
       "      <th>Horror</th>\n",
       "      <th>History</th>\n",
       "      <th>Mystery</th>\n",
       "      <th>Comedy</th>\n",
       "      <th>War</th>\n",
       "    </tr>\n",
       "  </thead>\n",
       "  <tbody>\n",
       "    <tr>\n",
       "      <th>0</th>\n",
       "      <td>0.0</td>\n",
       "      <td>0.0</td>\n",
       "      <td>0.0</td>\n",
       "      <td>0.0</td>\n",
       "      <td>0.0</td>\n",
       "      <td>0.0</td>\n",
       "      <td>0.0</td>\n",
       "      <td>0.0</td>\n",
       "      <td>0.0</td>\n",
       "      <td>0.0</td>\n",
       "      <td>0.0</td>\n",
       "      <td>0.0</td>\n",
       "      <td>1.0</td>\n",
       "      <td>1.0</td>\n",
       "      <td>1.0</td>\n",
       "      <td>0.0</td>\n",
       "      <td>0.0</td>\n",
       "      <td>0.0</td>\n",
       "      <td>0.0</td>\n",
       "      <td>0.0</td>\n",
       "    </tr>\n",
       "    <tr>\n",
       "      <th>1</th>\n",
       "      <td>0.0</td>\n",
       "      <td>0.0</td>\n",
       "      <td>0.0</td>\n",
       "      <td>0.0</td>\n",
       "      <td>0.0</td>\n",
       "      <td>0.0</td>\n",
       "      <td>0.0</td>\n",
       "      <td>0.0</td>\n",
       "      <td>0.0</td>\n",
       "      <td>0.0</td>\n",
       "      <td>0.0</td>\n",
       "      <td>0.0</td>\n",
       "      <td>0.0</td>\n",
       "      <td>1.0</td>\n",
       "      <td>1.0</td>\n",
       "      <td>0.0</td>\n",
       "      <td>0.0</td>\n",
       "      <td>1.0</td>\n",
       "      <td>0.0</td>\n",
       "      <td>0.0</td>\n",
       "    </tr>\n",
       "    <tr>\n",
       "      <th>2</th>\n",
       "      <td>0.0</td>\n",
       "      <td>0.0</td>\n",
       "      <td>0.0</td>\n",
       "      <td>0.0</td>\n",
       "      <td>0.0</td>\n",
       "      <td>0.0</td>\n",
       "      <td>0.0</td>\n",
       "      <td>0.0</td>\n",
       "      <td>0.0</td>\n",
       "      <td>0.0</td>\n",
       "      <td>1.0</td>\n",
       "      <td>0.0</td>\n",
       "      <td>0.0</td>\n",
       "      <td>0.0</td>\n",
       "      <td>0.0</td>\n",
       "      <td>1.0</td>\n",
       "      <td>0.0</td>\n",
       "      <td>0.0</td>\n",
       "      <td>0.0</td>\n",
       "      <td>0.0</td>\n",
       "    </tr>\n",
       "  </tbody>\n",
       "</table>\n",
       "</div>"
      ],
      "text/plain": [
       "   Drama  Family  Animation  Music  Biography  Western  Romance  Musical  \\\n",
       "0    0.0     0.0        0.0    0.0        0.0      0.0      0.0      0.0   \n",
       "1    0.0     0.0        0.0    0.0        0.0      0.0      0.0      0.0   \n",
       "2    0.0     0.0        0.0    0.0        0.0      0.0      0.0      0.0   \n",
       "\n",
       "   Fantasy  Sport  Thriller  Crime  Action  Sci-Fi  Adventure  Horror  \\\n",
       "0      0.0    0.0       0.0    0.0     1.0     1.0        1.0     0.0   \n",
       "1      0.0    0.0       0.0    0.0     0.0     1.0        1.0     0.0   \n",
       "2      0.0    0.0       1.0    0.0     0.0     0.0        0.0     1.0   \n",
       "\n",
       "   History  Mystery  Comedy  War  \n",
       "0      0.0      0.0     0.0  0.0  \n",
       "1      0.0      1.0     0.0  0.0  \n",
       "2      0.0      0.0     0.0  0.0  "
      ]
     },
     "execution_count": 19,
     "metadata": {},
     "output_type": "execute_result"
    }
   ],
   "source": [
    "# 给每个电影出现分类的位置赋值 1\n",
    "for i in range(df.shape[0]):\n",
    "    # zeros_df.loc[0, ['Sci-Fi', 'Mucical']] = 1\n",
    "    zeros_df.loc[i, temp_list[i]] = 1\n",
    "    \n",
    "zeros_df.head(3)"
   ]
  },
  {
   "cell_type": "code",
   "execution_count": 18,
   "metadata": {},
   "outputs": [
    {
     "data": {
      "text/plain": [
       "Drama        513.0\n",
       "Family        51.0\n",
       "Animation     49.0\n",
       "Music         16.0\n",
       "Biography     81.0\n",
       "Western        7.0\n",
       "Romance      141.0\n",
       "Musical        5.0\n",
       "Fantasy      101.0\n",
       "Sport         18.0\n",
       "Thriller     195.0\n",
       "Crime        150.0\n",
       "Action       303.0\n",
       "Sci-Fi       120.0\n",
       "Adventure    259.0\n",
       "Horror       119.0\n",
       "History       29.0\n",
       "Mystery      106.0\n",
       "Comedy       279.0\n",
       "War           13.0\n",
       "dtype: float64"
      ]
     },
     "execution_count": 18,
     "metadata": {},
     "output_type": "execute_result"
    }
   ],
   "source": [
    "# 统计每个分类的电影的数量和\n",
    "genre_count = zeros_df.sum(axis=0)\n",
    "genre_count"
   ]
  },
  {
   "cell_type": "code",
   "execution_count": 23,
   "metadata": {},
   "outputs": [
    {
     "data": {
      "text/plain": [
       "Musical        5.0\n",
       "Western        7.0\n",
       "War           13.0\n",
       "Music         16.0\n",
       "Sport         18.0\n",
       "History       29.0\n",
       "Animation     49.0\n",
       "Family        51.0\n",
       "Biography     81.0\n",
       "Fantasy      101.0\n",
       "Mystery      106.0\n",
       "Horror       119.0\n",
       "Sci-Fi       120.0\n",
       "Romance      141.0\n",
       "Crime        150.0\n",
       "Thriller     195.0\n",
       "Adventure    259.0\n",
       "Comedy       279.0\n",
       "Action       303.0\n",
       "Drama        513.0\n",
       "dtype: float64"
      ]
     },
     "execution_count": 23,
     "metadata": {},
     "output_type": "execute_result"
    }
   ],
   "source": [
    "# 排序\n",
    "genre_count = genre_count.sort_values()\n",
    "genre_count"
   ]
  },
  {
   "cell_type": "code",
   "execution_count": 24,
   "metadata": {},
   "outputs": [
    {
     "data": {
      "image/png": "[encoded data removed]",
      "text/plain": [
       "<Figure size 1600x640 with 1 Axes>"
      ]
     },
     "metadata": {
      "needs_background": "light"
     },
     "output_type": "display_data"
    }
   ],
   "source": [
    "# 画图\n",
    "_x = genre_count.index\n",
    "_y = genre_count.values\n",
    "\n",
    "plt.figure(figsize=(20, 8), dpi=80)\n",
    "plt.bar(range(len(_x)), _y)\n",
    "plt.xticks(range(len(_x)), _x)\n",
    "plt.show()"
   ]
  },
  {
   "cell_type": "markdown",
   "metadata": {},
   "source": [
    "## 有一组关于全球星巴克店铺的统计数据，现在想知道美国的星巴克数量和中国的哪个多，或者是说中国每个省份星巴克的数量情况，如何统计？"
   ]
  },
  {
   "cell_type": "code",
   "execution_count": 25,
   "metadata": {},
   "outputs": [
    {
     "data": {
      "text/html": [
       "<div>\n",
       "<style scoped>\n",
       "    .dataframe tbody tr th:only-of-type {\n",
       "        vertical-align: middle;\n",
       "    }\n",
       "\n",
       "    .dataframe tbody tr th {\n",
       "        vertical-align: top;\n",
       "    }\n",
       "\n",
       "    .dataframe thead th {\n",
       "        text-align: right;\n",
       "    }\n",
       "</style>\n",
       "<table border=\"1\" class=\"dataframe\">\n",
       "  <thead>\n",
       "    <tr style=\"text-align: right;\">\n",
       "      <th></th>\n",
       "      <th>Brand</th>\n",
       "      <th>Store Number</th>\n",
       "      <th>Store Name</th>\n",
       "      <th>Ownership Type</th>\n",
       "      <th>Street Address</th>\n",
       "      <th>City</th>\n",
       "      <th>State/Province</th>\n",
       "      <th>Country</th>\n",
       "      <th>Postcode</th>\n",
       "      <th>Phone Number</th>\n",
       "      <th>Timezone</th>\n",
       "      <th>Longitude</th>\n",
       "      <th>Latitude</th>\n",
       "    </tr>\n",
       "  </thead>\n",
       "  <tbody>\n",
       "    <tr>\n",
       "      <th>0</th>\n",
       "      <td>Starbucks</td>\n",
       "      <td>47370-257954</td>\n",
       "      <td>Meritxell, 96</td>\n",
       "      <td>Licensed</td>\n",
       "      <td>Av. Meritxell, 96</td>\n",
       "      <td>Andorra la Vella</td>\n",
       "      <td>7</td>\n",
       "      <td>AD</td>\n",
       "      <td>AD500</td>\n",
       "      <td>376818720</td>\n",
       "      <td>GMT+1:00 Europe/Andorra</td>\n",
       "      <td>1.53</td>\n",
       "      <td>42.51</td>\n",
       "    </tr>\n",
       "  </tbody>\n",
       "</table>\n",
       "</div>"
      ],
      "text/plain": [
       "       Brand  Store Number     Store Name Ownership Type     Street Address  \\\n",
       "0  Starbucks  47370-257954  Meritxell, 96       Licensed  Av. Meritxell, 96   \n",
       "\n",
       "               City State/Province Country Postcode Phone Number  \\\n",
       "0  Andorra la Vella              7      AD    AD500    376818720   \n",
       "\n",
       "                  Timezone  Longitude  Latitude  \n",
       "0  GMT+1:00 Europe/Andorra       1.53     42.51  "
      ]
     },
     "execution_count": 25,
     "metadata": {},
     "output_type": "execute_result"
    }
   ],
   "source": [
    "filename = 'data/starbucks.csv'\n",
    "df = pd.read_csv(filename)\n",
    "df.head(1)"
   ]
  },
  {
   "cell_type": "markdown",
   "metadata": {},
   "source": [
    "### 在 pandas 中类似的分组的操作可以通过 groupby 实现\n",
    "```python\n",
    "grouped = df.groupby(by = 'columns_name')   # <pandas.core.groupby.groupby.DataFrameGroupBy object>\n",
    "```\n",
    "+ `grouped` 是一个`DataFrameGroupBy`对象，是可迭代的  \n",
    "+ `grouped` 中的每一个元素是一个元组，元组里面是（索引`(分组的值)`, 分组之后的`DataFrame`）"
   ]
  },
  {
   "cell_type": "code",
   "execution_count": 28,
   "metadata": {},
   "outputs": [
    {
     "data": {
      "text/plain": [
       "<pandas.core.groupby.groupby.DataFrameGroupBy object at 0x11e34d9b0>"
      ]
     },
     "execution_count": 28,
     "metadata": {},
     "output_type": "execute_result"
    }
   ],
   "source": [
    "# 分组\n",
    "grouped = df.groupby(by = 'Country')"
   ]
  },
  {
   "cell_type": "code",
   "execution_count": 30,
   "metadata": {},
   "outputs": [
    {
     "data": {
      "text/plain": [
       "(13608, 2734)"
      ]
     },
     "execution_count": 30,
     "metadata": {},
     "output_type": "execute_result"
    }
   ],
   "source": [
    "# 聚合\n",
    "country_count = grouped['Brand'].count()\n",
    "country_count['US'], country_count['CN']"
   ]
  },
  {
   "cell_type": "code",
   "execution_count": 35,
   "metadata": {},
   "outputs": [
    {
     "data": {
      "text/plain": [
       "State/Province\n",
       "11    236\n",
       "12     58\n",
       "13     24\n",
       "14      8\n",
       "15      8\n",
       "21     57\n",
       "22     13\n",
       "23     16\n",
       "31    551\n",
       "32    354\n",
       "33    315\n",
       "34     26\n",
       "35     75\n",
       "36     13\n",
       "37     75\n",
       "41     21\n",
       "42     76\n",
       "43     35\n",
       "44    333\n",
       "45     21\n",
       "46     16\n",
       "50     41\n",
       "51    104\n",
       "52      9\n",
       "53     24\n",
       "61     42\n",
       "62      3\n",
       "63      3\n",
       "64      2\n",
       "91    162\n",
       "92     13\n",
       "Name: Brand, dtype: int64"
      ]
     },
     "execution_count": 35,
     "metadata": {},
     "output_type": "execute_result"
    }
   ],
   "source": [
    "# 统计中国每个省店铺的数量\n",
    "china_data = df[df['Country'] == 'CN']\n",
    "grouped = china_data.groupby(by = 'State/Province').count()['Brand']\n",
    "grouped"
   ]
  },
  {
   "cell_type": "code",
   "execution_count": null,
   "metadata": {},
   "outputs": [],
   "source": []
  }
 ],
 "metadata": {
  "kernelspec": {
   "display_name": "Python 3",
   "language": "python",
   "name": "python3"
  },
  "language_info": {
   "codemirror_mode": {
    "name": "ipython",
    "version": 3
   },
   "file_extension": ".py",
   "mimetype": "text/x-python",
   "name": "python",
   "nbconvert_exporter": "python",
   "pygments_lexer": "ipython3",
   "version": "3.7.0"
  }
 },
 "nbformat": 4,
 "nbformat_minor": 2
}
