{
 "cells": [
  {
   "cell_type": "code",
   "execution_count": null,
   "metadata": {},
   "outputs": [],
   "source": [
    "import pandas as pd"
   ]
  },
  {
   "cell_type": "code",
   "execution_count": null,
   "metadata": {},
   "outputs": [],
   "source": [
    "df = pd.read_excel(\"Data Model.xlsx\")\n",
    "df = pd.read_excel(\"Data Model.xlsx\"，header=2)            # header=2 跳过前2行数据\n",
    "\n",
    "df = pd.read_excel(\"Data Model.xlsx\", header=None)         # header=None 表示没有列名\n",
    "df.columns = ['ID', 'Type', 'Title', 'Name']               # 为没有列名的数据添加列名 \n",
    "\n",
    "df.set_index('ID', inplace=True)                           # 将‘ID’列设置为索引index"
   ]
  },
  {
   "cell_type": "code",
   "execution_count": null,
   "metadata": {},
   "outputs": [],
   "source": [
    "df = pd.read_excel(\"Data Model.xlsx\", index_col='ID')      # 读取Excel时，指定‘ID’列为索引\n",
    "df = pd.DataFrame({'ID' : [1, 2, 3], 'Name' : ['Tim', 'Victor', 'Nick']})\n",
    "\n",
    "df = df.set_index('ID')             # 将'ID'列设置为索引\n",
    "df.to_excel(\"output.xlsx\")"
   ]
  },
  {
   "cell_type": "code",
   "execution_count": null,
   "metadata": {},
   "outputs": [],
   "source": [
    "books = pd.read_excel('data/Books.xlsx', index_col='ID')\n",
    "\n",
    "# 计算价格：方法一\n",
    "books['Price'] = books['ListPrice'] * books['Discount']\n",
    "print(books)\n",
    "\n",
    "# 计算价格：方法二\n",
    "for i in books.index:\n",
    "    books['Price'].at[i] = books['ListPrice'].at[i] * books['Discount'].at[i]\n",
    "print(books)    \n",
    "    \n",
    "# 涨价: 方法一\n",
    "books['ListPrice'] = books['ListPrice'] + 2\n",
    "print(books)\n",
    "\n",
    "# 涨价: 方法二\n",
    "books['ListPrice'] = books['ListPrice'].apply(lambda x: x+2)\n",
    "print(books)"
   ]
  },
  {
   "cell_type": "code",
   "execution_count": null,
   "metadata": {},
   "outputs": [],
   "source": [
    "products = pd.read_excel('data/List.xlsx', index_col='ID')\n",
    "\n",
    "# 基于指定列从低到高排列\n",
    "products.sort_values(by='Price', inplace=True)\n",
    "#print(products)\n",
    "\n",
    "# 基于指定列从高到低排列\n",
    "products.sort_values(by='Price', inplace=True, ascending=False)\n",
    "#print(products)\n",
    "\n",
    "# 多列排序\n",
    "products.sort_values(by=['Worthy', 'Price'], inplace=True, ascending=[True, False])\n",
    "print(products)"
   ]
  },
  {
   "cell_type": "code",
   "execution_count": null,
   "metadata": {},
   "outputs": [],
   "source": [
    "students = pd.read_excel('data/Students1.xlsx', index_col='ID')\n",
    "\n",
    "# 筛选数据\n",
    "students = students.loc[students['Age'].apply(lambda x: 18<=x<30)]\n",
    "print(students)\n",
    "\n",
    "# 级联筛选数据\n",
    "students = students.loc[students['Age'].apply(lambda x: 18<=x<30)].loc[students['Score'].apply(lambda x: 85<=x<=100)]\n",
    "print(students)\n",
    "\n",
    "# 属性简写\n",
    "students = students.loc[students.Age.apply(lambda x: 18<=x<30)].loc[students.Score.apply(lambda x: 85<=x<=100)]\n",
    "print(students)"
   ]
  },
  {
   "cell_type": "code",
   "execution_count": null,
   "metadata": {},
   "outputs": [],
   "source": [
    "students = pd.read_excel('data/Student_score.xlsx', sheet_name='Students')\n",
    "scores = pd.read_excel('data/Student_score.xlsx', sheet_name='Scores')\n",
    "\n",
    "# merge 默认是内联模式(inner)\n",
    "tables = students.merge(scores, on='ID')\n",
    "#print(tables)\n",
    "\n",
    "# merge 左外连接\n",
    "tables = students.merge(scores, how='left', on='ID').fillna(0)\n",
    "#tables = students.merge(scores, how='left', left_on='ID', right_on='ID').fillna(0)\n",
    "tables.Score = tables.Score.astype(int)\n",
    "#print(tables)\n",
    "\n",
    "# merge 右外连接\n",
    "tables = students.merge(scores, how='right', on='ID')\n",
    "#tables = students.merge(scores, how='left', left_on='ID', right_on='ID')\n",
    "tables.Score = tables.Score.astype(int)\n",
    "#print(tables)\n",
    "\n",
    "\n",
    "# join 连接 \n",
    "students = pd.read_excel('data/Student_score.xlsx', sheet_name='Students', index_col='ID')\n",
    "scores = pd.read_excel('data/Student_score.xlsx', sheet_name='Scores', index_col='ID')\n",
    "tables = students.join(scores, how='left').fillna(0)\n",
    "tables.Score = tables.Score.astype(int)\n",
    "#print(tables)"
   ]
  },
  {
   "cell_type": "code",
   "execution_count": null,
   "metadata": {},
   "outputs": [],
   "source": [
    "def score_validation(row):\n",
    "    if not 0 <= row.Score <= 100:\n",
    "        print(f'#{row.ID}\\tstudent {row.Name} has an invalid score \"{row.Score}\"')\n",
    "\n",
    "students = pd.read_excel('data/Students2.xlsx')\n",
    "\n",
    "# 逐行扫描过滤\n",
    "students.apply(score_validation, axis=1)    # axis=0: 列方向； axis=1: 行方向"
   ]
  },
  {
   "cell_type": "code",
   "execution_count": null,
   "metadata": {},
   "outputs": [],
   "source": [
    "employees = pd.read_excel('data/Employees.xlsx', index_col='ID')\n",
    "\n",
    "# 将一列数据分割成两列\n",
    "df = employees['Full Name'].str.split(expand=True)\n",
    "#print(df)\n",
    "\n",
    "# 新增列\n",
    "employees['First Name'] = df[0]\n",
    "employees['Last Name'] = df[1].str.upper()\n",
    "print(employees)"
   ]
  },
  {
   "cell_type": "code",
   "execution_count": null,
   "metadata": {},
   "outputs": [],
   "source": [
    "students = pd.read_excel('data/Students3.xlsx', index_col='ID')\n",
    "\n",
    "# 基于列提取子集\n",
    "temp = students[['Test_1', 'Test_2', 'Test_3']]\n",
    "#print(temp)\n",
    "\n",
    "# 基于行计算总和 / 平均值\n",
    "row_sum = temp.sum(axis=1)\n",
    "#print(row_sum)\n",
    "row_mean = temp.mean(axis=1)\n",
    "#print(row_mean)\n",
    "\n",
    "students['Total'] = row_sum\n",
    "students['Average'] = row_mean\n",
    "#print(students)\n",
    "\n",
    "# 基于列计算平均值\n",
    "col_mean = students[['Test_1', 'Test_2', 'Test_3', 'Total', 'Average']].mean()\n",
    "col_mean['Name'] = 'Summary'\n",
    "students = students.append(col_mean, ignore_index=True)\n",
    "print(students)"
   ]
  },
  {
   "cell_type": "code",
   "execution_count": null,
   "metadata": {},
   "outputs": [],
   "source": [
    "students = pd.read_excel('data/Students_Duplicates.xlsx')\n",
    "\n",
    "# 消除重复数据\n",
    "#students.drop_duplicates(subset=['Name'], inplace=True)\n",
    "#print(students)\n",
    "\n",
    "# 去重时, 保留最后出现的重复数据\n",
    "#students.drop_duplicates(subset=['Name'], inplace=True, keep='last')\n",
    "#print(students)\n",
    "\n",
    "# 提取重复数据\n",
    "dupe = students.duplicated(subset=['Name'])\n",
    "#print(dupe)\n",
    "#print(dupe.any())\n",
    " \n",
    "dupe = dupe[dupe == True]   # 简写: dupe = dupe[dupe]\n",
    "print(dupe)\n",
    "print(dupe.index)\n",
    "\n",
    "print(students.iloc[dupe.index])"
   ]
  },
  {
   "cell_type": "code",
   "execution_count": null,
   "metadata": {},
   "outputs": [],
   "source": []
  }
 ],
 "metadata": {
  "kernelspec": {
   "display_name": "Python 3",
   "language": "python",
   "name": "python3"
  },
  "language_info": {
   "codemirror_mode": {
    "name": "ipython",
    "version": 3
   },
   "file_extension": ".py",
   "mimetype": "text/x-python",
   "name": "python",
   "nbconvert_exporter": "python",
   "pygments_lexer": "ipython3",
   "version": "3.7.0"
  }
 },
 "nbformat": 4,
 "nbformat_minor": 2
}
