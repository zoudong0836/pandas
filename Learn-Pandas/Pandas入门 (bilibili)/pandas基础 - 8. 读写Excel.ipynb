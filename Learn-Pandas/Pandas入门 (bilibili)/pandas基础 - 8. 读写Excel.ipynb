{
 "cells": [
  {
   "cell_type": "code",
   "execution_count": null,
   "metadata": {},
   "outputs": [],
   "source": [
    "import pandas as pd\n",
    "import numpy as np\n",
    "import matplotlib.pyplot as plt"
   ]
  },
  {
   "cell_type": "code",
   "execution_count": null,
   "metadata": {},
   "outputs": [],
   "source": [
    "people = pd.read_excel('data/People.xlsx')\n",
    "#print(people.shape)         # 获取行、列数\n",
    "#print(people.columns)       # 获取列名\n",
    "\n",
    "#print(people.head(3))      # 取前三行\n",
    "#print(people.tail(3))      # 取后三行\n",
    "\n",
    "people = pd.read_excel('data/People.xlsx', header=1)      # 指定列名在第1行(起始行为0)\n",
    "\n",
    "people = pd.read_excel('data/People.xlsx', header=None)   # 没有列名\n",
    "people.columns = ['ID', 'Type', 'Title', 'FirstName']     # 设置列名\n",
    "people.set_index('ID', inplace=True)                      # 设置‘ID’列为索引"
   ]
  },
  {
   "cell_type": "code",
   "execution_count": null,
   "metadata": {},
   "outputs": [],
   "source": []
  },
  {
   "cell_type": "code",
   "execution_count": null,
   "metadata": {},
   "outputs": [],
   "source": []
  },
  {
   "cell_type": "code",
   "execution_count": null,
   "metadata": {},
   "outputs": [],
   "source": [
    "df = pd.read_excel(\"Data Model.xlsx\")\n",
    "df = pd.read_excel(\"Data Model.xlsx\"，header=2)            # header=2 跳过前2行数据\n",
    "\n",
    "df = pd.read_excel(\"Data Model.xlsx\", header=None)         # header=None 表示没有列名\n",
    "df.columns = ['ID', 'Type', 'Title', 'Name']               # 为没有列名的数据添加列名 \n",
    "\n",
    "df.set_index('ID', inplace=True)                           # 将‘ID’列设置为索引index"
   ]
  },
  {
   "cell_type": "code",
   "execution_count": null,
   "metadata": {},
   "outputs": [],
   "source": [
    "df = pd.read_excel(\"Data Model.xlsx\", index_col='ID')      # 读取Excel时，指定‘ID’列为索引\n",
    "df = pd.DataFrame({'ID' : [1, 2, 3], 'Name' : ['Tim', 'Victor', 'Nick']})\n",
    "\n",
    "df = df.set_index('ID')             # 将'ID'列设置为索引\n",
    "df.to_excel(\"output.xlsx\")"
   ]
  },
  {
   "cell_type": "code",
   "execution_count": null,
   "metadata": {},
   "outputs": [],
   "source": [
    "books = pd.read_excel('data/Books.xlsx', index_col='ID')\n",
    "\n",
    "# 计算价格：方法一\n",
    "books['Price'] = books['ListPrice'] * books['Discount']\n",
    "print(books)\n",
    "\n",
    "# 计算价格：方法二\n",
    "for i in books.index:\n",
    "    books['Price'].at[i] = books['ListPrice'].at[i] * books['Discount'].at[i]\n",
    "print(books)    \n",
    "    \n",
    "# 涨价: 方法一\n",
    "books['ListPrice'] = books['ListPrice'] + 2\n",
    "print(books)\n",
    "\n",
    "# 涨价: 方法二\n",
    "books['ListPrice'] = books['ListPrice'].apply(lambda x: x+2)\n",
    "print(books)"
   ]
  },
  {
   "cell_type": "code",
   "execution_count": null,
   "metadata": {},
   "outputs": [],
   "source": [
    "products = pd.read_excel('data/List.xlsx', index_col='ID')\n",
    "\n",
    "# 基于指定列从低到高排列\n",
    "products.sort_values(by='Price', inplace=True)\n",
    "#print(products)\n",
    "\n",
    "# 基于指定列从高到低排列\n",
    "products.sort_values(by='Price', inplace=True, ascending=False)\n",
    "#print(products)\n",
    "\n",
    "# 多列排序\n",
    "products.sort_values(by=['Worthy', 'Price'], inplace=True, ascending=[True, False])\n",
    "print(products)"
   ]
  },
  {
   "cell_type": "code",
   "execution_count": null,
   "metadata": {},
   "outputs": [],
   "source": [
    "students = pd.read_excel('data/Students1.xlsx', index_col='ID')\n",
    "\n",
    "# 筛选数据\n",
    "students = students.loc[students['Age'].apply(lambda x: 18<=x<30)]\n",
    "print(students)\n",
    "\n",
    "# 级联筛选数据\n",
    "students = students.loc[students['Age'].apply(lambda x: 18<=x<30)].loc[students['Score'].apply(lambda x: 85<=x<=100)]\n",
    "print(students)\n",
    "\n",
    "# 属性简写\n",
    "students = students.loc[students.Age.apply(lambda x: 18<=x<30)].loc[students.Score.apply(lambda x: 85<=x<=100)]\n",
    "print(students)"
   ]
  },
  {
   "cell_type": "code",
   "execution_count": null,
   "metadata": {},
   "outputs": [],
   "source": [
    "students = pd.read_excel('data/Student_score.xlsx', sheet_name='Students')\n",
    "scores = pd.read_excel('data/Student_score.xlsx', sheet_name='Scores')\n",
    "\n",
    "# merge 默认是内联模式(inner)\n",
    "tables = students.merge(scores, on='ID')\n",
    "#print(tables)\n",
    "\n",
    "# merge 左外连接\n",
    "tables = students.merge(scores, how='left', on='ID').fillna(0)\n",
    "#tables = students.merge(scores, how='left', left_on='ID', right_on='ID').fillna(0)\n",
    "tables.Score = tables.Score.astype(int)\n",
    "#print(tables)\n",
    "\n",
    "# merge 右外连接\n",
    "tables = students.merge(scores, how='right', on='ID')\n",
    "#tables = students.merge(scores, how='left', left_on='ID', right_on='ID')\n",
    "tables.Score = tables.Score.astype(int)\n",
    "#print(tables)\n",
    "\n",
    "\n",
    "# join 连接 \n",
    "students = pd.read_excel('data/Student_score.xlsx', sheet_name='Students', index_col='ID')\n",
    "scores = pd.read_excel('data/Student_score.xlsx', sheet_name='Scores', index_col='ID')\n",
    "tables = students.join(scores, how='left').fillna(0)\n",
    "tables.Score = tables.Score.astype(int)\n",
    "#print(tables)"
   ]
  },
  {
   "cell_type": "code",
   "execution_count": null,
   "metadata": {},
   "outputs": [],
   "source": [
    "def score_validation(row):\n",
    "    if not 0 <= row.Score <= 100:\n",
    "        print(f'#{row.ID}\\tstudent {row.Name} has an invalid score \"{row.Score}\"')\n",
    "\n",
    "students = pd.read_excel('data/Students2.xlsx')\n",
    "\n",
    "# 逐行扫描过滤\n",
    "students.apply(score_validation, axis=1)    # axis=0: 列方向； axis=1: 行方向"
   ]
  },
  {
   "cell_type": "code",
   "execution_count": null,
   "metadata": {},
   "outputs": [],
   "source": [
    "employees = pd.read_excel('data/Employees.xlsx', index_col='ID')\n",
    "\n",
    "# 将一列数据分割成两列\n",
    "df = employees['Full Name'].str.split(expand=True)\n",
    "#print(df)\n",
    "\n",
    "# 新增列\n",
    "employees['First Name'] = df[0]\n",
    "employees['Last Name'] = df[1].str.upper()\n",
    "print(employees)"
   ]
  },
  {
   "cell_type": "code",
   "execution_count": null,
   "metadata": {},
   "outputs": [],
   "source": [
    "students = pd.read_excel('data/Students3.xlsx', index_col='ID')\n",
    "\n",
    "# 基于列提取子集\n",
    "temp = students[['Test_1', 'Test_2', 'Test_3']]\n",
    "#print(temp)\n",
    "\n",
    "# 基于行计算总和 / 平均值\n",
    "row_sum = temp.sum(axis=1)\n",
    "#print(row_sum)\n",
    "row_mean = temp.mean(axis=1)\n",
    "#print(row_mean)\n",
    "\n",
    "students['Total'] = row_sum\n",
    "students['Average'] = row_mean\n",
    "#print(students)\n",
    "\n",
    "# 基于列计算平均值\n",
    "col_mean = students[['Test_1', 'Test_2', 'Test_3', 'Total', 'Average']].mean()\n",
    "col_mean['Name'] = 'Summary'\n",
    "students = students.append(col_mean, ignore_index=True)\n",
    "print(students)"
   ]
  },
  {
   "cell_type": "code",
   "execution_count": null,
   "metadata": {},
   "outputs": [],
   "source": [
    "students = pd.read_excel('data/Students_Duplicates.xlsx')\n",
    "\n",
    "# 消除重复数据\n",
    "#students.drop_duplicates(subset=['Name'], inplace=True)\n",
    "#print(students)\n",
    "\n",
    "# 去重时, 保留最后出现的重复数据\n",
    "#students.drop_duplicates(subset=['Name'], inplace=True, keep='last')\n",
    "#print(students)\n",
    "\n",
    "# 提取重复数据\n",
    "dupe = students.duplicated(subset=['Name'])\n",
    "#print(dupe)\n",
    "#print(dupe.any())\n",
    " \n",
    "dupe = dupe[dupe == True]   # 简写: dupe = dupe[dupe]\n",
    "print(dupe)\n",
    "print(dupe.index)\n",
    "\n",
    "print(students.iloc[dupe.index])"
   ]
  },
  {
   "cell_type": "code",
   "execution_count": null,
   "metadata": {},
   "outputs": [],
   "source": [
    "pd.options.display.max_columns = 999\n",
    "videos = pd.read_excel(\"data/Videos.xlsx\", index_col='Month')\n",
    "# 旋转表格\n",
    "table = videos.transpose()\n",
    "print(table)"
   ]
  },
  {
   "cell_type": "code",
   "execution_count": null,
   "metadata": {},
   "outputs": [],
   "source": [
    "# 读取 CSV 文件\n",
    "students1 = pd.read_csv(\"data/importData/Students.csv\", index_col='ID')\n",
    "#print(students1)\n",
    "\n",
    "# 读取 TSV 文件\n",
    "students2 = pd.read_csv(\"data/importData/Students.tsv\", sep='\\t', index_col='ID')\n",
    "#print(students2)\n",
    "\n",
    "# 读取 TXT 文件\n",
    "students3 = pd.read_csv(\"data/importData/Students.txt\", sep='|', index_col='ID')\n",
    "print(students3)"
   ]
  },
  {
   "cell_type": "code",
   "execution_count": null,
   "metadata": {},
   "outputs": [],
   "source": [
    "orders = pd.read_excel('data/Orders.xlsx')\n",
    "orders['Year'] = pd.DatetimeIndex(orders['Date']).year\n",
    "\n",
    "# 创建透视图\n",
    "import numpy as np\n",
    "pt1 = orders.pivot_table(index='Category', columns='Year', values='Total', aggfunc=np.sum)\n",
    "print(pt1)"
   ]
  },
  {
   "cell_type": "code",
   "execution_count": null,
   "metadata": {},
   "outputs": [],
   "source": [
    "orders = pd.read_excel('data/Orders.xlsx')\n",
    "#print(orders)\n",
    "\n",
    "# 新增一列, 从Date列中提取year\n",
    "orders['Year'] = pd.DatetimeIndex(orders['Date']).year\n",
    "\n",
    "# 分组\n",
    "groups = orders.groupby(['Category', 'Year'])\n",
    "s = groups['Total'].sum()\n",
    "c = groups['ID'].count()\n",
    "\n",
    "pt2 = pd.DataFrame({'Sum': s, 'Count': c})\n",
    "print(pt2)"
   ]
  },
  {
   "cell_type": "code",
   "execution_count": null,
   "metadata": {},
   "outputs": [],
   "source": [
    "sales = pd.read_excel('data/Sales.xlsx', dtype={'Month': str})\n",
    "#print(sales)\n",
    "\n",
    "plt.bar(sales.index, sales.Revenue)\n",
    "plt.title('Sales')\n",
    "plt.xticks(sales.index, sales.Month, rotation=90)\n",
    "plt.tight_layout()\n",
    "plt.show()"
   ]
  },
  {
   "cell_type": "code",
   "execution_count": null,
   "metadata": {},
   "outputs": [],
   "source": [
    "def low_score_red(s):\n",
    "    color = 'red' if s < 60 else 'black'\n",
    "    return f'color : {color}'\n",
    "\n",
    "def highest_score_green(col):\n",
    "    return ['background-color: lime' if s == col.max() else 'background-color: white' for s in col]\n",
    "\n",
    "students = pd.read_excel('data/Students4.xlsx')\n",
    "# applymap 作用于所有行列\n",
    "# apply 作用行或列, axis=0(列), axis=1(行)\n",
    "students.style.applymap(low_score_red, subset=['Test_1', 'Test_2', 'Test_3'])\\\n",
    ".apply(highest_score_green, subset=['Test_1', 'Test_2', 'Test_3'], axis=0)"
   ]
  },
  {
   "cell_type": "code",
   "execution_count": null,
   "metadata": {},
   "outputs": [],
   "source": [
    "page_001 = pd.read_excel('data/Students5.xlsx', sheet_name='Page_001')\n",
    "page_002 = pd.read_excel('data/Students5.xlsx', sheet_name='Page_002')\n",
    "\n",
    "# 合并两张sheet, 并且刷新index\n",
    "students = page_001.append(page_002).reset_index(drop=True)\n",
    "\n",
    "# 追加一行数据\n",
    "stu = pd.Series({'ID': 41, 'Name': 'Abel', 'Score': 99})\n",
    "students = students.append(stu, ignore_index=True)\n",
    "\n",
    "# 修改指定单元格内容\n",
    "students.at[39, 'Name'] = 'kaifa'\n",
    "\n",
    "# 整行数据替换\n",
    "stu = pd.Series({'ID': 38, 'Name': 'Bailey', 'Score': 120})\n",
    "students.iloc[38] = stu\n",
    "\n",
    "# 中间插入一行数据\n",
    "stu = pd.Series({'ID': 101, 'Name': 'Danni', 'Score': 101})\n",
    "part1 = students[:20]    # 半闭半开\n",
    "part2 = students[20:]\n",
    "students = part1.append(stu, ignore_index=True).append(part2).reset_index(drop=True)\n",
    "\n",
    "# 删除指定数据\n",
    "#students.drop(index=[0, 1, 2], inplace=True)\n",
    "#students.drop(index=range(0, 10), inplace=True)\n",
    "\n",
    "# 通过切片删除数据\n",
    "#students.drop(index=students[0:10].index, inplace=True)\n",
    "\n",
    "\n",
    "# 基于条件删除 (删除名字为空的行)\n",
    "for i in range(5, 15):\n",
    "    students['Name'].at[i] = ''\n",
    "missing = students.loc[students['Name'] == '']\n",
    "students.drop(index=missing.index, inplace=True)\n",
    "students = students.reset_index(drop=True)\n",
    "\n",
    "print(students)"
   ]
  },
  {
   "cell_type": "code",
   "execution_count": null,
   "metadata": {},
   "outputs": [],
   "source": [
    "page_001 = pd.read_excel('data/Students5.xlsx', sheet_name='Page_001')\n",
    "page_002 = pd.read_excel('data/Students5.xlsx', sheet_name='Page_002')\n",
    "\n",
    "# 纵向连接两张表\n",
    "students = pd.concat([page_001, page_002]).reset_index(drop=True)\n",
    "\n",
    "# 追加列\n",
    "students['Age'] = np.arange(20, len(students)+20)\n",
    "\n",
    "# 删除列\n",
    "students.drop(columns=['Age', 'Score'], inplace=True)\n",
    "\n",
    "# 插入列\n",
    "students.insert(1, column='Foo', value=np.repeat('foo', len(students)))\n",
    "\n",
    "# 修改列名\n",
    "students.rename(columns={'Foo': 'FOO', 'Name': 'NAME'}, inplace=True)\n",
    "\n",
    "# 只有将 ‘int’ 类型转换成 'float'类型, 才能设置值为‘NaN’\n",
    "students['ID'] = students['ID'].astype(float)\n",
    "for i in range(5, 15):\n",
    "    students['ID'].at[i] = np.nan\n",
    "    \n",
    "# 删除空值的行\n",
    "students.dropna(inplace=True)\n",
    "\n",
    "print(students)"
   ]
  },
  {
   "cell_type": "code",
   "execution_count": null,
   "metadata": {},
   "outputs": [],
   "source": [
    "def get_circumcircle_area(l, h):\n",
    "    r = np.sqrt(l**2 + h**2) / 2\n",
    "    return r**2 * np.pi\n",
    "\n",
    "def wrapper(row):\n",
    "    return get_circumcircle_area(row['Length'], row['Height'])\n",
    "\n",
    "rects = pd.read_excel(\"data/Rectangles.xlsx\", index_col='ID')\n",
    "rects['CA'] = rects.apply(wrapper, axis=1)\n",
    "print(rects)"
   ]
  },
  {
   "cell_type": "code",
   "execution_count": null,
   "metadata": {},
   "outputs": [],
   "source": []
  }
 ],
 "metadata": {
  "kernelspec": {
   "display_name": "Python 3",
   "language": "python",
   "name": "python3"
  },
  "language_info": {
   "codemirror_mode": {
    "name": "ipython",
    "version": 3
   },
   "file_extension": ".py",
   "mimetype": "text/x-python",
   "name": "python",
   "nbconvert_exporter": "python",
   "pygments_lexer": "ipython3",
   "version": "3.6.8"
  },
  "toc": {
   "base_numbering": 1,
   "nav_menu": {},
   "number_sections": true,
   "sideBar": true,
   "skip_h1_title": false,
   "title_cell": "Table of Contents",
   "title_sidebar": "Contents",
   "toc_cell": false,
   "toc_position": {},
   "toc_section_display": true,
   "toc_window_display": false
  },
  "varInspector": {
   "cols": {
    "lenName": "16",
    "lenType": "16",
    "lenVar": 40
   },
   "kernels_config": {
    "python": {
     "delete_cmd_postfix": "",
     "delete_cmd_prefix": "del ",
     "library": "var_list.py",
     "varRefreshCmd": "print(var_dic_list())"
    },
    "r": {
     "delete_cmd_postfix": ") ",
     "delete_cmd_prefix": "rm(",
     "library": "var_list.r",
     "varRefreshCmd": "cat(var_dic_list()) "
    }
   },
   "types_to_exclude": [
    "module",
    "function",
    "builtin_function_or_method",
    "instance",
    "_Feature"
   ],
   "window_display": false
  }
 },
 "nbformat": 4,
 "nbformat_minor": 2
}
