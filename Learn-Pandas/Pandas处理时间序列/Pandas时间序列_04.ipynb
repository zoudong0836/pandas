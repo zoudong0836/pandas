{
 "cells": [
  {
   "cell_type": "markdown",
   "metadata": {},
   "source": [
    "[时间序列之`实例方法与重采样`](https://mp.weixin.qq.com/s/nxjGNSuqKi6LynA2UFiPjw)"
   ]
  },
  {
   "cell_type": "markdown",
   "metadata": {},
   "source": [
    "# 位移与延迟\n",
    "\n",
    "> 有时，需要整体向前或向后移动时间序列里的值，这就是移位与延迟。实现这一操作的方法是`shift()`，该方法适用于所有 Pandas 对象"
   ]
  },
  {
   "cell_type": "code",
   "execution_count": 18,
   "metadata": {},
   "outputs": [
    {
     "data": {
      "text/plain": [
       "DatetimeIndex(['2020-07-09', '2020-07-10', '2020-07-11'], dtype='datetime64[ns]', freq='D')"
      ]
     },
     "execution_count": 18,
     "metadata": {},
     "output_type": "execute_result"
    }
   ],
   "source": [
    "import numpy as np\n",
    "import pandas as pd\n",
    "\n",
    "rng = pd.date_range(start='2020-07-9', periods=3)\n",
    "rng"
   ]
  },
  {
   "cell_type": "code",
   "execution_count": 19,
   "metadata": {},
   "outputs": [
    {
     "data": {
      "text/plain": [
       "2020-07-09    NaN\n",
       "2020-07-10    0.0\n",
       "2020-07-11    1.0\n",
       "Freq: D, dtype: float64"
      ]
     },
     "execution_count": 19,
     "metadata": {},
     "output_type": "execute_result"
    }
   ],
   "source": [
    "ts = pd.Series(range(len(rng)), index=rng)\n",
    "ts = ts[:5]\n",
    "ts.shift(1)"
   ]
  },
  {
   "cell_type": "markdown",
   "metadata": {},
   "source": [
    "## `shift`方法支持`freq`参数，可以把`DateOffset`、`timedelta`对象、偏移量别名作为参数值"
   ]
  },
  {
   "cell_type": "code",
   "execution_count": 20,
   "metadata": {},
   "outputs": [
    {
     "data": {
      "text/plain": [
       "2020-07-09   NaN\n",
       "2020-07-10   NaN\n",
       "2020-07-11   NaN\n",
       "Freq: D, dtype: float64"
      ]
     },
     "execution_count": 20,
     "metadata": {},
     "output_type": "execute_result"
    }
   ],
   "source": [
    "ts.shift(5)"
   ]
  },
  {
   "cell_type": "code",
   "execution_count": 21,
   "metadata": {},
   "outputs": [
    {
     "data": {
      "text/plain": [
       "2020-07-16    0\n",
       "2020-07-17    1\n",
       "2020-07-17    2\n",
       "dtype: int64"
      ]
     },
     "execution_count": 21,
     "metadata": {},
     "output_type": "execute_result"
    }
   ],
   "source": [
    "ts.shift(5, freq=pd.offsets.BDay())"
   ]
  },
  {
   "cell_type": "code",
   "execution_count": 22,
   "metadata": {},
   "outputs": [
    {
     "data": {
      "text/plain": [
       "2020-11-30    0\n",
       "2020-11-30    1\n",
       "2020-11-30    2\n",
       "Freq: D, dtype: int64"
      ]
     },
     "execution_count": 22,
     "metadata": {},
     "output_type": "execute_result"
    }
   ],
   "source": [
    "ts.shift(5, freq='BM')"
   ]
  },
  {
   "cell_type": "markdown",
   "metadata": {},
   "source": [
    "# 频率转换\n",
    "\n",
    "> 改变频率的函数主要是`asfreq()`。对于 DatetimeIndex，这就是一个调用`reindex()`，并生成 date_range 的便捷打包器"
   ]
  },
  {
   "cell_type": "code",
   "execution_count": 23,
   "metadata": {},
   "outputs": [
    {
     "data": {
      "text/plain": [
       "DatetimeIndex(['2010-01-01', '2010-01-06', '2010-01-11'], dtype='datetime64[ns]', freq='3B')"
      ]
     },
     "execution_count": 23,
     "metadata": {},
     "output_type": "execute_result"
    }
   ],
   "source": [
    "dr = pd.date_range('1/1/2010', periods=3, freq=3 * pd.offsets.BDay())\n",
    "dr"
   ]
  },
  {
   "cell_type": "code",
   "execution_count": 24,
   "metadata": {},
   "outputs": [
    {
     "data": {
      "text/plain": [
       "2010-01-01    1.367401\n",
       "2010-01-06   -0.671192\n",
       "2010-01-11   -0.027697\n",
       "Freq: 3B, dtype: float64"
      ]
     },
     "execution_count": 24,
     "metadata": {},
     "output_type": "execute_result"
    }
   ],
   "source": [
    "ts = pd.Series(np.random.randn(3), index=dr)\n",
    "ts"
   ]
  },
  {
   "cell_type": "code",
   "execution_count": 25,
   "metadata": {},
   "outputs": [
    {
     "data": {
      "text/plain": [
       "2010-01-01    1.367401\n",
       "2010-01-04         NaN\n",
       "2010-01-05         NaN\n",
       "2010-01-06   -0.671192\n",
       "2010-01-07         NaN\n",
       "2010-01-08         NaN\n",
       "2010-01-11   -0.027697\n",
       "Freq: B, dtype: float64"
      ]
     },
     "execution_count": 25,
     "metadata": {},
     "output_type": "execute_result"
    }
   ],
   "source": [
    "ts.asfreq(pd.offsets.BDay())"
   ]
  },
  {
   "cell_type": "code",
   "execution_count": 26,
   "metadata": {},
   "outputs": [
    {
     "data": {
      "text/plain": [
       "2010-01-01    1.367401\n",
       "2010-01-04    1.367401\n",
       "2010-01-05    1.367401\n",
       "2010-01-06   -0.671192\n",
       "2010-01-07   -0.671192\n",
       "2010-01-08   -0.671192\n",
       "2010-01-11   -0.027697\n",
       "Freq: B, dtype: float64"
      ]
     },
     "execution_count": 26,
     "metadata": {},
     "output_type": "execute_result"
    }
   ],
   "source": [
    "# 对空值执行向前填充\n",
    "\n",
    "ts.asfreq(pd.offsets.BDay(), method='ffill')"
   ]
  },
  {
   "cell_type": "code",
   "execution_count": 27,
   "metadata": {},
   "outputs": [
    {
     "data": {
      "text/plain": [
       "2010-01-01    1.367401\n",
       "2010-01-04   -0.671192\n",
       "2010-01-05   -0.671192\n",
       "2010-01-06   -0.671192\n",
       "2010-01-07   -0.027697\n",
       "2010-01-08   -0.027697\n",
       "2010-01-11   -0.027697\n",
       "Freq: B, dtype: float64"
      ]
     },
     "execution_count": 27,
     "metadata": {},
     "output_type": "execute_result"
    }
   ],
   "source": [
    "# 对空值执行向后填充\n",
    "\n",
    "ts.asfreq(pd.offsets.BDay(), method='bfill')"
   ]
  },
  {
   "cell_type": "markdown",
   "metadata": {},
   "source": [
    "# 重采样\n",
    "\n",
    "> resample() 是基于时间的分组操作，每个组都遵循归纳方法"
   ]
  },
  {
   "cell_type": "code",
   "execution_count": 29,
   "metadata": {},
   "outputs": [
    {
     "data": {
      "text/plain": [
       "2012-01-01 00:00:00    457\n",
       "2012-01-01 00:00:01    304\n",
       "2012-01-01 00:00:02    387\n",
       "2012-01-01 00:00:03    399\n",
       "2012-01-01 00:00:04    286\n",
       "                      ... \n",
       "2012-01-01 00:01:35    332\n",
       "2012-01-01 00:01:36    231\n",
       "2012-01-01 00:01:37     65\n",
       "2012-01-01 00:01:38    310\n",
       "2012-01-01 00:01:39    472\n",
       "Freq: S, Length: 100, dtype: int64"
      ]
     },
     "execution_count": 29,
     "metadata": {},
     "output_type": "execute_result"
    }
   ],
   "source": [
    "rng = pd.date_range('1/1/2012', periods=100, freq='S')\n",
    "ts = pd.Series(np.random.randint(0, 500, len(rng)), index=rng)\n",
    "ts"
   ]
  },
  {
   "cell_type": "code",
   "execution_count": 30,
   "metadata": {},
   "outputs": [
    {
     "data": {
      "text/plain": [
       "2012-01-01    26754\n",
       "Freq: 5T, dtype: int64"
      ]
     },
     "execution_count": 30,
     "metadata": {},
     "output_type": "execute_result"
    }
   ],
   "source": [
    "ts.resample('5Min').sum()"
   ]
  },
  {
   "cell_type": "markdown",
   "metadata": {},
   "source": [
    "## 可用于`resample`返回对象的常用函数有：sum、mean、std、sem、max、min、mid、median、first、last、ohlc"
   ]
  },
  {
   "cell_type": "code",
   "execution_count": 31,
   "metadata": {},
   "outputs": [
    {
     "data": {
      "text/plain": [
       "2012-01-01    267.54\n",
       "Freq: 5T, dtype: float64"
      ]
     },
     "execution_count": 31,
     "metadata": {},
     "output_type": "execute_result"
    }
   ],
   "source": [
    "ts.resample('5Min').mean()"
   ]
  },
  {
   "cell_type": "code",
   "execution_count": 32,
   "metadata": {},
   "outputs": [
    {
     "data": {
      "text/html": [
       "<div>\n",
       "<style scoped>\n",
       "    .dataframe tbody tr th:only-of-type {\n",
       "        vertical-align: middle;\n",
       "    }\n",
       "\n",
       "    .dataframe tbody tr th {\n",
       "        vertical-align: top;\n",
       "    }\n",
       "\n",
       "    .dataframe thead th {\n",
       "        text-align: right;\n",
       "    }\n",
       "</style>\n",
       "<table border=\"1\" class=\"dataframe\">\n",
       "  <thead>\n",
       "    <tr style=\"text-align: right;\">\n",
       "      <th></th>\n",
       "      <th>open</th>\n",
       "      <th>high</th>\n",
       "      <th>low</th>\n",
       "      <th>close</th>\n",
       "    </tr>\n",
       "  </thead>\n",
       "  <tbody>\n",
       "    <tr>\n",
       "      <th>2012-01-01</th>\n",
       "      <td>457</td>\n",
       "      <td>472</td>\n",
       "      <td>6</td>\n",
       "      <td>472</td>\n",
       "    </tr>\n",
       "  </tbody>\n",
       "</table>\n",
       "</div>"
      ],
      "text/plain": [
       "            open  high  low  close\n",
       "2012-01-01   457   472    6    472"
      ]
     },
     "execution_count": 32,
     "metadata": {},
     "output_type": "execute_result"
    }
   ],
   "source": [
    "ts.resample('5Min').ohlc()"
   ]
  },
  {
   "cell_type": "code",
   "execution_count": 33,
   "metadata": {},
   "outputs": [
    {
     "data": {
      "text/plain": [
       "2012-01-01    472\n",
       "Freq: 5T, dtype: int64"
      ]
     },
     "execution_count": 33,
     "metadata": {},
     "output_type": "execute_result"
    }
   ],
   "source": [
    "ts.resample('5Min').max()"
   ]
  },
  {
   "cell_type": "markdown",
   "metadata": {},
   "source": [
    "## 对于下采样，closed 可以设置为 `left` 或 `right`\n",
    "> + left: 左闭右开区间\n",
    "> + right: 左开右闭区间"
   ]
  },
  {
   "cell_type": "code",
   "execution_count": 34,
   "metadata": {},
   "outputs": [
    {
     "data": {
      "text/plain": [
       "2012-01-01    267.54\n",
       "Freq: 5T, dtype: float64"
      ]
     },
     "execution_count": 34,
     "metadata": {},
     "output_type": "execute_result"
    }
   ],
   "source": [
    "ts.resample(rule='5Min', closed='left').mean()"
   ]
  },
  {
   "cell_type": "code",
   "execution_count": 35,
   "metadata": {},
   "outputs": [
    {
     "data": {
      "text/plain": [
       "2011-12-31 23:55:00    457.000000\n",
       "2012-01-01 00:00:00    265.626263\n",
       "Freq: 5T, dtype: float64"
      ]
     },
     "execution_count": 35,
     "metadata": {},
     "output_type": "execute_result"
    }
   ],
   "source": [
    "ts.resample(rule='5Min', closed='right').mean()"
   ]
  },
  {
   "cell_type": "markdown",
   "metadata": {},
   "source": [
    "> 上例中设置`closed='right'`后，第一个时间点数据`2012-01-01 00:00:00`就得前移一个分组，也就是要落入`2011-12-31 23:55:00`这个分组中"
   ]
  },
  {
   "cell_type": "markdown",
   "metadata": {},
   "source": [
    "## label 和 loffset 作用于生成标签\n",
    "> + label: 指定生成的结果是否为间隔的起始时间\n",
    "> + loffset: 调整输出标签的时间 \n",
    "\n",
    "> 除了 M、A、Q、BM、BA、BQ、W 的默认值是 right 外，其它频率偏移量的 label 与 closed 默认值都是 left"
   ]
  },
  {
   "cell_type": "code",
   "execution_count": 44,
   "metadata": {},
   "outputs": [
    {
     "data": {
      "text/plain": [
       "2011-12-31 23:55:00    457.000000\n",
       "2012-01-01 00:00:00    265.626263\n",
       "Freq: 5T, dtype: float64"
      ]
     },
     "execution_count": 44,
     "metadata": {},
     "output_type": "execute_result"
    }
   ],
   "source": [
    "ts.resample('5Min', closed='right').mean()"
   ]
  },
  {
   "cell_type": "code",
   "execution_count": 45,
   "metadata": {},
   "outputs": [
    {
     "data": {
      "text/plain": [
       "2012-01-01 00:00:00    457.000000\n",
       "2012-01-01 00:05:00    265.626263\n",
       "Freq: 5T, dtype: float64"
      ]
     },
     "execution_count": 45,
     "metadata": {},
     "output_type": "execute_result"
    }
   ],
   "source": [
    "ts.resample('5Min', closed='right', label='right').mean()"
   ]
  },
  {
   "cell_type": "code",
   "execution_count": 46,
   "metadata": {},
   "outputs": [
    {
     "data": {
      "text/plain": [
       "2012-01-01 00:00:05    457.000000\n",
       "2012-01-01 00:05:05    265.626263\n",
       "dtype: float64"
      ]
     },
     "execution_count": 46,
     "metadata": {},
     "output_type": "execute_result"
    }
   ],
   "source": [
    "ts.resample('5Min', closed='right', label='right', loffset='5s').mean()"
   ]
  },
  {
   "cell_type": "markdown",
   "metadata": {},
   "source": [
    "## 上采样"
   ]
  },
  {
   "cell_type": "code",
   "execution_count": 47,
   "metadata": {},
   "outputs": [
    {
     "data": {
      "text/plain": [
       "2012-01-01 00:00:00    457\n",
       "2012-01-01 00:00:01    304\n",
       "Freq: S, dtype: int64"
      ]
     },
     "execution_count": 47,
     "metadata": {},
     "output_type": "execute_result"
    }
   ],
   "source": [
    "ts[:2]"
   ]
  },
  {
   "cell_type": "code",
   "execution_count": 50,
   "metadata": {},
   "outputs": [
    {
     "data": {
      "text/plain": [
       "<pandas.core.resample.DatetimeIndexResampler object at 0x7f8cc87ddef0>"
      ]
     },
     "execution_count": 50,
     "metadata": {},
     "output_type": "execute_result"
    }
   ],
   "source": [
    "ts[:2].resample('250L')"
   ]
  },
  {
   "cell_type": "code",
   "execution_count": 51,
   "metadata": {},
   "outputs": [
    {
     "data": {
      "text/plain": [
       "2012-01-01 00:00:00.000    457.0\n",
       "2012-01-01 00:00:00.250      NaN\n",
       "2012-01-01 00:00:00.500      NaN\n",
       "2012-01-01 00:00:00.750      NaN\n",
       "2012-01-01 00:00:01.000    304.0\n",
       "Freq: 250L, dtype: float64"
      ]
     },
     "execution_count": 51,
     "metadata": {},
     "output_type": "execute_result"
    }
   ],
   "source": [
    "# 向上采样，从秒到每250毫秒\n",
    "\n",
    "ts[:2].resample('250L').asfreq()"
   ]
  },
  {
   "cell_type": "code",
   "execution_count": 52,
   "metadata": {},
   "outputs": [
    {
     "data": {
      "text/plain": [
       "2012-01-01 00:00:00.000    457\n",
       "2012-01-01 00:00:00.250    457\n",
       "2012-01-01 00:00:00.500    457\n",
       "2012-01-01 00:00:00.750    457\n",
       "2012-01-01 00:00:01.000    304\n",
       "Freq: 250L, dtype: int64"
      ]
     },
     "execution_count": 52,
     "metadata": {},
     "output_type": "execute_result"
    }
   ],
   "source": [
    "ts[:2].resample('250L').ffill()"
   ]
  },
  {
   "cell_type": "code",
   "execution_count": 53,
   "metadata": {},
   "outputs": [
    {
     "data": {
      "text/plain": [
       "2012-01-01 00:00:00.000    457.0\n",
       "2012-01-01 00:00:00.250    457.0\n",
       "2012-01-01 00:00:00.500    457.0\n",
       "2012-01-01 00:00:00.750      NaN\n",
       "2012-01-01 00:00:01.000    304.0\n",
       "Freq: 250L, dtype: float64"
      ]
     },
     "execution_count": 53,
     "metadata": {},
     "output_type": "execute_result"
    }
   ],
   "source": [
    "ts[:2].resample('250L').ffill(limit=2)"
   ]
  },
  {
   "cell_type": "code",
   "execution_count": 54,
   "metadata": {},
   "outputs": [
    {
     "data": {
      "text/plain": [
       "2012-01-01 00:00:00.000    457\n",
       "2012-01-01 00:00:00.250    304\n",
       "2012-01-01 00:00:00.500    304\n",
       "2012-01-01 00:00:00.750    304\n",
       "2012-01-01 00:00:01.000    304\n",
       "Freq: 250L, dtype: int64"
      ]
     },
     "execution_count": 54,
     "metadata": {},
     "output_type": "execute_result"
    }
   ],
   "source": [
    "ts[:2].resample('250L').bfill()"
   ]
  },
  {
   "cell_type": "code",
   "execution_count": null,
   "metadata": {},
   "outputs": [],
   "source": []
  }
 ],
 "metadata": {
  "kernelspec": {
   "display_name": "Python 3",
   "language": "python",
   "name": "python3"
  },
  "language_info": {
   "codemirror_mode": {
    "name": "ipython",
    "version": 3
   },
   "file_extension": ".py",
   "mimetype": "text/x-python",
   "name": "python",
   "nbconvert_exporter": "python",
   "pygments_lexer": "ipython3",
   "version": "3.6.7"
  }
 },
 "nbformat": 4,
 "nbformat_minor": 4
}
