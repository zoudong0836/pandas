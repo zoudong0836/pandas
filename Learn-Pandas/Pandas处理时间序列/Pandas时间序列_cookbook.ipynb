{
 "cells": [
  {
   "cell_type": "code",
   "execution_count": 33,
   "metadata": {},
   "outputs": [],
   "source": [
    "import datetime\n",
    "\n",
    "import numpy as np\n",
    "import pandas as pd"
   ]
  },
  {
   "cell_type": "code",
   "execution_count": 5,
   "metadata": {},
   "outputs": [
    {
     "data": {
      "text/html": [
       "<div>\n",
       "<style scoped>\n",
       "    .dataframe tbody tr th:only-of-type {\n",
       "        vertical-align: middle;\n",
       "    }\n",
       "\n",
       "    .dataframe tbody tr th {\n",
       "        vertical-align: top;\n",
       "    }\n",
       "\n",
       "    .dataframe thead th {\n",
       "        text-align: right;\n",
       "    }\n",
       "</style>\n",
       "<table border=\"1\" class=\"dataframe\">\n",
       "  <thead>\n",
       "    <tr style=\"text-align: right;\">\n",
       "      <th></th>\n",
       "      <th>OFFENSE_TYPE_ID</th>\n",
       "      <th>OFFENSE_CATEGORY_ID</th>\n",
       "      <th>GEO_LON</th>\n",
       "      <th>GEO_LAT</th>\n",
       "      <th>NEIGHBORHOOD_ID</th>\n",
       "      <th>IS_CRIME</th>\n",
       "      <th>IS_TRAFFIC</th>\n",
       "    </tr>\n",
       "    <tr>\n",
       "      <th>REPORTED_DATE</th>\n",
       "      <th></th>\n",
       "      <th></th>\n",
       "      <th></th>\n",
       "      <th></th>\n",
       "      <th></th>\n",
       "      <th></th>\n",
       "      <th></th>\n",
       "    </tr>\n",
       "  </thead>\n",
       "  <tbody>\n",
       "    <tr>\n",
       "      <th>2014-06-29 02:01:00</th>\n",
       "      <td>traffic-accident-dui-duid</td>\n",
       "      <td>traffic-accident</td>\n",
       "      <td>-105.000149</td>\n",
       "      <td>39.745753</td>\n",
       "      <td>cbd</td>\n",
       "      <td>0</td>\n",
       "      <td>1</td>\n",
       "    </tr>\n",
       "    <tr>\n",
       "      <th>2014-06-29 01:54:00</th>\n",
       "      <td>vehicular-eluding-no-chase</td>\n",
       "      <td>all-other-crimes</td>\n",
       "      <td>-104.884660</td>\n",
       "      <td>39.738702</td>\n",
       "      <td>east-colfax</td>\n",
       "      <td>1</td>\n",
       "      <td>0</td>\n",
       "    </tr>\n",
       "    <tr>\n",
       "      <th>2014-06-29 02:00:00</th>\n",
       "      <td>disturbing-the-peace</td>\n",
       "      <td>public-disorder</td>\n",
       "      <td>-105.020719</td>\n",
       "      <td>39.706674</td>\n",
       "      <td>athmar-park</td>\n",
       "      <td>1</td>\n",
       "      <td>0</td>\n",
       "    </tr>\n",
       "    <tr>\n",
       "      <th>2014-06-29 02:18:00</th>\n",
       "      <td>curfew</td>\n",
       "      <td>public-disorder</td>\n",
       "      <td>-105.001552</td>\n",
       "      <td>39.769505</td>\n",
       "      <td>sunnyside</td>\n",
       "      <td>1</td>\n",
       "      <td>0</td>\n",
       "    </tr>\n",
       "    <tr>\n",
       "      <th>2014-06-29 04:17:00</th>\n",
       "      <td>aggravated-assault</td>\n",
       "      <td>aggravated-assault</td>\n",
       "      <td>-105.018557</td>\n",
       "      <td>39.679229</td>\n",
       "      <td>college-view-south-platte</td>\n",
       "      <td>1</td>\n",
       "      <td>0</td>\n",
       "    </tr>\n",
       "  </tbody>\n",
       "</table>\n",
       "</div>"
      ],
      "text/plain": [
       "                                OFFENSE_TYPE_ID OFFENSE_CATEGORY_ID  \\\n",
       "REPORTED_DATE                                                         \n",
       "2014-06-29 02:01:00   traffic-accident-dui-duid    traffic-accident   \n",
       "2014-06-29 01:54:00  vehicular-eluding-no-chase    all-other-crimes   \n",
       "2014-06-29 02:00:00        disturbing-the-peace     public-disorder   \n",
       "2014-06-29 02:18:00                      curfew     public-disorder   \n",
       "2014-06-29 04:17:00          aggravated-assault  aggravated-assault   \n",
       "\n",
       "                        GEO_LON    GEO_LAT            NEIGHBORHOOD_ID  \\\n",
       "REPORTED_DATE                                                           \n",
       "2014-06-29 02:01:00 -105.000149  39.745753                        cbd   \n",
       "2014-06-29 01:54:00 -104.884660  39.738702                east-colfax   \n",
       "2014-06-29 02:00:00 -105.020719  39.706674                athmar-park   \n",
       "2014-06-29 02:18:00 -105.001552  39.769505                  sunnyside   \n",
       "2014-06-29 04:17:00 -105.018557  39.679229  college-view-south-platte   \n",
       "\n",
       "                     IS_CRIME  IS_TRAFFIC  \n",
       "REPORTED_DATE                              \n",
       "2014-06-29 02:01:00         0           1  \n",
       "2014-06-29 01:54:00         1           0  \n",
       "2014-06-29 02:00:00         1           0  \n",
       "2014-06-29 02:18:00         1           0  \n",
       "2014-06-29 04:17:00         1           0  "
      ]
     },
     "execution_count": 5,
     "metadata": {},
     "output_type": "execute_result"
    }
   ],
   "source": [
    "crime = pd.read_hdf('data/crime.h5', 'crime')\n",
    "crime.set_index('REPORTED_DATE', inplace=True)\n",
    "crime.head()"
   ]
  },
  {
   "cell_type": "markdown",
   "metadata": {},
   "source": [
    "# 通过行索引进行切片"
   ]
  },
  {
   "cell_type": "code",
   "execution_count": 9,
   "metadata": {},
   "outputs": [
    {
     "data": {
      "text/html": [
       "<div>\n",
       "<style scoped>\n",
       "    .dataframe tbody tr th:only-of-type {\n",
       "        vertical-align: middle;\n",
       "    }\n",
       "\n",
       "    .dataframe tbody tr th {\n",
       "        vertical-align: top;\n",
       "    }\n",
       "\n",
       "    .dataframe thead th {\n",
       "        text-align: right;\n",
       "    }\n",
       "</style>\n",
       "<table border=\"1\" class=\"dataframe\">\n",
       "  <thead>\n",
       "    <tr style=\"text-align: right;\">\n",
       "      <th></th>\n",
       "      <th>OFFENSE_TYPE_ID</th>\n",
       "      <th>OFFENSE_CATEGORY_ID</th>\n",
       "      <th>GEO_LON</th>\n",
       "      <th>GEO_LAT</th>\n",
       "      <th>NEIGHBORHOOD_ID</th>\n",
       "      <th>IS_CRIME</th>\n",
       "      <th>IS_TRAFFIC</th>\n",
       "    </tr>\n",
       "    <tr>\n",
       "      <th>REPORTED_DATE</th>\n",
       "      <th></th>\n",
       "      <th></th>\n",
       "      <th></th>\n",
       "      <th></th>\n",
       "      <th></th>\n",
       "      <th></th>\n",
       "      <th></th>\n",
       "    </tr>\n",
       "  </thead>\n",
       "  <tbody>\n",
       "    <tr>\n",
       "      <th>2014-06-29 02:18:00</th>\n",
       "      <td>curfew</td>\n",
       "      <td>public-disorder</td>\n",
       "      <td>-105.001552</td>\n",
       "      <td>39.769505</td>\n",
       "      <td>sunnyside</td>\n",
       "      <td>1</td>\n",
       "      <td>0</td>\n",
       "    </tr>\n",
       "  </tbody>\n",
       "</table>\n",
       "</div>"
      ],
      "text/plain": [
       "                    OFFENSE_TYPE_ID OFFENSE_CATEGORY_ID     GEO_LON  \\\n",
       "REPORTED_DATE                                                         \n",
       "2014-06-29 02:18:00          curfew     public-disorder -105.001552   \n",
       "\n",
       "                       GEO_LAT NEIGHBORHOOD_ID  IS_CRIME  IS_TRAFFIC  \n",
       "REPORTED_DATE                                                         \n",
       "2014-06-29 02:18:00  39.769505       sunnyside         1           0  "
      ]
     },
     "execution_count": 9,
     "metadata": {},
     "output_type": "execute_result"
    }
   ],
   "source": [
    "crime.loc['2014-06-29 02:18:00']"
   ]
  },
  {
   "cell_type": "code",
   "execution_count": 10,
   "metadata": {},
   "outputs": [
    {
     "data": {
      "text/html": [
       "<div>\n",
       "<style scoped>\n",
       "    .dataframe tbody tr th:only-of-type {\n",
       "        vertical-align: middle;\n",
       "    }\n",
       "\n",
       "    .dataframe tbody tr th {\n",
       "        vertical-align: top;\n",
       "    }\n",
       "\n",
       "    .dataframe thead th {\n",
       "        text-align: right;\n",
       "    }\n",
       "</style>\n",
       "<table border=\"1\" class=\"dataframe\">\n",
       "  <thead>\n",
       "    <tr style=\"text-align: right;\">\n",
       "      <th></th>\n",
       "      <th>OFFENSE_TYPE_ID</th>\n",
       "      <th>OFFENSE_CATEGORY_ID</th>\n",
       "      <th>GEO_LON</th>\n",
       "      <th>GEO_LAT</th>\n",
       "      <th>NEIGHBORHOOD_ID</th>\n",
       "      <th>IS_CRIME</th>\n",
       "      <th>IS_TRAFFIC</th>\n",
       "    </tr>\n",
       "    <tr>\n",
       "      <th>REPORTED_DATE</th>\n",
       "      <th></th>\n",
       "      <th></th>\n",
       "      <th></th>\n",
       "      <th></th>\n",
       "      <th></th>\n",
       "      <th></th>\n",
       "      <th></th>\n",
       "    </tr>\n",
       "  </thead>\n",
       "  <tbody>\n",
       "    <tr>\n",
       "      <th>2016-05-12 16:45:00</th>\n",
       "      <td>traffic-accident</td>\n",
       "      <td>traffic-accident</td>\n",
       "      <td>-104.847024</td>\n",
       "      <td>39.779596</td>\n",
       "      <td>montbello</td>\n",
       "      <td>0</td>\n",
       "      <td>1</td>\n",
       "    </tr>\n",
       "    <tr>\n",
       "      <th>2016-05-12 16:45:00</th>\n",
       "      <td>traffic-accident</td>\n",
       "      <td>traffic-accident</td>\n",
       "      <td>-105.049180</td>\n",
       "      <td>39.769296</td>\n",
       "      <td>west-highland</td>\n",
       "      <td>0</td>\n",
       "      <td>1</td>\n",
       "    </tr>\n",
       "    <tr>\n",
       "      <th>2016-05-12 16:45:00</th>\n",
       "      <td>fraud-identity-theft</td>\n",
       "      <td>white-collar-crime</td>\n",
       "      <td>-104.931971</td>\n",
       "      <td>39.717359</td>\n",
       "      <td>hilltop</td>\n",
       "      <td>1</td>\n",
       "      <td>0</td>\n",
       "    </tr>\n",
       "  </tbody>\n",
       "</table>\n",
       "</div>"
      ],
      "text/plain": [
       "                          OFFENSE_TYPE_ID OFFENSE_CATEGORY_ID     GEO_LON  \\\n",
       "REPORTED_DATE                                                               \n",
       "2016-05-12 16:45:00      traffic-accident    traffic-accident -104.847024   \n",
       "2016-05-12 16:45:00      traffic-accident    traffic-accident -105.049180   \n",
       "2016-05-12 16:45:00  fraud-identity-theft  white-collar-crime -104.931971   \n",
       "\n",
       "                       GEO_LAT NEIGHBORHOOD_ID  IS_CRIME  IS_TRAFFIC  \n",
       "REPORTED_DATE                                                         \n",
       "2016-05-12 16:45:00  39.779596       montbello         0           1  \n",
       "2016-05-12 16:45:00  39.769296   west-highland         0           1  \n",
       "2016-05-12 16:45:00  39.717359         hilltop         1           0  "
      ]
     },
     "execution_count": 10,
     "metadata": {},
     "output_type": "execute_result"
    }
   ],
   "source": [
    "crime.loc['2016-05-12 16:45:00']"
   ]
  },
  {
   "cell_type": "code",
   "execution_count": 14,
   "metadata": {},
   "outputs": [
    {
     "data": {
      "text/plain": [
       "(75403, 7)"
      ]
     },
     "execution_count": 14,
     "metadata": {},
     "output_type": "execute_result"
    }
   ],
   "source": [
    "crime.loc['2015-3-4' : '2016-1-1'].shape"
   ]
  },
  {
   "cell_type": "markdown",
   "metadata": {},
   "source": [
    "# 用`between_time`筛选数据"
   ]
  },
  {
   "cell_type": "code",
   "execution_count": 18,
   "metadata": {},
   "outputs": [
    {
     "data": {
      "text/plain": [
       "(29229, 7)"
      ]
     },
     "execution_count": 18,
     "metadata": {},
     "output_type": "execute_result"
    }
   ],
   "source": [
    "crime.between_time(start_time='2:00', end_time='5:00', include_end=True).shape"
   ]
  },
  {
   "cell_type": "code",
   "execution_count": 19,
   "metadata": {},
   "outputs": [
    {
     "data": {
      "text/plain": [
       "(29078, 7)"
      ]
     },
     "execution_count": 19,
     "metadata": {},
     "output_type": "execute_result"
    }
   ],
   "source": [
    "crime.between_time(start_time='2:00', end_time='5:00', include_end=False).shape"
   ]
  },
  {
   "cell_type": "code",
   "execution_count": 35,
   "metadata": {},
   "outputs": [
    {
     "data": {
      "text/plain": [
       "(29229, 7)"
      ]
     },
     "execution_count": 35,
     "metadata": {},
     "output_type": "execute_result"
    }
   ],
   "source": [
    "crime.between_time(start_time=datetime.time(2, 0), end_time=datetime.time(5, 0)).shape"
   ]
  },
  {
   "cell_type": "markdown",
   "metadata": {},
   "source": [
    "# 用`at_time`方法选取特定时间"
   ]
  },
  {
   "cell_type": "code",
   "execution_count": 20,
   "metadata": {},
   "outputs": [
    {
     "data": {
      "text/plain": [
       "(118, 7)"
      ]
     },
     "execution_count": 20,
     "metadata": {},
     "output_type": "execute_result"
    }
   ],
   "source": [
    "crime.at_time('5:47').shape"
   ]
  },
  {
   "cell_type": "code",
   "execution_count": 21,
   "metadata": {
    "collapsed": true,
    "jupyter": {
     "outputs_hidden": true
    }
   },
   "outputs": [
    {
     "ename": "KeyError",
     "evalue": "'5:47'",
     "output_type": "error",
     "traceback": [
      "\u001b[0;31m---------------------------------------------------------------------------\u001b[0m",
      "\u001b[0;31mKeyError\u001b[0m                                  Traceback (most recent call last)",
      "\u001b[0;32m/usr/local/lib/python3.6/dist-packages/pandas/core/indexes/base.py\u001b[0m in \u001b[0;36mget_loc\u001b[0;34m(self, key, method, tolerance)\u001b[0m\n\u001b[1;32m   2645\u001b[0m             \u001b[0;32mtry\u001b[0m\u001b[0;34m:\u001b[0m\u001b[0;34m\u001b[0m\u001b[0;34m\u001b[0m\u001b[0m\n\u001b[0;32m-> 2646\u001b[0;31m                 \u001b[0;32mreturn\u001b[0m \u001b[0mself\u001b[0m\u001b[0;34m.\u001b[0m\u001b[0m_engine\u001b[0m\u001b[0;34m.\u001b[0m\u001b[0mget_loc\u001b[0m\u001b[0;34m(\u001b[0m\u001b[0mkey\u001b[0m\u001b[0;34m)\u001b[0m\u001b[0;34m\u001b[0m\u001b[0;34m\u001b[0m\u001b[0m\n\u001b[0m\u001b[1;32m   2647\u001b[0m             \u001b[0;32mexcept\u001b[0m \u001b[0mKeyError\u001b[0m\u001b[0;34m:\u001b[0m\u001b[0;34m\u001b[0m\u001b[0;34m\u001b[0m\u001b[0m\n",
      "\u001b[0;32mpandas/_libs/index.pyx\u001b[0m in \u001b[0;36mpandas._libs.index.IndexEngine.get_loc\u001b[0;34m()\u001b[0m\n",
      "\u001b[0;32mpandas/_libs/index.pyx\u001b[0m in \u001b[0;36mpandas._libs.index.IndexEngine.get_loc\u001b[0;34m()\u001b[0m\n",
      "\u001b[0;32mpandas/_libs/hashtable_class_helper.pxi\u001b[0m in \u001b[0;36mpandas._libs.hashtable.PyObjectHashTable.get_item\u001b[0;34m()\u001b[0m\n",
      "\u001b[0;32mpandas/_libs/hashtable_class_helper.pxi\u001b[0m in \u001b[0;36mpandas._libs.hashtable.PyObjectHashTable.get_item\u001b[0;34m()\u001b[0m\n",
      "\u001b[0;31mKeyError\u001b[0m: '5:47'",
      "\nDuring handling of the above exception, another exception occurred:\n",
      "\u001b[0;31mKeyError\u001b[0m                                  Traceback (most recent call last)",
      "\u001b[0;32m<ipython-input-21-8ed5b50b689a>\u001b[0m in \u001b[0;36m<module>\u001b[0;34m\u001b[0m\n\u001b[0;32m----> 1\u001b[0;31m \u001b[0mcrime\u001b[0m\u001b[0;34m[\u001b[0m\u001b[0;34m'5:47'\u001b[0m\u001b[0;34m]\u001b[0m\u001b[0;34m.\u001b[0m\u001b[0mshape\u001b[0m\u001b[0;34m\u001b[0m\u001b[0;34m\u001b[0m\u001b[0m\n\u001b[0m",
      "\u001b[0;32m/usr/local/lib/python3.6/dist-packages/pandas/core/frame.py\u001b[0m in \u001b[0;36m__getitem__\u001b[0;34m(self, key)\u001b[0m\n\u001b[1;32m   2798\u001b[0m             \u001b[0;32mif\u001b[0m \u001b[0mself\u001b[0m\u001b[0;34m.\u001b[0m\u001b[0mcolumns\u001b[0m\u001b[0;34m.\u001b[0m\u001b[0mnlevels\u001b[0m \u001b[0;34m>\u001b[0m \u001b[0;36m1\u001b[0m\u001b[0;34m:\u001b[0m\u001b[0;34m\u001b[0m\u001b[0;34m\u001b[0m\u001b[0m\n\u001b[1;32m   2799\u001b[0m                 \u001b[0;32mreturn\u001b[0m \u001b[0mself\u001b[0m\u001b[0;34m.\u001b[0m\u001b[0m_getitem_multilevel\u001b[0m\u001b[0;34m(\u001b[0m\u001b[0mkey\u001b[0m\u001b[0;34m)\u001b[0m\u001b[0;34m\u001b[0m\u001b[0;34m\u001b[0m\u001b[0m\n\u001b[0;32m-> 2800\u001b[0;31m             \u001b[0mindexer\u001b[0m \u001b[0;34m=\u001b[0m \u001b[0mself\u001b[0m\u001b[0;34m.\u001b[0m\u001b[0mcolumns\u001b[0m\u001b[0;34m.\u001b[0m\u001b[0mget_loc\u001b[0m\u001b[0;34m(\u001b[0m\u001b[0mkey\u001b[0m\u001b[0;34m)\u001b[0m\u001b[0;34m\u001b[0m\u001b[0;34m\u001b[0m\u001b[0m\n\u001b[0m\u001b[1;32m   2801\u001b[0m             \u001b[0;32mif\u001b[0m \u001b[0mis_integer\u001b[0m\u001b[0;34m(\u001b[0m\u001b[0mindexer\u001b[0m\u001b[0;34m)\u001b[0m\u001b[0;34m:\u001b[0m\u001b[0;34m\u001b[0m\u001b[0;34m\u001b[0m\u001b[0m\n\u001b[1;32m   2802\u001b[0m                 \u001b[0mindexer\u001b[0m \u001b[0;34m=\u001b[0m \u001b[0;34m[\u001b[0m\u001b[0mindexer\u001b[0m\u001b[0;34m]\u001b[0m\u001b[0;34m\u001b[0m\u001b[0;34m\u001b[0m\u001b[0m\n",
      "\u001b[0;32m/usr/local/lib/python3.6/dist-packages/pandas/core/indexes/base.py\u001b[0m in \u001b[0;36mget_loc\u001b[0;34m(self, key, method, tolerance)\u001b[0m\n\u001b[1;32m   2646\u001b[0m                 \u001b[0;32mreturn\u001b[0m \u001b[0mself\u001b[0m\u001b[0;34m.\u001b[0m\u001b[0m_engine\u001b[0m\u001b[0;34m.\u001b[0m\u001b[0mget_loc\u001b[0m\u001b[0;34m(\u001b[0m\u001b[0mkey\u001b[0m\u001b[0;34m)\u001b[0m\u001b[0;34m\u001b[0m\u001b[0;34m\u001b[0m\u001b[0m\n\u001b[1;32m   2647\u001b[0m             \u001b[0;32mexcept\u001b[0m \u001b[0mKeyError\u001b[0m\u001b[0;34m:\u001b[0m\u001b[0;34m\u001b[0m\u001b[0;34m\u001b[0m\u001b[0m\n\u001b[0;32m-> 2648\u001b[0;31m                 \u001b[0;32mreturn\u001b[0m \u001b[0mself\u001b[0m\u001b[0;34m.\u001b[0m\u001b[0m_engine\u001b[0m\u001b[0;34m.\u001b[0m\u001b[0mget_loc\u001b[0m\u001b[0;34m(\u001b[0m\u001b[0mself\u001b[0m\u001b[0;34m.\u001b[0m\u001b[0m_maybe_cast_indexer\u001b[0m\u001b[0;34m(\u001b[0m\u001b[0mkey\u001b[0m\u001b[0;34m)\u001b[0m\u001b[0;34m)\u001b[0m\u001b[0;34m\u001b[0m\u001b[0;34m\u001b[0m\u001b[0m\n\u001b[0m\u001b[1;32m   2649\u001b[0m         \u001b[0mindexer\u001b[0m \u001b[0;34m=\u001b[0m \u001b[0mself\u001b[0m\u001b[0;34m.\u001b[0m\u001b[0mget_indexer\u001b[0m\u001b[0;34m(\u001b[0m\u001b[0;34m[\u001b[0m\u001b[0mkey\u001b[0m\u001b[0;34m]\u001b[0m\u001b[0;34m,\u001b[0m \u001b[0mmethod\u001b[0m\u001b[0;34m=\u001b[0m\u001b[0mmethod\u001b[0m\u001b[0;34m,\u001b[0m \u001b[0mtolerance\u001b[0m\u001b[0;34m=\u001b[0m\u001b[0mtolerance\u001b[0m\u001b[0;34m)\u001b[0m\u001b[0;34m\u001b[0m\u001b[0;34m\u001b[0m\u001b[0m\n\u001b[1;32m   2650\u001b[0m         \u001b[0;32mif\u001b[0m \u001b[0mindexer\u001b[0m\u001b[0;34m.\u001b[0m\u001b[0mndim\u001b[0m \u001b[0;34m>\u001b[0m \u001b[0;36m1\u001b[0m \u001b[0;32mor\u001b[0m \u001b[0mindexer\u001b[0m\u001b[0;34m.\u001b[0m\u001b[0msize\u001b[0m \u001b[0;34m>\u001b[0m \u001b[0;36m1\u001b[0m\u001b[0;34m:\u001b[0m\u001b[0;34m\u001b[0m\u001b[0;34m\u001b[0m\u001b[0m\n",
      "\u001b[0;32mpandas/_libs/index.pyx\u001b[0m in \u001b[0;36mpandas._libs.index.IndexEngine.get_loc\u001b[0;34m()\u001b[0m\n",
      "\u001b[0;32mpandas/_libs/index.pyx\u001b[0m in \u001b[0;36mpandas._libs.index.IndexEngine.get_loc\u001b[0;34m()\u001b[0m\n",
      "\u001b[0;32mpandas/_libs/hashtable_class_helper.pxi\u001b[0m in \u001b[0;36mpandas._libs.hashtable.PyObjectHashTable.get_item\u001b[0;34m()\u001b[0m\n",
      "\u001b[0;32mpandas/_libs/hashtable_class_helper.pxi\u001b[0m in \u001b[0;36mpandas._libs.hashtable.PyObjectHashTable.get_item\u001b[0;34m()\u001b[0m\n",
      "\u001b[0;31mKeyError\u001b[0m: '5:47'"
     ]
    }
   ],
   "source": [
    "crime['5:47'].shape"
   ]
  },
  {
   "cell_type": "markdown",
   "metadata": {},
   "source": [
    "# 用`first`方法可以选取排在前面的n个时间\n",
    "\n",
    "> 使用行索引中的第一个值作为起点，加上偏移量"
   ]
  },
  {
   "cell_type": "code",
   "execution_count": 25,
   "metadata": {},
   "outputs": [],
   "source": [
    "crime_sort = crime.sort_index()"
   ]
  },
  {
   "cell_type": "code",
   "execution_count": 28,
   "metadata": {},
   "outputs": [
    {
     "data": {
      "text/html": [
       "<div>\n",
       "<style scoped>\n",
       "    .dataframe tbody tr th:only-of-type {\n",
       "        vertical-align: middle;\n",
       "    }\n",
       "\n",
       "    .dataframe tbody tr th {\n",
       "        vertical-align: top;\n",
       "    }\n",
       "\n",
       "    .dataframe thead th {\n",
       "        text-align: right;\n",
       "    }\n",
       "</style>\n",
       "<table border=\"1\" class=\"dataframe\">\n",
       "  <thead>\n",
       "    <tr style=\"text-align: right;\">\n",
       "      <th></th>\n",
       "      <th>OFFENSE_TYPE_ID</th>\n",
       "      <th>OFFENSE_CATEGORY_ID</th>\n",
       "      <th>GEO_LON</th>\n",
       "      <th>GEO_LAT</th>\n",
       "      <th>NEIGHBORHOOD_ID</th>\n",
       "      <th>IS_CRIME</th>\n",
       "      <th>IS_TRAFFIC</th>\n",
       "    </tr>\n",
       "    <tr>\n",
       "      <th>REPORTED_DATE</th>\n",
       "      <th></th>\n",
       "      <th></th>\n",
       "      <th></th>\n",
       "      <th></th>\n",
       "      <th></th>\n",
       "      <th></th>\n",
       "      <th></th>\n",
       "    </tr>\n",
       "  </thead>\n",
       "  <tbody>\n",
       "    <tr>\n",
       "      <th>2012-01-02 00:06:00</th>\n",
       "      <td>aggravated-assault</td>\n",
       "      <td>aggravated-assault</td>\n",
       "      <td>-104.816860</td>\n",
       "      <td>39.796717</td>\n",
       "      <td>montbello</td>\n",
       "      <td>1</td>\n",
       "      <td>0</td>\n",
       "    </tr>\n",
       "    <tr>\n",
       "      <th>2012-01-02 00:06:00</th>\n",
       "      <td>violation-of-restraining-order</td>\n",
       "      <td>all-other-crimes</td>\n",
       "      <td>-104.816860</td>\n",
       "      <td>39.796717</td>\n",
       "      <td>montbello</td>\n",
       "      <td>1</td>\n",
       "      <td>0</td>\n",
       "    </tr>\n",
       "    <tr>\n",
       "      <th>2012-01-02 00:16:00</th>\n",
       "      <td>traffic-accident-dui-duid</td>\n",
       "      <td>traffic-accident</td>\n",
       "      <td>-104.971851</td>\n",
       "      <td>39.736874</td>\n",
       "      <td>cheesman-park</td>\n",
       "      <td>0</td>\n",
       "      <td>1</td>\n",
       "    </tr>\n",
       "    <tr>\n",
       "      <th>2012-01-02 00:47:00</th>\n",
       "      <td>traffic-accident</td>\n",
       "      <td>traffic-accident</td>\n",
       "      <td>-104.951824</td>\n",
       "      <td>39.740168</td>\n",
       "      <td>congress-park</td>\n",
       "      <td>0</td>\n",
       "      <td>1</td>\n",
       "    </tr>\n",
       "    <tr>\n",
       "      <th>2012-01-02 01:35:00</th>\n",
       "      <td>aggravated-assault</td>\n",
       "      <td>aggravated-assault</td>\n",
       "      <td>-104.998131</td>\n",
       "      <td>39.749922</td>\n",
       "      <td>union-station</td>\n",
       "      <td>1</td>\n",
       "      <td>0</td>\n",
       "    </tr>\n",
       "  </tbody>\n",
       "</table>\n",
       "</div>"
      ],
      "text/plain": [
       "                                    OFFENSE_TYPE_ID OFFENSE_CATEGORY_ID  \\\n",
       "REPORTED_DATE                                                             \n",
       "2012-01-02 00:06:00              aggravated-assault  aggravated-assault   \n",
       "2012-01-02 00:06:00  violation-of-restraining-order    all-other-crimes   \n",
       "2012-01-02 00:16:00       traffic-accident-dui-duid    traffic-accident   \n",
       "2012-01-02 00:47:00                traffic-accident    traffic-accident   \n",
       "2012-01-02 01:35:00              aggravated-assault  aggravated-assault   \n",
       "\n",
       "                        GEO_LON    GEO_LAT NEIGHBORHOOD_ID  IS_CRIME  \\\n",
       "REPORTED_DATE                                                          \n",
       "2012-01-02 00:06:00 -104.816860  39.796717       montbello         1   \n",
       "2012-01-02 00:06:00 -104.816860  39.796717       montbello         1   \n",
       "2012-01-02 00:16:00 -104.971851  39.736874   cheesman-park         0   \n",
       "2012-01-02 00:47:00 -104.951824  39.740168   congress-park         0   \n",
       "2012-01-02 01:35:00 -104.998131  39.749922   union-station         1   \n",
       "\n",
       "                     IS_TRAFFIC  \n",
       "REPORTED_DATE                    \n",
       "2012-01-02 00:06:00           0  \n",
       "2012-01-02 00:06:00           0  \n",
       "2012-01-02 00:16:00           1  \n",
       "2012-01-02 00:47:00           1  \n",
       "2012-01-02 01:35:00           0  "
      ]
     },
     "execution_count": 28,
     "metadata": {},
     "output_type": "execute_result"
    }
   ],
   "source": [
    "crime_sort.first('2H')"
   ]
  },
  {
   "cell_type": "code",
   "execution_count": 30,
   "metadata": {},
   "outputs": [
    {
     "data": {
      "text/plain": [
       "(6708, 7)"
      ]
     },
     "execution_count": 30,
     "metadata": {},
     "output_type": "execute_result"
    }
   ],
   "source": [
    "# 前7周的数据\n",
    "\n",
    "crime_sort.first('7W').shape"
   ]
  },
  {
   "cell_type": "code",
   "execution_count": 32,
   "metadata": {},
   "outputs": [
    {
     "data": {
      "text/plain": [
       "(879, 7)"
      ]
     },
     "execution_count": 32,
     "metadata": {},
     "output_type": "execute_result"
    }
   ],
   "source": [
    "# 前5个工作日的数据\n",
    "\n",
    "crime_sort.first('5B').shape"
   ]
  },
  {
   "cell_type": "markdown",
   "metadata": {},
   "source": [
    "# 时间偏移量"
   ]
  },
  {
   "cell_type": "code",
   "execution_count": 36,
   "metadata": {},
   "outputs": [
    {
     "data": {
      "text/plain": [
       "Timestamp('2012-01-02 00:06:00')"
      ]
     },
     "execution_count": 36,
     "metadata": {},
     "output_type": "execute_result"
    }
   ],
   "source": [
    "first_date = crime_sort.index[0]\n",
    "first_date"
   ]
  },
  {
   "cell_type": "code",
   "execution_count": 37,
   "metadata": {},
   "outputs": [
    {
     "data": {
      "text/plain": [
       "Timestamp('2012-07-01 00:06:00')"
      ]
     },
     "execution_count": 37,
     "metadata": {},
     "output_type": "execute_result"
    }
   ],
   "source": [
    "first_date + pd.offsets.MonthBegin(6)"
   ]
  },
  {
   "cell_type": "code",
   "execution_count": 39,
   "metadata": {},
   "outputs": [
    {
     "data": {
      "text/plain": [
       "Timestamp('2012-06-30 00:06:00')"
      ]
     },
     "execution_count": 39,
     "metadata": {},
     "output_type": "execute_result"
    }
   ],
   "source": [
    "first_date + pd.offsets.MonthEnd(6)"
   ]
  },
  {
   "cell_type": "markdown",
   "metadata": {},
   "source": [
    "> Parameters that **add** to the offset (like Timedelta):\n",
    "> - years\n",
    "> - months\n",
    "> - weeks\n",
    "> - days\n",
    "> - hours\n",
    "> - minutes\n",
    "> - seconds\n",
    "> - microseconds\n",
    "> - nanoseconds"
   ]
  },
  {
   "cell_type": "code",
   "execution_count": 40,
   "metadata": {},
   "outputs": [
    {
     "data": {
      "text/plain": [
       "Timestamp('2012-02-02 00:06:00')"
      ]
     },
     "execution_count": 40,
     "metadata": {},
     "output_type": "execute_result"
    }
   ],
   "source": [
    "first_date + pd.DateOffset(months=1)"
   ]
  },
  {
   "cell_type": "code",
   "execution_count": 44,
   "metadata": {},
   "outputs": [
    {
     "data": {
      "text/plain": [
       "Timestamp('2014-03-05 02:06:10')"
      ]
     },
     "execution_count": 44,
     "metadata": {},
     "output_type": "execute_result"
    }
   ],
   "source": [
    "first_date + pd.DateOffset(years=2, months=2, days=3, hours=2, seconds=10)"
   ]
  },
  {
   "cell_type": "markdown",
   "metadata": {},
   "source": [
    "# 重采样\n",
    "\n",
    "> resample方法可以用`DateOffset`对象或别名，即可以在所有返回的对象分组上操作"
   ]
  },
  {
   "cell_type": "code",
   "execution_count": 49,
   "metadata": {},
   "outputs": [
    {
     "name": "stdout",
     "output_type": "stream",
     "text": [
      "DatetimeIndexResampler [freq=<Week: weekday=6>, axis=0, closed=right, label=right, convention=start, base=0]\n"
     ]
    }
   ],
   "source": [
    "# 按周统计数据\n",
    "\n",
    "print(crime_sort.resample('W'))"
   ]
  },
  {
   "cell_type": "code",
   "execution_count": 50,
   "metadata": {},
   "outputs": [
    {
     "data": {
      "text/plain": [
       "REPORTED_DATE\n",
       "2012-01-08     877\n",
       "2012-01-15    1071\n",
       "2012-01-22     991\n",
       "              ... \n",
       "2017-09-17    1976\n",
       "2017-09-24    1839\n",
       "2017-10-01    1059\n",
       "Freq: W-SUN, Length: 300, dtype: int64"
      ]
     },
     "execution_count": 50,
     "metadata": {},
     "output_type": "execute_result"
    }
   ],
   "source": [
    "# size()可以查看每个分组的大小\n",
    "\n",
    "crime_sort.resample('W').size()"
   ]
  },
  {
   "cell_type": "code",
   "execution_count": 51,
   "metadata": {},
   "outputs": [
    {
     "data": {
      "text/plain": [
       "877"
      ]
     },
     "execution_count": 51,
     "metadata": {},
     "output_type": "execute_result"
    }
   ],
   "source": [
    "# len()也可以查看大小\n",
    "\n",
    "len(crime_sort.loc[: '2012-01-08'])"
   ]
  },
  {
   "cell_type": "code",
   "execution_count": 52,
   "metadata": {},
   "outputs": [
    {
     "data": {
      "text/plain": [
       "1071"
      ]
     },
     "execution_count": 52,
     "metadata": {},
     "output_type": "execute_result"
    }
   ],
   "source": [
    "len(crime_sort.loc['2012-1-9' : '2012-1-15'])"
   ]
  },
  {
   "attachments": {
    "f3012831-2fff-4ff8-ad20-17f2b6041710.png": {
     "image/png": "[encoded data removed]"
    }
   },
   "cell_type": "markdown",
   "metadata": {},
   "source": [
    "![image.png](attachment:f3012831-2fff-4ff8-ad20-17f2b6041710.png)"
   ]
  },
  {
   "cell_type": "code",
   "execution_count": 53,
   "metadata": {},
   "outputs": [
    {
     "data": {
      "text/plain": [
       "REPORTED_DATE\n",
       "2012-01-05     462\n",
       "2012-01-12    1116\n",
       "2012-01-19     924\n",
       "              ... \n",
       "2017-09-21    1926\n",
       "2017-09-28    1720\n",
       "2017-10-05      28\n",
       "Freq: W-THU, Length: 301, dtype: int64"
      ]
     },
     "execution_count": 53,
     "metadata": {},
     "output_type": "execute_result"
    }
   ],
   "source": [
    "# 用周四作为每周的结束\n",
    "\n",
    "crime_sort.resample('W-THU').size()"
   ]
  },
  {
   "cell_type": "code",
   "execution_count": 55,
   "metadata": {},
   "outputs": [
    {
     "data": {
      "text/plain": [
       "REPORTED_DATE\n",
       "2012-01-05     462\n",
       "2012-01-12    1116\n",
       "2012-01-19     924\n",
       "              ... \n",
       "2017-09-21    1926\n",
       "2017-09-28    1720\n",
       "2017-10-05      28\n",
       "Freq: W-THU, Length: 301, dtype: int64"
      ]
     },
     "execution_count": 55,
     "metadata": {},
     "output_type": "execute_result"
    }
   ],
   "source": [
    "# 用 groupby 方法实现相同功能\n",
    "\n",
    "crime_sort.groupby(pd.Grouper(freq='W-THU')).size()"
   ]
  },
  {
   "cell_type": "code",
   "execution_count": 56,
   "metadata": {
    "collapsed": true,
    "jupyter": {
     "outputs_hidden": true
    }
   },
   "outputs": [
    {
     "data": {
      "text/plain": [
       "['agg',\n",
       " 'aggregate',\n",
       " 'apply',\n",
       " 'asfreq',\n",
       " 'ax',\n",
       " 'backfill',\n",
       " 'bfill',\n",
       " 'count',\n",
       " 'ffill',\n",
       " 'fillna',\n",
       " 'first',\n",
       " 'get_group',\n",
       " 'groups',\n",
       " 'indices',\n",
       " 'interpolate',\n",
       " 'last',\n",
       " 'max',\n",
       " 'mean',\n",
       " 'median',\n",
       " 'min',\n",
       " 'ndim',\n",
       " 'nearest',\n",
       " 'ngroups',\n",
       " 'nunique',\n",
       " 'obj',\n",
       " 'ohlc',\n",
       " 'pad',\n",
       " 'pipe',\n",
       " 'plot',\n",
       " 'prod',\n",
       " 'quantile',\n",
       " 'sem',\n",
       " 'size',\n",
       " 'std',\n",
       " 'sum',\n",
       " 'transform',\n",
       " 'var']"
      ]
     },
     "execution_count": 56,
     "metadata": {},
     "output_type": "execute_result"
    }
   ],
   "source": [
    "# resample 对象支持的所有方法\n",
    "\n",
    "r = crime_sort.resample('W')\n",
    "[attr for attr in dir(r) if attr[0].islower()]"
   ]
  },
  {
   "cell_type": "code",
   "execution_count": 64,
   "metadata": {},
   "outputs": [
    {
     "data": {
      "text/html": [
       "<div>\n",
       "<style scoped>\n",
       "    .dataframe tbody tr th:only-of-type {\n",
       "        vertical-align: middle;\n",
       "    }\n",
       "\n",
       "    .dataframe tbody tr th {\n",
       "        vertical-align: top;\n",
       "    }\n",
       "\n",
       "    .dataframe thead th {\n",
       "        text-align: right;\n",
       "    }\n",
       "</style>\n",
       "<table border=\"1\" class=\"dataframe\">\n",
       "  <thead>\n",
       "    <tr style=\"text-align: right;\">\n",
       "      <th></th>\n",
       "      <th>GEO_LON</th>\n",
       "      <th>GEO_LAT</th>\n",
       "      <th>IS_CRIME</th>\n",
       "      <th>IS_TRAFFIC</th>\n",
       "    </tr>\n",
       "    <tr>\n",
       "      <th>REPORTED_DATE</th>\n",
       "      <th></th>\n",
       "      <th></th>\n",
       "      <th></th>\n",
       "      <th></th>\n",
       "    </tr>\n",
       "  </thead>\n",
       "  <tbody>\n",
       "    <tr>\n",
       "      <th>2012-03-31</th>\n",
       "      <td>-1.313006e+06</td>\n",
       "      <td>496960.237747</td>\n",
       "      <td>7882</td>\n",
       "      <td>4726</td>\n",
       "    </tr>\n",
       "    <tr>\n",
       "      <th>2012-06-30</th>\n",
       "      <td>-1.547274e+06</td>\n",
       "      <td>585656.789182</td>\n",
       "      <td>9641</td>\n",
       "      <td>5255</td>\n",
       "    </tr>\n",
       "    <tr>\n",
       "      <th>2012-09-30</th>\n",
       "      <td>-1.615835e+06</td>\n",
       "      <td>611604.800384</td>\n",
       "      <td>10566</td>\n",
       "      <td>5003</td>\n",
       "    </tr>\n",
       "    <tr>\n",
       "      <th>...</th>\n",
       "      <td>...</td>\n",
       "      <td>...</td>\n",
       "      <td>...</td>\n",
       "      <td>...</td>\n",
       "    </tr>\n",
       "    <tr>\n",
       "      <th>2017-03-31</th>\n",
       "      <td>-2.288383e+06</td>\n",
       "      <td>866234.222733</td>\n",
       "      <td>16426</td>\n",
       "      <td>5587</td>\n",
       "    </tr>\n",
       "    <tr>\n",
       "      <th>2017-06-30</th>\n",
       "      <td>-2.453857e+06</td>\n",
       "      <td>928864.661232</td>\n",
       "      <td>17486</td>\n",
       "      <td>6148</td>\n",
       "    </tr>\n",
       "    <tr>\n",
       "      <th>2017-09-30</th>\n",
       "      <td>-2.508001e+06</td>\n",
       "      <td>949396.372035</td>\n",
       "      <td>17990</td>\n",
       "      <td>6101</td>\n",
       "    </tr>\n",
       "  </tbody>\n",
       "</table>\n",
       "<p>23 rows × 4 columns</p>\n",
       "</div>"
      ],
      "text/plain": [
       "                    GEO_LON        GEO_LAT  IS_CRIME  IS_TRAFFIC\n",
       "REPORTED_DATE                                                   \n",
       "2012-03-31    -1.313006e+06  496960.237747      7882        4726\n",
       "2012-06-30    -1.547274e+06  585656.789182      9641        5255\n",
       "2012-09-30    -1.615835e+06  611604.800384     10566        5003\n",
       "...                     ...            ...       ...         ...\n",
       "2017-03-31    -2.288383e+06  866234.222733     16426        5587\n",
       "2017-06-30    -2.453857e+06  928864.661232     17486        6148\n",
       "2017-09-30    -2.508001e+06  949396.372035     17990        6101\n",
       "\n",
       "[23 rows x 4 columns]"
      ]
     },
     "execution_count": 64,
     "metadata": {},
     "output_type": "execute_result"
    }
   ],
   "source": [
    "# 按季度分组（Q -> 季末频率）\n",
    "\n",
    "crime_sort.resample('Q').sum()"
   ]
  },
  {
   "cell_type": "code",
   "execution_count": 65,
   "metadata": {},
   "outputs": [
    {
     "data": {
      "text/html": [
       "<div>\n",
       "<style scoped>\n",
       "    .dataframe tbody tr th:only-of-type {\n",
       "        vertical-align: middle;\n",
       "    }\n",
       "\n",
       "    .dataframe tbody tr th {\n",
       "        vertical-align: top;\n",
       "    }\n",
       "\n",
       "    .dataframe thead th {\n",
       "        text-align: right;\n",
       "    }\n",
       "</style>\n",
       "<table border=\"1\" class=\"dataframe\">\n",
       "  <thead>\n",
       "    <tr style=\"text-align: right;\">\n",
       "      <th></th>\n",
       "      <th>IS_CRIME</th>\n",
       "      <th>IS_TRAFFIC</th>\n",
       "    </tr>\n",
       "    <tr>\n",
       "      <th>REPORTED_DATE</th>\n",
       "      <th></th>\n",
       "      <th></th>\n",
       "    </tr>\n",
       "  </thead>\n",
       "  <tbody>\n",
       "    <tr>\n",
       "      <th>2012-03-31</th>\n",
       "      <td>7882</td>\n",
       "      <td>4726</td>\n",
       "    </tr>\n",
       "    <tr>\n",
       "      <th>2012-06-30</th>\n",
       "      <td>9641</td>\n",
       "      <td>5255</td>\n",
       "    </tr>\n",
       "    <tr>\n",
       "      <th>2012-09-30</th>\n",
       "      <td>10566</td>\n",
       "      <td>5003</td>\n",
       "    </tr>\n",
       "    <tr>\n",
       "      <th>...</th>\n",
       "      <td>...</td>\n",
       "      <td>...</td>\n",
       "    </tr>\n",
       "    <tr>\n",
       "      <th>2017-03-31</th>\n",
       "      <td>16426</td>\n",
       "      <td>5587</td>\n",
       "    </tr>\n",
       "    <tr>\n",
       "      <th>2017-06-30</th>\n",
       "      <td>17486</td>\n",
       "      <td>6148</td>\n",
       "    </tr>\n",
       "    <tr>\n",
       "      <th>2017-09-30</th>\n",
       "      <td>17990</td>\n",
       "      <td>6101</td>\n",
       "    </tr>\n",
       "  </tbody>\n",
       "</table>\n",
       "<p>23 rows × 2 columns</p>\n",
       "</div>"
      ],
      "text/plain": [
       "               IS_CRIME  IS_TRAFFIC\n",
       "REPORTED_DATE                      \n",
       "2012-03-31         7882        4726\n",
       "2012-06-30         9641        5255\n",
       "2012-09-30        10566        5003\n",
       "...                 ...         ...\n",
       "2017-03-31        16426        5587\n",
       "2017-06-30        17486        6148\n",
       "2017-09-30        17990        6101\n",
       "\n",
       "[23 rows x 2 columns]"
      ]
     },
     "execution_count": 65,
     "metadata": {},
     "output_type": "execute_result"
    }
   ],
   "source": [
    "# 按季度分组（Q -> 季末频率）, 提取指定列数据\n",
    "\n",
    "crime_sort.resample('Q')['IS_CRIME', 'IS_TRAFFIC'].sum()"
   ]
  },
  {
   "cell_type": "code",
   "execution_count": 66,
   "metadata": {},
   "outputs": [
    {
     "data": {
      "text/html": [
       "<div>\n",
       "<style scoped>\n",
       "    .dataframe tbody tr th:only-of-type {\n",
       "        vertical-align: middle;\n",
       "    }\n",
       "\n",
       "    .dataframe tbody tr th {\n",
       "        vertical-align: top;\n",
       "    }\n",
       "\n",
       "    .dataframe thead th {\n",
       "        text-align: right;\n",
       "    }\n",
       "</style>\n",
       "<table border=\"1\" class=\"dataframe\">\n",
       "  <thead>\n",
       "    <tr style=\"text-align: right;\">\n",
       "      <th></th>\n",
       "      <th>IS_CRIME</th>\n",
       "      <th>IS_TRAFFIC</th>\n",
       "    </tr>\n",
       "    <tr>\n",
       "      <th>REPORTED_DATE</th>\n",
       "      <th></th>\n",
       "      <th></th>\n",
       "    </tr>\n",
       "  </thead>\n",
       "  <tbody>\n",
       "    <tr>\n",
       "      <th>2012-01-01</th>\n",
       "      <td>7882</td>\n",
       "      <td>4726</td>\n",
       "    </tr>\n",
       "    <tr>\n",
       "      <th>2012-04-01</th>\n",
       "      <td>9641</td>\n",
       "      <td>5255</td>\n",
       "    </tr>\n",
       "    <tr>\n",
       "      <th>2012-07-01</th>\n",
       "      <td>10566</td>\n",
       "      <td>5003</td>\n",
       "    </tr>\n",
       "    <tr>\n",
       "      <th>...</th>\n",
       "      <td>...</td>\n",
       "      <td>...</td>\n",
       "    </tr>\n",
       "    <tr>\n",
       "      <th>2017-01-01</th>\n",
       "      <td>16426</td>\n",
       "      <td>5587</td>\n",
       "    </tr>\n",
       "    <tr>\n",
       "      <th>2017-04-01</th>\n",
       "      <td>17486</td>\n",
       "      <td>6148</td>\n",
       "    </tr>\n",
       "    <tr>\n",
       "      <th>2017-07-01</th>\n",
       "      <td>17990</td>\n",
       "      <td>6101</td>\n",
       "    </tr>\n",
       "  </tbody>\n",
       "</table>\n",
       "<p>23 rows × 2 columns</p>\n",
       "</div>"
      ],
      "text/plain": [
       "               IS_CRIME  IS_TRAFFIC\n",
       "REPORTED_DATE                      \n",
       "2012-01-01         7882        4726\n",
       "2012-04-01         9641        5255\n",
       "2012-07-01        10566        5003\n",
       "...                 ...         ...\n",
       "2017-01-01        16426        5587\n",
       "2017-04-01        17486        6148\n",
       "2017-07-01        17990        6101\n",
       "\n",
       "[23 rows x 2 columns]"
      ]
     },
     "execution_count": 66,
     "metadata": {},
     "output_type": "execute_result"
    }
   ],
   "source": [
    "# 按季度分组（QS -> 季初频率）, 时间索引为每个季度的第一天\n",
    "\n",
    "crime_sort.resample('QS')['IS_CRIME', 'IS_TRAFFIC'].sum()"
   ]
  },
  {
   "cell_type": "code",
   "execution_count": 67,
   "metadata": {},
   "outputs": [
    {
     "data": {
      "text/plain": [
       "IS_CRIME      9641\n",
       "IS_TRAFFIC    5255\n",
       "dtype: int64"
      ]
     },
     "execution_count": 67,
     "metadata": {},
     "output_type": "execute_result"
    }
   ],
   "source": [
    "# 通过切片实现相同功能\n",
    "\n",
    "crime_sort.loc['2012-4-1':'2012-6-30', ['IS_CRIME', 'IS_TRAFFIC']].sum()"
   ]
  },
  {
   "cell_type": "code",
   "execution_count": 71,
   "metadata": {},
   "outputs": [
    {
     "data": {
      "text/html": [
       "<div>\n",
       "<style scoped>\n",
       "    .dataframe tbody tr th:only-of-type {\n",
       "        vertical-align: middle;\n",
       "    }\n",
       "\n",
       "    .dataframe tbody tr th {\n",
       "        vertical-align: top;\n",
       "    }\n",
       "\n",
       "    .dataframe thead th {\n",
       "        text-align: right;\n",
       "    }\n",
       "</style>\n",
       "<table border=\"1\" class=\"dataframe\">\n",
       "  <thead>\n",
       "    <tr style=\"text-align: right;\">\n",
       "      <th></th>\n",
       "      <th>IS_CRIME</th>\n",
       "      <th>IS_TRAFFIC</th>\n",
       "    </tr>\n",
       "    <tr>\n",
       "      <th>REPORTED_DATE</th>\n",
       "      <th></th>\n",
       "      <th></th>\n",
       "    </tr>\n",
       "  </thead>\n",
       "  <tbody>\n",
       "    <tr>\n",
       "      <th>2012-01-01</th>\n",
       "      <td>7882</td>\n",
       "      <td>4726</td>\n",
       "    </tr>\n",
       "    <tr>\n",
       "      <th>2012-04-01</th>\n",
       "      <td>9641</td>\n",
       "      <td>5255</td>\n",
       "    </tr>\n",
       "    <tr>\n",
       "      <th>2012-07-01</th>\n",
       "      <td>10566</td>\n",
       "      <td>5003</td>\n",
       "    </tr>\n",
       "    <tr>\n",
       "      <th>...</th>\n",
       "      <td>...</td>\n",
       "      <td>...</td>\n",
       "    </tr>\n",
       "    <tr>\n",
       "      <th>2017-01-01</th>\n",
       "      <td>16426</td>\n",
       "      <td>5587</td>\n",
       "    </tr>\n",
       "    <tr>\n",
       "      <th>2017-04-01</th>\n",
       "      <td>17486</td>\n",
       "      <td>6148</td>\n",
       "    </tr>\n",
       "    <tr>\n",
       "      <th>2017-07-01</th>\n",
       "      <td>17990</td>\n",
       "      <td>6101</td>\n",
       "    </tr>\n",
       "  </tbody>\n",
       "</table>\n",
       "<p>23 rows × 2 columns</p>\n",
       "</div>"
      ],
      "text/plain": [
       "               IS_CRIME  IS_TRAFFIC\n",
       "REPORTED_DATE                      \n",
       "2012-01-01         7882        4726\n",
       "2012-04-01         9641        5255\n",
       "2012-07-01        10566        5003\n",
       "...                 ...         ...\n",
       "2017-01-01        16426        5587\n",
       "2017-04-01        17486        6148\n",
       "2017-07-01        17990        6101\n",
       "\n",
       "[23 rows x 2 columns]"
      ]
     },
     "execution_count": 71,
     "metadata": {},
     "output_type": "execute_result"
    }
   ],
   "source": [
    "# 通过 groupby 实现相同功能\n",
    "\n",
    "crime_sort.groupby(pd.Grouper(freq='QS'))[['IS_CRIME', 'IS_TRAFFIC']].sum()"
   ]
  },
  {
   "cell_type": "code",
   "execution_count": 72,
   "metadata": {},
   "outputs": [
    {
     "data": {
      "text/plain": [
       "<matplotlib.axes._subplots.AxesSubplot at 0x7fc1f6a234e0>"
      ]
     },
     "execution_count": 72,
     "metadata": {},
     "output_type": "execute_result"
    },
    {
     "data": {
      "image/png": "[encoded data removed]",
      "text/plain": [
       "<Figure size 1152x288 with 1 Axes>"
      ]
     },
     "metadata": {
      "needs_background": "light"
     },
     "output_type": "display_data"
    }
   ],
   "source": [
    "# 绘图\n",
    "\n",
    "plot_kwargs = dict(figsize=(16, 4), color=['black', 'lightgray'], title='Crimes')\n",
    "crime_sort.resample('QS')['IS_CRIME', 'IS_TRAFFIC'].sum().plot(**plot_kwargs)"
   ]
  },
  {
   "cell_type": "code",
   "execution_count": 85,
   "metadata": {},
   "outputs": [
    {
     "data": {
      "text/html": [
       "<div>\n",
       "<style scoped>\n",
       "    .dataframe tbody tr th:only-of-type {\n",
       "        vertical-align: middle;\n",
       "    }\n",
       "\n",
       "    .dataframe tbody tr th {\n",
       "        vertical-align: top;\n",
       "    }\n",
       "\n",
       "    .dataframe thead th {\n",
       "        text-align: right;\n",
       "    }\n",
       "</style>\n",
       "<table border=\"1\" class=\"dataframe\">\n",
       "  <thead>\n",
       "    <tr style=\"text-align: right;\">\n",
       "      <th></th>\n",
       "      <th>IS_CRIME</th>\n",
       "      <th>IS_TRAFFIC</th>\n",
       "    </tr>\n",
       "    <tr>\n",
       "      <th>REPORTED_DATE</th>\n",
       "      <th></th>\n",
       "      <th></th>\n",
       "    </tr>\n",
       "  </thead>\n",
       "  <tbody>\n",
       "    <tr>\n",
       "      <th>2012-03-31</th>\n",
       "      <td>0.00</td>\n",
       "      <td>0.00</td>\n",
       "    </tr>\n",
       "    <tr>\n",
       "      <th>2012-06-30</th>\n",
       "      <td>0.22</td>\n",
       "      <td>0.11</td>\n",
       "    </tr>\n",
       "    <tr>\n",
       "      <th>2012-09-30</th>\n",
       "      <td>0.34</td>\n",
       "      <td>0.06</td>\n",
       "    </tr>\n",
       "    <tr>\n",
       "      <th>...</th>\n",
       "      <td>...</td>\n",
       "      <td>...</td>\n",
       "    </tr>\n",
       "    <tr>\n",
       "      <th>2017-03-31</th>\n",
       "      <td>1.08</td>\n",
       "      <td>0.18</td>\n",
       "    </tr>\n",
       "    <tr>\n",
       "      <th>2017-06-30</th>\n",
       "      <td>1.22</td>\n",
       "      <td>0.30</td>\n",
       "    </tr>\n",
       "    <tr>\n",
       "      <th>2017-09-30</th>\n",
       "      <td>1.28</td>\n",
       "      <td>0.29</td>\n",
       "    </tr>\n",
       "  </tbody>\n",
       "</table>\n",
       "<p>23 rows × 2 columns</p>\n",
       "</div>"
      ],
      "text/plain": [
       "               IS_CRIME  IS_TRAFFIC\n",
       "REPORTED_DATE                      \n",
       "2012-03-31         0.00        0.00\n",
       "2012-06-30         0.22        0.11\n",
       "2012-09-30         0.34        0.06\n",
       "...                 ...         ...\n",
       "2017-03-31         1.08        0.18\n",
       "2017-06-30         1.22        0.30\n",
       "2017-09-30         1.28        0.29\n",
       "\n",
       "[23 rows x 2 columns]"
      ]
     },
     "execution_count": 85,
     "metadata": {},
     "output_type": "execute_result"
    }
   ],
   "source": [
    "# 统计季度增长率 (计算方法：所有数据除以第一行的数据，并减1，得到的就是相对第一行数据的增长率)\n",
    "\n",
    "## 按季度分组\n",
    "crime_quarterly = crime_sort.resample('Q')['IS_CRIME','IS_TRAFFIC'].sum()\n",
    "## 提取第一行数据\n",
    "crime_begin = crime_quarterly.iloc[0]\n",
    "## 计算增长率\n",
    "crime_quarterly.div(crime_begin).sub(1).round(2)"
   ]
  },
  {
   "cell_type": "code",
   "execution_count": 86,
   "metadata": {},
   "outputs": [
    {
     "data": {
      "text/plain": [
       "<matplotlib.axes._subplots.AxesSubplot at 0x7fc1f69720b8>"
      ]
     },
     "execution_count": 86,
     "metadata": {},
     "output_type": "execute_result"
    },
    {
     "data": {
      "image/png": "[encoded data removed]",
      "text/plain": [
       "<Figure size 1152x288 with 1 Axes>"
      ]
     },
     "metadata": {
      "needs_background": "light"
     },
     "output_type": "display_data"
    }
   ],
   "source": [
    "crime_quarterly.div(crime_begin).sub(1).round(2).plot(**plot_kwargs)"
   ]
  },
  {
   "cell_type": "code",
   "execution_count": 131,
   "metadata": {},
   "outputs": [
    {
     "data": {
      "text/plain": [
       "Monday       70024\n",
       "Friday       69621\n",
       "Wednesday    69538\n",
       "             ...  \n",
       "Tuesday      68394\n",
       "Saturday     58834\n",
       "Sunday       55213\n",
       "Name: REPORTED_DATE, Length: 7, dtype: int64"
      ]
     },
     "execution_count": 131,
     "metadata": {},
     "output_type": "execute_result"
    }
   ],
   "source": [
    "# 按星期统计\n",
    "\n",
    "crime_sort.index.day_name().value_counts()"
   ]
  },
  {
   "cell_type": "code",
   "execution_count": 113,
   "metadata": {},
   "outputs": [
    {
     "data": {
      "text/plain": [
       "Monday       70024\n",
       "Friday       69621\n",
       "Wednesday    69538\n",
       "             ...  \n",
       "Tuesday      68394\n",
       "Saturday     58834\n",
       "Sunday       55213\n",
       "Name: REPORTED_DATE, Length: 7, dtype: int64"
      ]
     },
     "execution_count": 113,
     "metadata": {},
     "output_type": "execute_result"
    }
   ],
   "source": [
    "# 按星期统计 （注： DatetimeIndex没有dt属性，所以index要先转换成series后才能访问dt属性）\n",
    "\n",
    "week_counts = crime_sort.index.to_series().dt.day_name().value_counts()\n",
    "week_counts"
   ]
  },
  {
   "cell_type": "code",
   "execution_count": 114,
   "metadata": {},
   "outputs": [
    {
     "data": {
      "text/plain": [
       "<matplotlib.axes._subplots.AxesSubplot at 0x7fc1f499eef0>"
      ]
     },
     "execution_count": 114,
     "metadata": {},
     "output_type": "execute_result"
    },
    {
     "data": {
      "image/png": "[encoded data removed]",
      "text/plain": [
       "<Figure size 432x288 with 1 Axes>"
      ]
     },
     "metadata": {
      "needs_background": "light"
     },
     "output_type": "display_data"
    }
   ],
   "source": [
    "days = ['Monday', 'Tuesday', 'Wednesday', 'Thursday', 'Friday', 'Saturday', 'Sunday']\n",
    "title = 'Denver Crimes and Traffic Accidents per Weekday'\n",
    "\n",
    "week_counts.reindex(days).plot(kind='barh', title=title)"
   ]
  },
  {
   "cell_type": "code",
   "execution_count": 129,
   "metadata": {},
   "outputs": [
    {
     "data": {
      "text/plain": [
       "<matplotlib.axes._subplots.AxesSubplot at 0x7fc1f1013c18>"
      ]
     },
     "execution_count": 129,
     "metadata": {},
     "output_type": "execute_result"
    },
    {
     "data": {
      "image/png": "[encoded data removed]",
      "text/plain": [
       "<Figure size 432x288 with 1 Axes>"
      ]
     },
     "metadata": {
      "needs_background": "light"
     },
     "output_type": "display_data"
    }
   ],
   "source": [
    "# 按年统计\n",
    "\n",
    "crime_sort.index.year.value_counts().sort_index().plot(kind='barh')"
   ]
  },
  {
   "cell_type": "code",
   "execution_count": 130,
   "metadata": {},
   "outputs": [
    {
     "data": {
      "text/plain": [
       "<matplotlib.axes._subplots.AxesSubplot at 0x7fc1f4509710>"
      ]
     },
     "execution_count": 130,
     "metadata": {},
     "output_type": "execute_result"
    },
    {
     "data": {
      "image/png": "[encoded data removed]",
      "text/plain": [
       "<Figure size 432x288 with 1 Axes>"
      ]
     },
     "metadata": {
      "needs_background": "light"
     },
     "output_type": "display_data"
    }
   ],
   "source": [
    "# 按年统计\n",
    "\n",
    "crime_sort.index.month.value_counts().sort_index().plot(kind='barh')"
   ]
  },
  {
   "cell_type": "code",
   "execution_count": 126,
   "metadata": {},
   "outputs": [
    {
     "data": {
      "text/plain": [
       "REPORTED_DATE  REPORTED_DATE\n",
       "2012           Friday            8549\n",
       "               Monday            8786\n",
       "               Saturday          7442\n",
       "                                ...  \n",
       "2017           Thursday         10545\n",
       "               Tuesday          10628\n",
       "               Wednesday        10576\n",
       "Length: 42, dtype: int64"
      ]
     },
     "execution_count": 126,
     "metadata": {},
     "output_type": "execute_result"
    }
   ],
   "source": [
    "# 按年和星期分组聚合\n",
    "\n",
    "_weekday = crime.index.day_name()\n",
    "_year = crime.index.year\n",
    "crime.groupby([_year, _weekday]).size()"
   ]
  },
  {
   "cell_type": "code",
   "execution_count": 127,
   "metadata": {},
   "outputs": [
    {
     "data": {
      "text/plain": [
       "Year  Weekday  \n",
       "2012  Friday        8549\n",
       "      Monday        8786\n",
       "      Saturday      7442\n",
       "                   ...  \n",
       "2017  Thursday     10545\n",
       "      Tuesday      10628\n",
       "      Wednesday    10576\n",
       "Length: 42, dtype: int64"
      ]
     },
     "execution_count": 127,
     "metadata": {},
     "output_type": "execute_result"
    }
   ],
   "source": [
    "# 重命名索引名 \n",
    "\n",
    "crime.groupby([_year, _weekday]).size().rename_axis(['Year', 'Weekday'])"
   ]
  },
  {
   "cell_type": "code",
   "execution_count": 128,
   "metadata": {},
   "outputs": [
    {
     "data": {
      "text/html": [
       "<div>\n",
       "<style scoped>\n",
       "    .dataframe tbody tr th:only-of-type {\n",
       "        vertical-align: middle;\n",
       "    }\n",
       "\n",
       "    .dataframe tbody tr th {\n",
       "        vertical-align: top;\n",
       "    }\n",
       "\n",
       "    .dataframe thead th {\n",
       "        text-align: right;\n",
       "    }\n",
       "</style>\n",
       "<table border=\"1\" class=\"dataframe\">\n",
       "  <thead>\n",
       "    <tr style=\"text-align: right;\">\n",
       "      <th>Weekday</th>\n",
       "      <th>Friday</th>\n",
       "      <th>Monday</th>\n",
       "      <th>Saturday</th>\n",
       "      <th>Sunday</th>\n",
       "      <th>Thursday</th>\n",
       "      <th>Tuesday</th>\n",
       "      <th>Wednesday</th>\n",
       "    </tr>\n",
       "    <tr>\n",
       "      <th>Year</th>\n",
       "      <th></th>\n",
       "      <th></th>\n",
       "      <th></th>\n",
       "      <th></th>\n",
       "      <th></th>\n",
       "      <th></th>\n",
       "      <th></th>\n",
       "    </tr>\n",
       "  </thead>\n",
       "  <tbody>\n",
       "    <tr>\n",
       "      <th>2012</th>\n",
       "      <td>8549</td>\n",
       "      <td>8786</td>\n",
       "      <td>7442</td>\n",
       "      <td>7189</td>\n",
       "      <td>8440</td>\n",
       "      <td>8191</td>\n",
       "      <td>8440</td>\n",
       "    </tr>\n",
       "    <tr>\n",
       "      <th>2013</th>\n",
       "      <td>10380</td>\n",
       "      <td>10627</td>\n",
       "      <td>8875</td>\n",
       "      <td>8444</td>\n",
       "      <td>10431</td>\n",
       "      <td>10416</td>\n",
       "      <td>10354</td>\n",
       "    </tr>\n",
       "    <tr>\n",
       "      <th>2014</th>\n",
       "      <td>12683</td>\n",
       "      <td>12813</td>\n",
       "      <td>10950</td>\n",
       "      <td>10278</td>\n",
       "      <td>12309</td>\n",
       "      <td>12440</td>\n",
       "      <td>12948</td>\n",
       "    </tr>\n",
       "    <tr>\n",
       "      <th>2015</th>\n",
       "      <td>13273</td>\n",
       "      <td>13452</td>\n",
       "      <td>11586</td>\n",
       "      <td>10624</td>\n",
       "      <td>13512</td>\n",
       "      <td>13381</td>\n",
       "      <td>13320</td>\n",
       "    </tr>\n",
       "    <tr>\n",
       "      <th>2016</th>\n",
       "      <td>14059</td>\n",
       "      <td>13708</td>\n",
       "      <td>11467</td>\n",
       "      <td>10554</td>\n",
       "      <td>14050</td>\n",
       "      <td>13338</td>\n",
       "      <td>13900</td>\n",
       "    </tr>\n",
       "    <tr>\n",
       "      <th>2017</th>\n",
       "      <td>10677</td>\n",
       "      <td>10638</td>\n",
       "      <td>8514</td>\n",
       "      <td>8124</td>\n",
       "      <td>10545</td>\n",
       "      <td>10628</td>\n",
       "      <td>10576</td>\n",
       "    </tr>\n",
       "  </tbody>\n",
       "</table>\n",
       "</div>"
      ],
      "text/plain": [
       "Weekday  Friday  Monday  Saturday  Sunday  Thursday  Tuesday  Wednesday\n",
       "Year                                                                   \n",
       "2012       8549    8786      7442    7189      8440     8191       8440\n",
       "2013      10380   10627      8875    8444     10431    10416      10354\n",
       "2014      12683   12813     10950   10278     12309    12440      12948\n",
       "2015      13273   13452     11586   10624     13512    13381      13320\n",
       "2016      14059   13708     11467   10554     14050    13338      13900\n",
       "2017      10677   10638      8514    8124     10545    10628      10576"
      ]
     },
     "execution_count": 128,
     "metadata": {},
     "output_type": "execute_result"
    }
   ],
   "source": [
    "# 对表格进行重排 （unstack针对索引进行操作，pivot针对值进行操作）\n",
    " \n",
    "crime.groupby([_year, _weekday]).size().rename_axis(['Year', 'Weekday']).unstack('Weekday')"
   ]
  },
  {
   "cell_type": "code",
   "execution_count": 122,
   "metadata": {
    "collapsed": true,
    "jupyter": {
     "outputs_hidden": true
    }
   },
   "outputs": [
    {
     "data": {
      "text/plain": [
       "['weekday',\n",
       " 'daysinmonth',\n",
       " 'hour',\n",
       " 'is_year_start',\n",
       " 'dayofweek',\n",
       " 'tz_localize',\n",
       " 'tz_convert',\n",
       " 'is_quarter_end',\n",
       " 'microsecond',\n",
       " 'quarter',\n",
       " 'day',\n",
       " 'to_period',\n",
       " 'second',\n",
       " 'max',\n",
       " 'is_month_end',\n",
       " 'is_leap_year',\n",
       " 'timetz',\n",
       " 'tz',\n",
       " 'ceil',\n",
       " 'month',\n",
       " 'month_name',\n",
       " 'to_julian_date',\n",
       " 'week',\n",
       " 'day_name',\n",
       " 'year',\n",
       " 'is_quarter_start',\n",
       " 'freq',\n",
       " 'to_numpy',\n",
       " 'strftime',\n",
       " 'to_pydatetime',\n",
       " 'dayofyear',\n",
       " 'freqstr',\n",
       " 'resolution',\n",
       " 'floor',\n",
       " 'days_in_month',\n",
       " 'round',\n",
       " 'min',\n",
       " 'is_year_end',\n",
       " 'normalize',\n",
       " 'minute',\n",
       " 'date',\n",
       " 'nanosecond',\n",
       " 'time',\n",
       " 'tzinfo',\n",
       " 'weekofyear',\n",
       " 'is_month_start']"
      ]
     },
     "execution_count": 122,
     "metadata": {},
     "output_type": "execute_result"
    }
   ],
   "source": [
    "common_attrs = set(dir(crime_sort.index)) & set(dir(pd.Timestamp))\n",
    "[attr for attr in common_attrs if attr[0] != '_']"
   ]
  },
  {
   "cell_type": "code",
   "execution_count": 134,
   "metadata": {},
   "outputs": [
    {
     "data": {
      "text/html": [
       "<div>\n",
       "<style scoped>\n",
       "    .dataframe tbody tr th:only-of-type {\n",
       "        vertical-align: middle;\n",
       "    }\n",
       "\n",
       "    .dataframe tbody tr th {\n",
       "        vertical-align: top;\n",
       "    }\n",
       "\n",
       "    .dataframe thead th {\n",
       "        text-align: right;\n",
       "    }\n",
       "</style>\n",
       "<table border=\"1\" class=\"dataframe\">\n",
       "  <thead>\n",
       "    <tr style=\"text-align: right;\">\n",
       "      <th></th>\n",
       "      <th>IS_CRIME</th>\n",
       "      <th>IS_TRAFFIC</th>\n",
       "    </tr>\n",
       "  </thead>\n",
       "  <tbody>\n",
       "    <tr>\n",
       "      <th>Friday</th>\n",
       "      <td>48833</td>\n",
       "      <td>20814</td>\n",
       "    </tr>\n",
       "    <tr>\n",
       "      <th>Monday</th>\n",
       "      <td>52158</td>\n",
       "      <td>17895</td>\n",
       "    </tr>\n",
       "    <tr>\n",
       "      <th>Saturday</th>\n",
       "      <td>43363</td>\n",
       "      <td>15516</td>\n",
       "    </tr>\n",
       "    <tr>\n",
       "      <th>...</th>\n",
       "      <td>...</td>\n",
       "      <td>...</td>\n",
       "    </tr>\n",
       "    <tr>\n",
       "      <th>Thursday</th>\n",
       "      <td>49470</td>\n",
       "      <td>19845</td>\n",
       "    </tr>\n",
       "    <tr>\n",
       "      <th>Tuesday</th>\n",
       "      <td>49658</td>\n",
       "      <td>18755</td>\n",
       "    </tr>\n",
       "    <tr>\n",
       "      <th>Wednesday</th>\n",
       "      <td>50054</td>\n",
       "      <td>19508</td>\n",
       "    </tr>\n",
       "  </tbody>\n",
       "</table>\n",
       "<p>7 rows × 2 columns</p>\n",
       "</div>"
      ],
      "text/plain": [
       "           IS_CRIME  IS_TRAFFIC\n",
       "Friday        48833       20814\n",
       "Monday        52158       17895\n",
       "Saturday      43363       15516\n",
       "...             ...         ...\n",
       "Thursday      49470       19845\n",
       "Tuesday       49658       18755\n",
       "Wednesday     50054       19508\n",
       "\n",
       "[7 rows x 2 columns]"
      ]
     },
     "execution_count": 134,
     "metadata": {},
     "output_type": "execute_result"
    }
   ],
   "source": [
    "# groupby 可以接收函数作为参数\n",
    "\n",
    "crime_sort.groupby(lambda x: x.day_name())[['IS_CRIME', 'IS_TRAFFIC']].sum()"
   ]
  },
  {
   "cell_type": "code",
   "execution_count": 141,
   "metadata": {},
   "outputs": [
    {
     "data": {
      "text/html": [
       "<div>\n",
       "<style scoped>\n",
       "    .dataframe tbody tr th:only-of-type {\n",
       "        vertical-align: middle;\n",
       "    }\n",
       "\n",
       "    .dataframe tbody tr th {\n",
       "        vertical-align: top;\n",
       "    }\n",
       "\n",
       "    .dataframe thead tr th {\n",
       "        text-align: left;\n",
       "    }\n",
       "</style>\n",
       "<table border=\"1\" class=\"dataframe\">\n",
       "  <thead>\n",
       "    <tr>\n",
       "      <th></th>\n",
       "      <th colspan=\"6\" halign=\"left\">IS_CRIME</th>\n",
       "      <th colspan=\"6\" halign=\"left\">IS_TRAFFIC</th>\n",
       "    </tr>\n",
       "    <tr>\n",
       "      <th></th>\n",
       "      <th>2012</th>\n",
       "      <th>2013</th>\n",
       "      <th>2014</th>\n",
       "      <th>2015</th>\n",
       "      <th>2016</th>\n",
       "      <th>2017</th>\n",
       "      <th>2012</th>\n",
       "      <th>2013</th>\n",
       "      <th>2014</th>\n",
       "      <th>2015</th>\n",
       "      <th>2016</th>\n",
       "      <th>2017</th>\n",
       "    </tr>\n",
       "  </thead>\n",
       "  <tbody>\n",
       "    <tr>\n",
       "      <th>0</th>\n",
       "      <td>2422</td>\n",
       "      <td>4040</td>\n",
       "      <td>5649</td>\n",
       "      <td>5649</td>\n",
       "      <td>5377</td>\n",
       "      <td>3811</td>\n",
       "      <td>919</td>\n",
       "      <td>792</td>\n",
       "      <td>978</td>\n",
       "      <td>1136</td>\n",
       "      <td>980</td>\n",
       "      <td>782</td>\n",
       "    </tr>\n",
       "    <tr>\n",
       "      <th>2</th>\n",
       "      <td>1888</td>\n",
       "      <td>3214</td>\n",
       "      <td>4245</td>\n",
       "      <td>4050</td>\n",
       "      <td>4091</td>\n",
       "      <td>3041</td>\n",
       "      <td>718</td>\n",
       "      <td>652</td>\n",
       "      <td>779</td>\n",
       "      <td>773</td>\n",
       "      <td>718</td>\n",
       "      <td>537</td>\n",
       "    </tr>\n",
       "    <tr>\n",
       "      <th>4</th>\n",
       "      <td>1472</td>\n",
       "      <td>2181</td>\n",
       "      <td>2956</td>\n",
       "      <td>2959</td>\n",
       "      <td>3044</td>\n",
       "      <td>2255</td>\n",
       "      <td>399</td>\n",
       "      <td>378</td>\n",
       "      <td>424</td>\n",
       "      <td>471</td>\n",
       "      <td>464</td>\n",
       "      <td>313</td>\n",
       "    </tr>\n",
       "    <tr>\n",
       "      <th>...</th>\n",
       "      <td>...</td>\n",
       "      <td>...</td>\n",
       "      <td>...</td>\n",
       "      <td>...</td>\n",
       "      <td>...</td>\n",
       "      <td>...</td>\n",
       "      <td>...</td>\n",
       "      <td>...</td>\n",
       "      <td>...</td>\n",
       "      <td>...</td>\n",
       "      <td>...</td>\n",
       "      <td>...</td>\n",
       "    </tr>\n",
       "    <tr>\n",
       "      <th>18</th>\n",
       "      <td>3660</td>\n",
       "      <td>5094</td>\n",
       "      <td>6586</td>\n",
       "      <td>7015</td>\n",
       "      <td>7407</td>\n",
       "      <td>6157</td>\n",
       "      <td>3118</td>\n",
       "      <td>2704</td>\n",
       "      <td>3217</td>\n",
       "      <td>3412</td>\n",
       "      <td>3608</td>\n",
       "      <td>2718</td>\n",
       "    </tr>\n",
       "    <tr>\n",
       "      <th>20</th>\n",
       "      <td>3521</td>\n",
       "      <td>4895</td>\n",
       "      <td>6130</td>\n",
       "      <td>6360</td>\n",
       "      <td>6963</td>\n",
       "      <td>5272</td>\n",
       "      <td>1787</td>\n",
       "      <td>1806</td>\n",
       "      <td>1994</td>\n",
       "      <td>2071</td>\n",
       "      <td>2184</td>\n",
       "      <td>1491</td>\n",
       "    </tr>\n",
       "    <tr>\n",
       "      <th>22</th>\n",
       "      <td>3078</td>\n",
       "      <td>4318</td>\n",
       "      <td>5496</td>\n",
       "      <td>5626</td>\n",
       "      <td>5637</td>\n",
       "      <td>4358</td>\n",
       "      <td>1343</td>\n",
       "      <td>1330</td>\n",
       "      <td>1532</td>\n",
       "      <td>1671</td>\n",
       "      <td>1472</td>\n",
       "      <td>1072</td>\n",
       "    </tr>\n",
       "  </tbody>\n",
       "</table>\n",
       "<p>12 rows × 12 columns</p>\n",
       "</div>"
      ],
      "text/plain": [
       "   IS_CRIME                               IS_TRAFFIC                          \\\n",
       "       2012  2013  2014  2015  2016  2017       2012  2013  2014  2015  2016   \n",
       "0      2422  4040  5649  5649  5377  3811        919   792   978  1136   980   \n",
       "2      1888  3214  4245  4050  4091  3041        718   652   779   773   718   \n",
       "4      1472  2181  2956  2959  3044  2255        399   378   424   471   464   \n",
       "..      ...   ...   ...   ...   ...   ...        ...   ...   ...   ...   ...   \n",
       "18     3660  5094  6586  7015  7407  6157       3118  2704  3217  3412  3608   \n",
       "20     3521  4895  6130  6360  6963  5272       1787  1806  1994  2071  2184   \n",
       "22     3078  4318  5496  5626  5637  4358       1343  1330  1532  1671  1472   \n",
       "\n",
       "          \n",
       "    2017  \n",
       "0    782  \n",
       "2    537  \n",
       "4    313  \n",
       "..   ...  \n",
       "18  2718  \n",
       "20  1491  \n",
       "22  1072  \n",
       "\n",
       "[12 rows x 12 columns]"
      ]
     },
     "execution_count": 141,
     "metadata": {},
     "output_type": "execute_result"
    }
   ],
   "source": [
    "# groupby 支持函数列表\n",
    "\n",
    "### 用年份和小时(2小时)分组\n",
    "funcs = [lambda x: x.round('2h').hour, lambda x: x.year]\n",
    "cr_final = crime_sort.groupby(funcs)[['IS_CRIME', 'IS_TRAFFIC']].sum().unstack()\n",
    "cr_final"
   ]
  },
  {
   "cell_type": "code",
   "execution_count": 139,
   "metadata": {},
   "outputs": [
    {
     "data": {
      "text/html": [
       "<style  type=\"text/css\" >\n",
       "    #T_666ba774_c704_11ea_995f_00155d51ee23row3_col0 {\n",
       "            background-color:  red;\n",
       "        }    #T_666ba774_c704_11ea_995f_00155d51ee23row4_col1 {\n",
       "            background-color:  red;\n",
       "        }    #T_666ba774_c704_11ea_995f_00155d51ee23row4_col2 {\n",
       "            background-color:  red;\n",
       "        }    #T_666ba774_c704_11ea_995f_00155d51ee23row4_col3 {\n",
       "            background-color:  red;\n",
       "        }    #T_666ba774_c704_11ea_995f_00155d51ee23row4_col4 {\n",
       "            background-color:  red;\n",
       "        }    #T_666ba774_c704_11ea_995f_00155d51ee23row4_col5 {\n",
       "            background-color:  red;\n",
       "        }    #T_666ba774_c704_11ea_995f_00155d51ee23row4_col6 {\n",
       "            background-color:  red;\n",
       "        }    #T_666ba774_c704_11ea_995f_00155d51ee23row4_col7 {\n",
       "            background-color:  red;\n",
       "        }    #T_666ba774_c704_11ea_995f_00155d51ee23row4_col8 {\n",
       "            background-color:  red;\n",
       "        }    #T_666ba774_c704_11ea_995f_00155d51ee23row4_col9 {\n",
       "            background-color:  red;\n",
       "        }    #T_666ba774_c704_11ea_995f_00155d51ee23row4_col10 {\n",
       "            background-color:  red;\n",
       "        }    #T_666ba774_c704_11ea_995f_00155d51ee23row4_col11 {\n",
       "            background-color:  red;\n",
       "        }</style><table id=\"T_666ba774_c704_11ea_995f_00155d51ee23\" ><thead>    <tr>        <th class=\"blank level0\" ></th>        <th class=\"col_heading level0 col0\" colspan=6>IS_CRIME</th>        <th class=\"col_heading level0 col6\" colspan=6>IS_TRAFFIC</th>    </tr>    <tr>        <th class=\"blank level1\" ></th>        <th class=\"col_heading level1 col0\" >2012</th>        <th class=\"col_heading level1 col1\" >2013</th>        <th class=\"col_heading level1 col2\" >2014</th>        <th class=\"col_heading level1 col3\" >2015</th>        <th class=\"col_heading level1 col4\" >2016</th>        <th class=\"col_heading level1 col5\" >2017</th>        <th class=\"col_heading level1 col6\" >2012</th>        <th class=\"col_heading level1 col7\" >2013</th>        <th class=\"col_heading level1 col8\" >2014</th>        <th class=\"col_heading level1 col9\" >2015</th>        <th class=\"col_heading level1 col10\" >2016</th>        <th class=\"col_heading level1 col11\" >2017</th>    </tr></thead><tbody>\n",
       "                <tr>\n",
       "                        <th id=\"T_666ba774_c704_11ea_995f_00155d51ee23level0_row0\" class=\"row_heading level0 row0\" >0</th>\n",
       "                        <td id=\"T_666ba774_c704_11ea_995f_00155d51ee23row0_col0\" class=\"data row0 col0\" >4979</td>\n",
       "                        <td id=\"T_666ba774_c704_11ea_995f_00155d51ee23row0_col1\" class=\"data row0 col1\" >8090</td>\n",
       "                        <td id=\"T_666ba774_c704_11ea_995f_00155d51ee23row0_col2\" class=\"data row0 col2\" >10929</td>\n",
       "                        <td id=\"T_666ba774_c704_11ea_995f_00155d51ee23row0_col3\" class=\"data row0 col3\" >10743</td>\n",
       "                        <td id=\"T_666ba774_c704_11ea_995f_00155d51ee23row0_col4\" class=\"data row0 col4\" >10504</td>\n",
       "                        <td id=\"T_666ba774_c704_11ea_995f_00155d51ee23row0_col5\" class=\"data row0 col5\" >7623</td>\n",
       "                        <td id=\"T_666ba774_c704_11ea_995f_00155d51ee23row0_col6\" class=\"data row0 col6\" >1951</td>\n",
       "                        <td id=\"T_666ba774_c704_11ea_995f_00155d51ee23row0_col7\" class=\"data row0 col7\" >1775</td>\n",
       "                        <td id=\"T_666ba774_c704_11ea_995f_00155d51ee23row0_col8\" class=\"data row0 col8\" >2154</td>\n",
       "                        <td id=\"T_666ba774_c704_11ea_995f_00155d51ee23row0_col9\" class=\"data row0 col9\" >2387</td>\n",
       "                        <td id=\"T_666ba774_c704_11ea_995f_00155d51ee23row0_col10\" class=\"data row0 col10\" >2067</td>\n",
       "                        <td id=\"T_666ba774_c704_11ea_995f_00155d51ee23row0_col11\" class=\"data row0 col11\" >1632</td>\n",
       "            </tr>\n",
       "            <tr>\n",
       "                        <th id=\"T_666ba774_c704_11ea_995f_00155d51ee23level0_row1\" class=\"row_heading level0 row1\" >4</th>\n",
       "                        <td id=\"T_666ba774_c704_11ea_995f_00155d51ee23row1_col0\" class=\"data row1 col0\" >2925</td>\n",
       "                        <td id=\"T_666ba774_c704_11ea_995f_00155d51ee23row1_col1\" class=\"data row1 col1\" >4319</td>\n",
       "                        <td id=\"T_666ba774_c704_11ea_995f_00155d51ee23row1_col2\" class=\"data row1 col2\" >5826</td>\n",
       "                        <td id=\"T_666ba774_c704_11ea_995f_00155d51ee23row1_col3\" class=\"data row1 col3\" >5927</td>\n",
       "                        <td id=\"T_666ba774_c704_11ea_995f_00155d51ee23row1_col4\" class=\"data row1 col4\" >6037</td>\n",
       "                        <td id=\"T_666ba774_c704_11ea_995f_00155d51ee23row1_col5\" class=\"data row1 col5\" >4403</td>\n",
       "                        <td id=\"T_666ba774_c704_11ea_995f_00155d51ee23row1_col6\" class=\"data row1 col6\" >941</td>\n",
       "                        <td id=\"T_666ba774_c704_11ea_995f_00155d51ee23row1_col7\" class=\"data row1 col7\" >869</td>\n",
       "                        <td id=\"T_666ba774_c704_11ea_995f_00155d51ee23row1_col8\" class=\"data row1 col8\" >1007</td>\n",
       "                        <td id=\"T_666ba774_c704_11ea_995f_00155d51ee23row1_col9\" class=\"data row1 col9\" >1073</td>\n",
       "                        <td id=\"T_666ba774_c704_11ea_995f_00155d51ee23row1_col10\" class=\"data row1 col10\" >1042</td>\n",
       "                        <td id=\"T_666ba774_c704_11ea_995f_00155d51ee23row1_col11\" class=\"data row1 col11\" >701</td>\n",
       "            </tr>\n",
       "            <tr>\n",
       "                        <th id=\"T_666ba774_c704_11ea_995f_00155d51ee23level0_row2\" class=\"row_heading level0 row2\" >8</th>\n",
       "                        <td id=\"T_666ba774_c704_11ea_995f_00155d51ee23row2_col0\" class=\"data row2 col0\" >5762</td>\n",
       "                        <td id=\"T_666ba774_c704_11ea_995f_00155d51ee23row2_col1\" class=\"data row2 col1\" >6516</td>\n",
       "                        <td id=\"T_666ba774_c704_11ea_995f_00155d51ee23row2_col2\" class=\"data row2 col2\" >7248</td>\n",
       "                        <td id=\"T_666ba774_c704_11ea_995f_00155d51ee23row2_col3\" class=\"data row2 col3\" >8235</td>\n",
       "                        <td id=\"T_666ba774_c704_11ea_995f_00155d51ee23row2_col4\" class=\"data row2 col4\" >8541</td>\n",
       "                        <td id=\"T_666ba774_c704_11ea_995f_00155d51ee23row2_col5\" class=\"data row2 col5\" >6489</td>\n",
       "                        <td id=\"T_666ba774_c704_11ea_995f_00155d51ee23row2_col6\" class=\"data row2 col6\" >3255</td>\n",
       "                        <td id=\"T_666ba774_c704_11ea_995f_00155d51ee23row2_col7\" class=\"data row2 col7\" >3236</td>\n",
       "                        <td id=\"T_666ba774_c704_11ea_995f_00155d51ee23row2_col8\" class=\"data row2 col8\" >3672</td>\n",
       "                        <td id=\"T_666ba774_c704_11ea_995f_00155d51ee23row2_col9\" class=\"data row2 col9\" >3847</td>\n",
       "                        <td id=\"T_666ba774_c704_11ea_995f_00155d51ee23row2_col10\" class=\"data row2 col10\" >3990</td>\n",
       "                        <td id=\"T_666ba774_c704_11ea_995f_00155d51ee23row2_col11\" class=\"data row2 col11\" >3128</td>\n",
       "            </tr>\n",
       "            <tr>\n",
       "                        <th id=\"T_666ba774_c704_11ea_995f_00155d51ee23level0_row3\" class=\"row_heading level0 row3\" >12</th>\n",
       "                        <td id=\"T_666ba774_c704_11ea_995f_00155d51ee23row3_col0\" class=\"data row3 col0\" >8681</td>\n",
       "                        <td id=\"T_666ba774_c704_11ea_995f_00155d51ee23row3_col1\" class=\"data row3 col1\" >11060</td>\n",
       "                        <td id=\"T_666ba774_c704_11ea_995f_00155d51ee23row3_col2\" class=\"data row3 col2\" >12630</td>\n",
       "                        <td id=\"T_666ba774_c704_11ea_995f_00155d51ee23row3_col3\" class=\"data row3 col3\" >13494</td>\n",
       "                        <td id=\"T_666ba774_c704_11ea_995f_00155d51ee23row3_col4\" class=\"data row3 col4\" >13927</td>\n",
       "                        <td id=\"T_666ba774_c704_11ea_995f_00155d51ee23row3_col5\" class=\"data row3 col5\" >10749</td>\n",
       "                        <td id=\"T_666ba774_c704_11ea_995f_00155d51ee23row3_col6\" class=\"data row3 col6\" >4263</td>\n",
       "                        <td id=\"T_666ba774_c704_11ea_995f_00155d51ee23row3_col7\" class=\"data row3 col7\" >4132</td>\n",
       "                        <td id=\"T_666ba774_c704_11ea_995f_00155d51ee23row3_col8\" class=\"data row3 col8\" >4698</td>\n",
       "                        <td id=\"T_666ba774_c704_11ea_995f_00155d51ee23row3_col9\" class=\"data row3 col9\" >5162</td>\n",
       "                        <td id=\"T_666ba774_c704_11ea_995f_00155d51ee23row3_col10\" class=\"data row3 col10\" >5175</td>\n",
       "                        <td id=\"T_666ba774_c704_11ea_995f_00155d51ee23row3_col11\" class=\"data row3 col11\" >3876</td>\n",
       "            </tr>\n",
       "            <tr>\n",
       "                        <th id=\"T_666ba774_c704_11ea_995f_00155d51ee23level0_row4\" class=\"row_heading level0 row4\" >16</th>\n",
       "                        <td id=\"T_666ba774_c704_11ea_995f_00155d51ee23row4_col0\" class=\"data row4 col0\" >8157</td>\n",
       "                        <td id=\"T_666ba774_c704_11ea_995f_00155d51ee23row4_col1\" class=\"data row4 col1\" >11492</td>\n",
       "                        <td id=\"T_666ba774_c704_11ea_995f_00155d51ee23row4_col2\" class=\"data row4 col2\" >14333</td>\n",
       "                        <td id=\"T_666ba774_c704_11ea_995f_00155d51ee23row4_col3\" class=\"data row4 col3\" >15109</td>\n",
       "                        <td id=\"T_666ba774_c704_11ea_995f_00155d51ee23row4_col4\" class=\"data row4 col4\" >15202</td>\n",
       "                        <td id=\"T_666ba774_c704_11ea_995f_00155d51ee23row4_col5\" class=\"data row4 col5\" >12190</td>\n",
       "                        <td id=\"T_666ba774_c704_11ea_995f_00155d51ee23row4_col6\" class=\"data row4 col6\" >5465</td>\n",
       "                        <td id=\"T_666ba774_c704_11ea_995f_00155d51ee23row4_col7\" class=\"data row4 col7\" >5191</td>\n",
       "                        <td id=\"T_666ba774_c704_11ea_995f_00155d51ee23row4_col8\" class=\"data row4 col8\" >6061</td>\n",
       "                        <td id=\"T_666ba774_c704_11ea_995f_00155d51ee23row4_col9\" class=\"data row4 col9\" >6348</td>\n",
       "                        <td id=\"T_666ba774_c704_11ea_995f_00155d51ee23row4_col10\" class=\"data row4 col10\" >6860</td>\n",
       "                        <td id=\"T_666ba774_c704_11ea_995f_00155d51ee23row4_col11\" class=\"data row4 col11\" >5287</td>\n",
       "            </tr>\n",
       "            <tr>\n",
       "                        <th id=\"T_666ba774_c704_11ea_995f_00155d51ee23level0_row5\" class=\"row_heading level0 row5\" >20</th>\n",
       "                        <td id=\"T_666ba774_c704_11ea_995f_00155d51ee23row5_col0\" class=\"data row5 col0\" >6782</td>\n",
       "                        <td id=\"T_666ba774_c704_11ea_995f_00155d51ee23row5_col1\" class=\"data row5 col1\" >9221</td>\n",
       "                        <td id=\"T_666ba774_c704_11ea_995f_00155d51ee23row5_col2\" class=\"data row5 col2\" >11724</td>\n",
       "                        <td id=\"T_666ba774_c704_11ea_995f_00155d51ee23row5_col3\" class=\"data row5 col3\" >12386</td>\n",
       "                        <td id=\"T_666ba774_c704_11ea_995f_00155d51ee23row5_col4\" class=\"data row5 col4\" >13170</td>\n",
       "                        <td id=\"T_666ba774_c704_11ea_995f_00155d51ee23row5_col5\" class=\"data row5 col5\" >10448</td>\n",
       "                        <td id=\"T_666ba774_c704_11ea_995f_00155d51ee23row5_col6\" class=\"data row5 col6\" >3911</td>\n",
       "                        <td id=\"T_666ba774_c704_11ea_995f_00155d51ee23row5_col7\" class=\"data row5 col7\" >3659</td>\n",
       "                        <td id=\"T_666ba774_c704_11ea_995f_00155d51ee23row5_col8\" class=\"data row5 col8\" >4171</td>\n",
       "                        <td id=\"T_666ba774_c704_11ea_995f_00155d51ee23row5_col9\" class=\"data row5 col9\" >4493</td>\n",
       "                        <td id=\"T_666ba774_c704_11ea_995f_00155d51ee23row5_col10\" class=\"data row5 col10\" >4610</td>\n",
       "                        <td id=\"T_666ba774_c704_11ea_995f_00155d51ee23row5_col11\" class=\"data row5 col11\" >3212</td>\n",
       "            </tr>\n",
       "    </tbody></table>"
      ],
      "text/plain": [
       "<pandas.io.formats.style.Styler at 0x7fc1f454c048>"
      ]
     },
     "execution_count": 139,
     "metadata": {},
     "output_type": "execute_result"
    }
   ],
   "source": [
    "# 对每列的最大值着色\n",
    "\n",
    "cr_final.style.highlight_max(color='red')"
   ]
  },
  {
   "cell_type": "code",
   "execution_count": 145,
   "metadata": {},
   "outputs": [
    {
     "data": {
      "text/html": [
       "<div>\n",
       "<style scoped>\n",
       "    .dataframe tbody tr th:only-of-type {\n",
       "        vertical-align: middle;\n",
       "    }\n",
       "\n",
       "    .dataframe tbody tr th {\n",
       "        vertical-align: top;\n",
       "    }\n",
       "\n",
       "    .dataframe thead th {\n",
       "        text-align: right;\n",
       "    }\n",
       "</style>\n",
       "<table border=\"1\" class=\"dataframe\">\n",
       "  <thead>\n",
       "    <tr style=\"text-align: right;\">\n",
       "      <th></th>\n",
       "      <th>2012</th>\n",
       "      <th>2013</th>\n",
       "      <th>2014</th>\n",
       "      <th>2015</th>\n",
       "      <th>2016</th>\n",
       "      <th>2017</th>\n",
       "    </tr>\n",
       "  </thead>\n",
       "  <tbody>\n",
       "    <tr>\n",
       "      <th>0</th>\n",
       "      <td>919</td>\n",
       "      <td>792</td>\n",
       "      <td>978</td>\n",
       "      <td>1136</td>\n",
       "      <td>980</td>\n",
       "      <td>782</td>\n",
       "    </tr>\n",
       "    <tr>\n",
       "      <th>2</th>\n",
       "      <td>718</td>\n",
       "      <td>652</td>\n",
       "      <td>779</td>\n",
       "      <td>773</td>\n",
       "      <td>718</td>\n",
       "      <td>537</td>\n",
       "    </tr>\n",
       "    <tr>\n",
       "      <th>4</th>\n",
       "      <td>399</td>\n",
       "      <td>378</td>\n",
       "      <td>424</td>\n",
       "      <td>471</td>\n",
       "      <td>464</td>\n",
       "      <td>313</td>\n",
       "    </tr>\n",
       "    <tr>\n",
       "      <th>...</th>\n",
       "      <td>...</td>\n",
       "      <td>...</td>\n",
       "      <td>...</td>\n",
       "      <td>...</td>\n",
       "      <td>...</td>\n",
       "      <td>...</td>\n",
       "    </tr>\n",
       "    <tr>\n",
       "      <th>18</th>\n",
       "      <td>3118</td>\n",
       "      <td>2704</td>\n",
       "      <td>3217</td>\n",
       "      <td>3412</td>\n",
       "      <td>3608</td>\n",
       "      <td>2718</td>\n",
       "    </tr>\n",
       "    <tr>\n",
       "      <th>20</th>\n",
       "      <td>1787</td>\n",
       "      <td>1806</td>\n",
       "      <td>1994</td>\n",
       "      <td>2071</td>\n",
       "      <td>2184</td>\n",
       "      <td>1491</td>\n",
       "    </tr>\n",
       "    <tr>\n",
       "      <th>22</th>\n",
       "      <td>1343</td>\n",
       "      <td>1330</td>\n",
       "      <td>1532</td>\n",
       "      <td>1671</td>\n",
       "      <td>1472</td>\n",
       "      <td>1072</td>\n",
       "    </tr>\n",
       "  </tbody>\n",
       "</table>\n",
       "<p>12 rows × 6 columns</p>\n",
       "</div>"
      ],
      "text/plain": [
       "    2012  2013  2014  2015  2016  2017\n",
       "0    919   792   978  1136   980   782\n",
       "2    718   652   779   773   718   537\n",
       "4    399   378   424   471   464   313\n",
       "..   ...   ...   ...   ...   ...   ...\n",
       "18  3118  2704  3217  3412  3608  2718\n",
       "20  1787  1806  1994  2071  2184  1491\n",
       "22  1343  1330  1532  1671  1472  1072\n",
       "\n",
       "[12 rows x 6 columns]"
      ]
     },
     "execution_count": 145,
     "metadata": {},
     "output_type": "execute_result"
    }
   ],
   "source": [
    "# xs方法可以从任意索引层选出一个唯一值\n",
    "\n",
    "### 由于'IS_TRAFFIC'是列标签，所以axis='columns'; 由于是多层索引中的第一层，所以level=0\n",
    "cr_final.xs(key='IS_TRAFFIC', axis='columns', level=0)"
   ]
  },
  {
   "cell_type": "code",
   "execution_count": 146,
   "metadata": {},
   "outputs": [
    {
     "data": {
      "text/html": [
       "<div>\n",
       "<style scoped>\n",
       "    .dataframe tbody tr th:only-of-type {\n",
       "        vertical-align: middle;\n",
       "    }\n",
       "\n",
       "    .dataframe tbody tr th {\n",
       "        vertical-align: top;\n",
       "    }\n",
       "\n",
       "    .dataframe thead th {\n",
       "        text-align: right;\n",
       "    }\n",
       "</style>\n",
       "<table border=\"1\" class=\"dataframe\">\n",
       "  <thead>\n",
       "    <tr style=\"text-align: right;\">\n",
       "      <th></th>\n",
       "      <th>IS_CRIME</th>\n",
       "      <th>IS_TRAFFIC</th>\n",
       "    </tr>\n",
       "  </thead>\n",
       "  <tbody>\n",
       "    <tr>\n",
       "      <th>0</th>\n",
       "      <td>5377</td>\n",
       "      <td>980</td>\n",
       "    </tr>\n",
       "    <tr>\n",
       "      <th>2</th>\n",
       "      <td>4091</td>\n",
       "      <td>718</td>\n",
       "    </tr>\n",
       "    <tr>\n",
       "      <th>4</th>\n",
       "      <td>3044</td>\n",
       "      <td>464</td>\n",
       "    </tr>\n",
       "    <tr>\n",
       "      <th>...</th>\n",
       "      <td>...</td>\n",
       "      <td>...</td>\n",
       "    </tr>\n",
       "    <tr>\n",
       "      <th>18</th>\n",
       "      <td>7407</td>\n",
       "      <td>3608</td>\n",
       "    </tr>\n",
       "    <tr>\n",
       "      <th>20</th>\n",
       "      <td>6963</td>\n",
       "      <td>2184</td>\n",
       "    </tr>\n",
       "    <tr>\n",
       "      <th>22</th>\n",
       "      <td>5637</td>\n",
       "      <td>1472</td>\n",
       "    </tr>\n",
       "  </tbody>\n",
       "</table>\n",
       "<p>12 rows × 2 columns</p>\n",
       "</div>"
      ],
      "text/plain": [
       "    IS_CRIME  IS_TRAFFIC\n",
       "0       5377         980\n",
       "2       4091         718\n",
       "4       3044         464\n",
       "..       ...         ...\n",
       "18      7407        3608\n",
       "20      6963        2184\n",
       "22      5637        1472\n",
       "\n",
       "[12 rows x 2 columns]"
      ]
     },
     "execution_count": 146,
     "metadata": {},
     "output_type": "execute_result"
    }
   ],
   "source": [
    "### 由于'2016'是列标签，所以axis='columns'; 由于是多层索引中的第二层，所以level=1\n",
    "\n",
    "cr_final.xs(2016, axis='columns', level=1)"
   ]
  },
  {
   "cell_type": "code",
   "execution_count": 153,
   "metadata": {},
   "outputs": [
    {
     "data": {
      "text/html": [
       "<div>\n",
       "<style scoped>\n",
       "    .dataframe tbody tr th:only-of-type {\n",
       "        vertical-align: middle;\n",
       "    }\n",
       "\n",
       "    .dataframe tbody tr th {\n",
       "        vertical-align: top;\n",
       "    }\n",
       "\n",
       "    .dataframe thead th {\n",
       "        text-align: right;\n",
       "    }\n",
       "</style>\n",
       "<table border=\"1\" class=\"dataframe\">\n",
       "  <thead>\n",
       "    <tr style=\"text-align: right;\">\n",
       "      <th></th>\n",
       "      <th>2012</th>\n",
       "      <th>2013</th>\n",
       "      <th>2014</th>\n",
       "      <th>2015</th>\n",
       "      <th>2016</th>\n",
       "      <th>2017</th>\n",
       "    </tr>\n",
       "  </thead>\n",
       "  <tbody>\n",
       "    <tr>\n",
       "      <th>IS_CRIME</th>\n",
       "      <td>1472</td>\n",
       "      <td>2181</td>\n",
       "      <td>2956</td>\n",
       "      <td>2959</td>\n",
       "      <td>3044</td>\n",
       "      <td>2255</td>\n",
       "    </tr>\n",
       "    <tr>\n",
       "      <th>IS_TRAFFIC</th>\n",
       "      <td>399</td>\n",
       "      <td>378</td>\n",
       "      <td>424</td>\n",
       "      <td>471</td>\n",
       "      <td>464</td>\n",
       "      <td>313</td>\n",
       "    </tr>\n",
       "  </tbody>\n",
       "</table>\n",
       "</div>"
      ],
      "text/plain": [
       "            2012  2013  2014  2015  2016  2017\n",
       "IS_CRIME    1472  2181  2956  2959  3044  2255\n",
       "IS_TRAFFIC   399   378   424   471   464   313"
      ]
     },
     "execution_count": 153,
     "metadata": {},
     "output_type": "execute_result"
    }
   ],
   "source": [
    "### 由于'4'是索引，所以axis='index'; 由于是单层索引，所以level取默认值\n",
    "\n",
    "cr_final.xs(4, axis='index').unstack()"
   ]
  },
  {
   "cell_type": "code",
   "execution_count": 154,
   "metadata": {},
   "outputs": [
    {
     "data": {
      "text/html": [
       "<div>\n",
       "<style scoped>\n",
       "    .dataframe tbody tr th:only-of-type {\n",
       "        vertical-align: middle;\n",
       "    }\n",
       "\n",
       "    .dataframe tbody tr th {\n",
       "        vertical-align: top;\n",
       "    }\n",
       "\n",
       "    .dataframe thead th {\n",
       "        text-align: right;\n",
       "    }\n",
       "</style>\n",
       "<table border=\"1\" class=\"dataframe\">\n",
       "  <thead>\n",
       "    <tr style=\"text-align: right;\">\n",
       "      <th></th>\n",
       "      <th>IS_CRIME</th>\n",
       "      <th>IS_TRAFFIC</th>\n",
       "    </tr>\n",
       "  </thead>\n",
       "  <tbody>\n",
       "    <tr>\n",
       "      <th>2012</th>\n",
       "      <td>1472</td>\n",
       "      <td>399</td>\n",
       "    </tr>\n",
       "    <tr>\n",
       "      <th>2013</th>\n",
       "      <td>2181</td>\n",
       "      <td>378</td>\n",
       "    </tr>\n",
       "    <tr>\n",
       "      <th>2014</th>\n",
       "      <td>2956</td>\n",
       "      <td>424</td>\n",
       "    </tr>\n",
       "    <tr>\n",
       "      <th>2015</th>\n",
       "      <td>2959</td>\n",
       "      <td>471</td>\n",
       "    </tr>\n",
       "    <tr>\n",
       "      <th>2016</th>\n",
       "      <td>3044</td>\n",
       "      <td>464</td>\n",
       "    </tr>\n",
       "    <tr>\n",
       "      <th>2017</th>\n",
       "      <td>2255</td>\n",
       "      <td>313</td>\n",
       "    </tr>\n",
       "  </tbody>\n",
       "</table>\n",
       "</div>"
      ],
      "text/plain": [
       "      IS_CRIME  IS_TRAFFIC\n",
       "2012      1472         399\n",
       "2013      2181         378\n",
       "2014      2956         424\n",
       "2015      2959         471\n",
       "2016      3044         464\n",
       "2017      2255         313"
      ]
     },
     "execution_count": 154,
     "metadata": {},
     "output_type": "execute_result"
    }
   ],
   "source": [
    "cr_final.xs(4, axis='index').unstack(level=0)"
   ]
  },
  {
   "cell_type": "markdown",
   "metadata": {},
   "source": [
    "# 用时间戳和另一列分组"
   ]
  },
  {
   "cell_type": "code",
   "execution_count": 156,
   "metadata": {},
   "outputs": [
    {
     "data": {
      "text/html": [
       "<div>\n",
       "<style scoped>\n",
       "    .dataframe tbody tr th:only-of-type {\n",
       "        vertical-align: middle;\n",
       "    }\n",
       "\n",
       "    .dataframe tbody tr th {\n",
       "        vertical-align: top;\n",
       "    }\n",
       "\n",
       "    .dataframe thead th {\n",
       "        text-align: right;\n",
       "    }\n",
       "</style>\n",
       "<table border=\"1\" class=\"dataframe\">\n",
       "  <thead>\n",
       "    <tr style=\"text-align: right;\">\n",
       "      <th></th>\n",
       "      <th>UNIQUE_ID</th>\n",
       "      <th>POSITION_TITLE</th>\n",
       "      <th>DEPARTMENT</th>\n",
       "      <th>BASE_SALARY</th>\n",
       "      <th>RACE</th>\n",
       "      <th>EMPLOYMENT_TYPE</th>\n",
       "      <th>GENDER</th>\n",
       "      <th>EMPLOYMENT_STATUS</th>\n",
       "      <th>JOB_DATE</th>\n",
       "    </tr>\n",
       "    <tr>\n",
       "      <th>HIRE_DATE</th>\n",
       "      <th></th>\n",
       "      <th></th>\n",
       "      <th></th>\n",
       "      <th></th>\n",
       "      <th></th>\n",
       "      <th></th>\n",
       "      <th></th>\n",
       "      <th></th>\n",
       "      <th></th>\n",
       "    </tr>\n",
       "  </thead>\n",
       "  <tbody>\n",
       "    <tr>\n",
       "      <th>2006-06-12</th>\n",
       "      <td>0</td>\n",
       "      <td>ASSISTANT DIRECTOR (EX LVL)</td>\n",
       "      <td>Municipal Courts Department</td>\n",
       "      <td>121862.0</td>\n",
       "      <td>Hispanic/Latino</td>\n",
       "      <td>Full Time</td>\n",
       "      <td>Female</td>\n",
       "      <td>Active</td>\n",
       "      <td>2012-10-13</td>\n",
       "    </tr>\n",
       "    <tr>\n",
       "      <th>2000-07-19</th>\n",
       "      <td>1</td>\n",
       "      <td>LIBRARY ASSISTANT</td>\n",
       "      <td>Library</td>\n",
       "      <td>26125.0</td>\n",
       "      <td>Hispanic/Latino</td>\n",
       "      <td>Full Time</td>\n",
       "      <td>Female</td>\n",
       "      <td>Active</td>\n",
       "      <td>2010-09-18</td>\n",
       "    </tr>\n",
       "    <tr>\n",
       "      <th>2015-02-03</th>\n",
       "      <td>2</td>\n",
       "      <td>POLICE OFFICER</td>\n",
       "      <td>Houston Police Department-HPD</td>\n",
       "      <td>45279.0</td>\n",
       "      <td>White</td>\n",
       "      <td>Full Time</td>\n",
       "      <td>Male</td>\n",
       "      <td>Active</td>\n",
       "      <td>2015-02-03</td>\n",
       "    </tr>\n",
       "    <tr>\n",
       "      <th>1982-02-08</th>\n",
       "      <td>3</td>\n",
       "      <td>ENGINEER/OPERATOR</td>\n",
       "      <td>Houston Fire Department (HFD)</td>\n",
       "      <td>63166.0</td>\n",
       "      <td>White</td>\n",
       "      <td>Full Time</td>\n",
       "      <td>Male</td>\n",
       "      <td>Active</td>\n",
       "      <td>1991-05-25</td>\n",
       "    </tr>\n",
       "    <tr>\n",
       "      <th>1989-06-19</th>\n",
       "      <td>4</td>\n",
       "      <td>ELECTRICIAN</td>\n",
       "      <td>General Services Department</td>\n",
       "      <td>56347.0</td>\n",
       "      <td>White</td>\n",
       "      <td>Full Time</td>\n",
       "      <td>Male</td>\n",
       "      <td>Active</td>\n",
       "      <td>1994-10-22</td>\n",
       "    </tr>\n",
       "  </tbody>\n",
       "</table>\n",
       "</div>"
      ],
      "text/plain": [
       "            UNIQUE_ID               POSITION_TITLE  \\\n",
       "HIRE_DATE                                            \n",
       "2006-06-12          0  ASSISTANT DIRECTOR (EX LVL)   \n",
       "2000-07-19          1            LIBRARY ASSISTANT   \n",
       "2015-02-03          2               POLICE OFFICER   \n",
       "1982-02-08          3            ENGINEER/OPERATOR   \n",
       "1989-06-19          4                  ELECTRICIAN   \n",
       "\n",
       "                               DEPARTMENT  BASE_SALARY             RACE  \\\n",
       "HIRE_DATE                                                                 \n",
       "2006-06-12    Municipal Courts Department     121862.0  Hispanic/Latino   \n",
       "2000-07-19                        Library      26125.0  Hispanic/Latino   \n",
       "2015-02-03  Houston Police Department-HPD      45279.0            White   \n",
       "1982-02-08  Houston Fire Department (HFD)      63166.0            White   \n",
       "1989-06-19    General Services Department      56347.0            White   \n",
       "\n",
       "           EMPLOYMENT_TYPE  GENDER EMPLOYMENT_STATUS   JOB_DATE  \n",
       "HIRE_DATE                                                        \n",
       "2006-06-12       Full Time  Female            Active 2012-10-13  \n",
       "2000-07-19       Full Time  Female            Active 2010-09-18  \n",
       "2015-02-03       Full Time    Male            Active 2015-02-03  \n",
       "1982-02-08       Full Time    Male            Active 1991-05-25  \n",
       "1989-06-19       Full Time    Male            Active 1994-10-22  "
      ]
     },
     "execution_count": 156,
     "metadata": {},
     "output_type": "execute_result"
    }
   ],
   "source": [
    "employee = pd.read_csv('data/employee.csv', parse_dates=['JOB_DATE', 'HIRE_DATE'],\n",
    "                      index_col='HIRE_DATE')\n",
    "employee.head()"
   ]
  },
  {
   "cell_type": "code",
   "execution_count": 159,
   "metadata": {},
   "outputs": [
    {
     "data": {
      "text/plain": [
       "GENDER\n",
       "Female    52200.0\n",
       "Male      57400.0\n",
       "Name: BASE_SALARY, dtype: float64"
      ]
     },
     "execution_count": 159,
     "metadata": {},
     "output_type": "execute_result"
    }
   ],
   "source": [
    "# 对性别进行分组，查看二者的平均工资\n",
    "\n",
    "employee.groupby('GENDER')['BASE_SALARY'].mean().round(-2)"
   ]
  },
  {
   "cell_type": "code",
   "execution_count": 160,
   "metadata": {},
   "outputs": [
    {
     "data": {
      "text/html": [
       "<div>\n",
       "<style scoped>\n",
       "    .dataframe tbody tr th:only-of-type {\n",
       "        vertical-align: middle;\n",
       "    }\n",
       "\n",
       "    .dataframe tbody tr th {\n",
       "        vertical-align: top;\n",
       "    }\n",
       "\n",
       "    .dataframe thead th {\n",
       "        text-align: right;\n",
       "    }\n",
       "</style>\n",
       "<table border=\"1\" class=\"dataframe\">\n",
       "  <thead>\n",
       "    <tr style=\"text-align: right;\">\n",
       "      <th></th>\n",
       "      <th>UNIQUE_ID</th>\n",
       "      <th>BASE_SALARY</th>\n",
       "    </tr>\n",
       "    <tr>\n",
       "      <th>GENDER</th>\n",
       "      <th></th>\n",
       "      <th></th>\n",
       "    </tr>\n",
       "  </thead>\n",
       "  <tbody>\n",
       "    <tr>\n",
       "      <th>Female</th>\n",
       "      <td>1010.341625</td>\n",
       "      <td>52168.339688</td>\n",
       "    </tr>\n",
       "    <tr>\n",
       "      <th>Male</th>\n",
       "      <td>994.820329</td>\n",
       "      <td>57354.611917</td>\n",
       "    </tr>\n",
       "  </tbody>\n",
       "</table>\n",
       "</div>"
      ],
      "text/plain": [
       "          UNIQUE_ID   BASE_SALARY\n",
       "GENDER                           \n",
       "Female  1010.341625  52168.339688\n",
       "Male     994.820329  57354.611917"
      ]
     },
     "execution_count": 160,
     "metadata": {},
     "output_type": "execute_result"
    }
   ],
   "source": [
    "employee.groupby('GENDER').mean()"
   ]
  },
  {
   "cell_type": "code",
   "execution_count": 161,
   "metadata": {},
   "outputs": [
    {
     "data": {
      "text/plain": [
       "HIRE_DATE\n",
       "1958-01-01     81200.0\n",
       "1968-01-01    106500.0\n",
       "1978-01-01     69600.0\n",
       "1988-01-01     62300.0\n",
       "1998-01-01     58200.0\n",
       "2008-01-01     47200.0\n",
       "Freq: 10AS-JAN, Name: BASE_SALARY, dtype: float64"
      ]
     },
     "execution_count": 161,
     "metadata": {},
     "output_type": "execute_result"
    }
   ],
   "source": [
    "# 根据聘用日期，每10年分一组，查看工资情况\n",
    "\n",
    "employee.resample('10AS')['BASE_SALARY'].mean().round(-2)"
   ]
  },
  {
   "cell_type": "code",
   "execution_count": 184,
   "metadata": {},
   "outputs": [
    {
     "data": {
      "text/html": [
       "<div>\n",
       "<style scoped>\n",
       "    .dataframe tbody tr th:only-of-type {\n",
       "        vertical-align: middle;\n",
       "    }\n",
       "\n",
       "    .dataframe tbody tr th {\n",
       "        vertical-align: top;\n",
       "    }\n",
       "\n",
       "    .dataframe thead th {\n",
       "        text-align: right;\n",
       "    }\n",
       "</style>\n",
       "<table border=\"1\" class=\"dataframe\">\n",
       "  <thead>\n",
       "    <tr style=\"text-align: right;\">\n",
       "      <th>GENDER</th>\n",
       "      <th>Female</th>\n",
       "      <th>Male</th>\n",
       "    </tr>\n",
       "    <tr>\n",
       "      <th>HIRE_DATE</th>\n",
       "      <th></th>\n",
       "      <th></th>\n",
       "    </tr>\n",
       "  </thead>\n",
       "  <tbody>\n",
       "    <tr>\n",
       "      <th>1958-01-01</th>\n",
       "      <td>NaN</td>\n",
       "      <td>81200.0</td>\n",
       "    </tr>\n",
       "    <tr>\n",
       "      <th>1968-01-01</th>\n",
       "      <td>NaN</td>\n",
       "      <td>106500.0</td>\n",
       "    </tr>\n",
       "    <tr>\n",
       "      <th>1978-01-01</th>\n",
       "      <td>57100.0</td>\n",
       "      <td>72300.0</td>\n",
       "    </tr>\n",
       "    <tr>\n",
       "      <th>1988-01-01</th>\n",
       "      <td>57100.0</td>\n",
       "      <td>64600.0</td>\n",
       "    </tr>\n",
       "    <tr>\n",
       "      <th>1998-01-01</th>\n",
       "      <td>54700.0</td>\n",
       "      <td>59700.0</td>\n",
       "    </tr>\n",
       "    <tr>\n",
       "      <th>2008-01-01</th>\n",
       "      <td>47300.0</td>\n",
       "      <td>47200.0</td>\n",
       "    </tr>\n",
       "  </tbody>\n",
       "</table>\n",
       "</div>"
      ],
      "text/plain": [
       "GENDER       Female      Male\n",
       "HIRE_DATE                    \n",
       "1958-01-01      NaN   81200.0\n",
       "1968-01-01      NaN  106500.0\n",
       "1978-01-01  57100.0   72300.0\n",
       "1988-01-01  57100.0   64600.0\n",
       "1998-01-01  54700.0   59700.0\n",
       "2008-01-01  47300.0   47200.0"
      ]
     },
     "execution_count": 184,
     "metadata": {},
     "output_type": "execute_result"
    }
   ],
   "source": [
    "# 根据日期和性别同时分组\n",
    "\n",
    "sal_final = employee.groupby(['GENDER', pd.Grouper(freq='10AS')])['BASE_SALARY'].mean()\n",
    "sal_final = sal_final.round(-2).unstack(level=0)\n",
    "sal_final"
   ]
  },
  {
   "cell_type": "code",
   "execution_count": 185,
   "metadata": {},
   "outputs": [
    {
     "data": {
      "text/plain": [
       "True"
      ]
     },
     "execution_count": 185,
     "metadata": {},
     "output_type": "execute_result"
    }
   ],
   "source": [
    "# groupby返回对象包含resample方法，但相反却不成立\n",
    "\n",
    "'resample' in dir(employee.groupby('GENDER'))"
   ]
  },
  {
   "cell_type": "code",
   "execution_count": 186,
   "metadata": {},
   "outputs": [
    {
     "data": {
      "text/plain": [
       "False"
      ]
     },
     "execution_count": 186,
     "metadata": {},
     "output_type": "execute_result"
    }
   ],
   "source": [
    "'groupby' in dir(employee.resample('10AS'))"
   ]
  },
  {
   "cell_type": "code",
   "execution_count": 187,
   "metadata": {},
   "outputs": [
    {
     "data": {
      "text/html": [
       "<div>\n",
       "<style scoped>\n",
       "    .dataframe tbody tr th:only-of-type {\n",
       "        vertical-align: middle;\n",
       "    }\n",
       "\n",
       "    .dataframe tbody tr th {\n",
       "        vertical-align: top;\n",
       "    }\n",
       "\n",
       "    .dataframe thead th {\n",
       "        text-align: right;\n",
       "    }\n",
       "</style>\n",
       "<table border=\"1\" class=\"dataframe\">\n",
       "  <thead>\n",
       "    <tr style=\"text-align: right;\">\n",
       "      <th>GENDER</th>\n",
       "      <th>Female</th>\n",
       "      <th>Male</th>\n",
       "    </tr>\n",
       "    <tr>\n",
       "      <th>HIRE_DATE</th>\n",
       "      <th></th>\n",
       "      <th></th>\n",
       "    </tr>\n",
       "  </thead>\n",
       "  <tbody>\n",
       "    <tr>\n",
       "      <th>1958-01-01</th>\n",
       "      <td>NaN</td>\n",
       "      <td>81200.0</td>\n",
       "    </tr>\n",
       "    <tr>\n",
       "      <th>1968-01-01</th>\n",
       "      <td>NaN</td>\n",
       "      <td>106500.0</td>\n",
       "    </tr>\n",
       "    <tr>\n",
       "      <th>1978-01-01</th>\n",
       "      <td>57100.0</td>\n",
       "      <td>72300.0</td>\n",
       "    </tr>\n",
       "    <tr>\n",
       "      <th>1988-01-01</th>\n",
       "      <td>57100.0</td>\n",
       "      <td>64600.0</td>\n",
       "    </tr>\n",
       "    <tr>\n",
       "      <th>1998-01-01</th>\n",
       "      <td>54700.0</td>\n",
       "      <td>59700.0</td>\n",
       "    </tr>\n",
       "    <tr>\n",
       "      <th>2008-01-01</th>\n",
       "      <td>47300.0</td>\n",
       "      <td>47200.0</td>\n",
       "    </tr>\n",
       "  </tbody>\n",
       "</table>\n",
       "</div>"
      ],
      "text/plain": [
       "GENDER       Female      Male\n",
       "HIRE_DATE                    \n",
       "1958-01-01      NaN   81200.0\n",
       "1968-01-01      NaN  106500.0\n",
       "1978-01-01  57100.0   72300.0\n",
       "1988-01-01  57100.0   64600.0\n",
       "1998-01-01  54700.0   59700.0\n",
       "2008-01-01  47300.0   47200.0"
      ]
     },
     "execution_count": 187,
     "metadata": {},
     "output_type": "execute_result"
    }
   ],
   "source": [
    "sal_final"
   ]
  },
  {
   "cell_type": "code",
   "execution_count": 189,
   "metadata": {},
   "outputs": [
    {
     "data": {
      "text/html": [
       "<div>\n",
       "<style scoped>\n",
       "    .dataframe tbody tr th:only-of-type {\n",
       "        vertical-align: middle;\n",
       "    }\n",
       "\n",
       "    .dataframe tbody tr th {\n",
       "        vertical-align: top;\n",
       "    }\n",
       "\n",
       "    .dataframe thead th {\n",
       "        text-align: right;\n",
       "    }\n",
       "</style>\n",
       "<table border=\"1\" class=\"dataframe\">\n",
       "  <thead>\n",
       "    <tr style=\"text-align: right;\">\n",
       "      <th>GENDER</th>\n",
       "      <th>Female</th>\n",
       "      <th>Male</th>\n",
       "    </tr>\n",
       "    <tr>\n",
       "      <th>HIRE_DATE</th>\n",
       "      <th></th>\n",
       "      <th></th>\n",
       "    </tr>\n",
       "  </thead>\n",
       "  <tbody>\n",
       "    <tr>\n",
       "      <th>1958-1967</th>\n",
       "      <td>NaN</td>\n",
       "      <td>81200.0</td>\n",
       "    </tr>\n",
       "    <tr>\n",
       "      <th>1968-1977</th>\n",
       "      <td>NaN</td>\n",
       "      <td>106500.0</td>\n",
       "    </tr>\n",
       "    <tr>\n",
       "      <th>1978-1987</th>\n",
       "      <td>57100.0</td>\n",
       "      <td>72300.0</td>\n",
       "    </tr>\n",
       "    <tr>\n",
       "      <th>1988-1997</th>\n",
       "      <td>57100.0</td>\n",
       "      <td>64600.0</td>\n",
       "    </tr>\n",
       "    <tr>\n",
       "      <th>1998-2007</th>\n",
       "      <td>54700.0</td>\n",
       "      <td>59700.0</td>\n",
       "    </tr>\n",
       "    <tr>\n",
       "      <th>2008-2017</th>\n",
       "      <td>47300.0</td>\n",
       "      <td>47200.0</td>\n",
       "    </tr>\n",
       "  </tbody>\n",
       "</table>\n",
       "</div>"
      ],
      "text/plain": [
       "GENDER      Female      Male\n",
       "HIRE_DATE                   \n",
       "1958-1967      NaN   81200.0\n",
       "1968-1977      NaN  106500.0\n",
       "1978-1987  57100.0   72300.0\n",
       "1988-1997  57100.0   64600.0\n",
       "1998-2007  54700.0   59700.0\n",
       "2008-2017  47300.0   47200.0"
      ]
     },
     "execution_count": 189,
     "metadata": {},
     "output_type": "execute_result"
    }
   ],
   "source": [
    "# 手工创造时间区间\n",
    "\n",
    "_sal_final = sal_final.copy()\n",
    "\n",
    "years = _sal_final.index.year\n",
    "years_right = years + 9\n",
    "_sal_final.index = years.astype(str) + '-' + years_right.astype(str)\n",
    "_sal_final"
   ]
  },
  {
   "cell_type": "code",
   "execution_count": 190,
   "metadata": {},
   "outputs": [
    {
     "data": {
      "text/plain": [
       "<IntervalArray>\n",
       "[(1958.0, 1970.0], (1970.0, 1981.0], (1981.0, 1993.0], (1993.0, 2004.0], (2004.0, 2016.0]]\n",
       "Length: 5, closed: right, dtype: interval[float64]"
      ]
     },
     "execution_count": 190,
     "metadata": {},
     "output_type": "execute_result"
    }
   ],
   "source": [
    "# 用cut函数创造基于每名员工受聘年份的等宽间隔\n",
    "\n",
    "cuts = pd.cut(employee.index.year, bins=5, precision=0)\n",
    "cuts.categories.values"
   ]
  },
  {
   "cell_type": "code",
   "execution_count": 193,
   "metadata": {},
   "outputs": [
    {
     "data": {
      "text/plain": [
       "                  GENDER\n",
       "(1958.0, 1970.0]  Female        NaN\n",
       "                  Male      85400.0\n",
       "(1970.0, 1981.0]  Female    54400.0\n",
       "                             ...   \n",
       "(1993.0, 2004.0]  Male      62300.0\n",
       "(2004.0, 2016.0]  Female    49100.0\n",
       "                  Male      49800.0\n",
       "Name: BASE_SALARY, Length: 10, dtype: float64"
      ]
     },
     "execution_count": 193,
     "metadata": {},
     "output_type": "execute_result"
    }
   ],
   "source": [
    "employee.groupby([cuts, 'GENDER'])['BASE_SALARY'].mean().round(-2)"
   ]
  },
  {
   "cell_type": "code",
   "execution_count": 194,
   "metadata": {},
   "outputs": [
    {
     "data": {
      "text/html": [
       "<div>\n",
       "<style scoped>\n",
       "    .dataframe tbody tr th:only-of-type {\n",
       "        vertical-align: middle;\n",
       "    }\n",
       "\n",
       "    .dataframe tbody tr th {\n",
       "        vertical-align: top;\n",
       "    }\n",
       "\n",
       "    .dataframe thead th {\n",
       "        text-align: right;\n",
       "    }\n",
       "</style>\n",
       "<table border=\"1\" class=\"dataframe\">\n",
       "  <thead>\n",
       "    <tr style=\"text-align: right;\">\n",
       "      <th>GENDER</th>\n",
       "      <th>Female</th>\n",
       "      <th>Male</th>\n",
       "    </tr>\n",
       "  </thead>\n",
       "  <tbody>\n",
       "    <tr>\n",
       "      <th>(1958.0, 1970.0]</th>\n",
       "      <td>NaN</td>\n",
       "      <td>85400.0</td>\n",
       "    </tr>\n",
       "    <tr>\n",
       "      <th>(1970.0, 1981.0]</th>\n",
       "      <td>54400.0</td>\n",
       "      <td>72700.0</td>\n",
       "    </tr>\n",
       "    <tr>\n",
       "      <th>(1981.0, 1993.0]</th>\n",
       "      <td>55700.0</td>\n",
       "      <td>69300.0</td>\n",
       "    </tr>\n",
       "    <tr>\n",
       "      <th>(1993.0, 2004.0]</th>\n",
       "      <td>56500.0</td>\n",
       "      <td>62300.0</td>\n",
       "    </tr>\n",
       "    <tr>\n",
       "      <th>(2004.0, 2016.0]</th>\n",
       "      <td>49100.0</td>\n",
       "      <td>49800.0</td>\n",
       "    </tr>\n",
       "  </tbody>\n",
       "</table>\n",
       "</div>"
      ],
      "text/plain": [
       "GENDER             Female     Male\n",
       "(1958.0, 1970.0]      NaN  85400.0\n",
       "(1970.0, 1981.0]  54400.0  72700.0\n",
       "(1981.0, 1993.0]  55700.0  69300.0\n",
       "(1993.0, 2004.0]  56500.0  62300.0\n",
       "(2004.0, 2016.0]  49100.0  49800.0"
      ]
     },
     "execution_count": 194,
     "metadata": {},
     "output_type": "execute_result"
    }
   ],
   "source": [
    "employee.groupby([cuts, 'GENDER'])['BASE_SALARY'].mean().unstack('GENDER').round(-2)"
   ]
  },
  {
   "cell_type": "code",
   "execution_count": 196,
   "metadata": {},
   "outputs": [
    {
     "data": {
      "text/html": [
       "<div>\n",
       "<style scoped>\n",
       "    .dataframe tbody tr th:only-of-type {\n",
       "        vertical-align: middle;\n",
       "    }\n",
       "\n",
       "    .dataframe tbody tr th {\n",
       "        vertical-align: top;\n",
       "    }\n",
       "\n",
       "    .dataframe thead th {\n",
       "        text-align: right;\n",
       "    }\n",
       "</style>\n",
       "<table border=\"1\" class=\"dataframe\">\n",
       "  <thead>\n",
       "    <tr style=\"text-align: right;\">\n",
       "      <th></th>\n",
       "      <th>OFFENSE_TYPE_ID</th>\n",
       "      <th>OFFENSE_CATEGORY_ID</th>\n",
       "      <th>GEO_LON</th>\n",
       "      <th>GEO_LAT</th>\n",
       "      <th>NEIGHBORHOOD_ID</th>\n",
       "      <th>IS_CRIME</th>\n",
       "      <th>IS_TRAFFIC</th>\n",
       "    </tr>\n",
       "    <tr>\n",
       "      <th>REPORTED_DATE</th>\n",
       "      <th></th>\n",
       "      <th></th>\n",
       "      <th></th>\n",
       "      <th></th>\n",
       "      <th></th>\n",
       "      <th></th>\n",
       "      <th></th>\n",
       "    </tr>\n",
       "  </thead>\n",
       "  <tbody>\n",
       "    <tr>\n",
       "      <th>2012-01-02 00:06:00</th>\n",
       "      <td>aggravated-assault</td>\n",
       "      <td>aggravated-assault</td>\n",
       "      <td>-104.816860</td>\n",
       "      <td>39.796717</td>\n",
       "      <td>montbello</td>\n",
       "      <td>1</td>\n",
       "      <td>0</td>\n",
       "    </tr>\n",
       "    <tr>\n",
       "      <th>2012-01-02 00:06:00</th>\n",
       "      <td>violation-of-restraining-order</td>\n",
       "      <td>all-other-crimes</td>\n",
       "      <td>-104.816860</td>\n",
       "      <td>39.796717</td>\n",
       "      <td>montbello</td>\n",
       "      <td>1</td>\n",
       "      <td>0</td>\n",
       "    </tr>\n",
       "    <tr>\n",
       "      <th>2012-01-02 00:16:00</th>\n",
       "      <td>traffic-accident-dui-duid</td>\n",
       "      <td>traffic-accident</td>\n",
       "      <td>-104.971851</td>\n",
       "      <td>39.736874</td>\n",
       "      <td>cheesman-park</td>\n",
       "      <td>0</td>\n",
       "      <td>1</td>\n",
       "    </tr>\n",
       "    <tr>\n",
       "      <th>...</th>\n",
       "      <td>...</td>\n",
       "      <td>...</td>\n",
       "      <td>...</td>\n",
       "      <td>...</td>\n",
       "      <td>...</td>\n",
       "      <td>...</td>\n",
       "      <td>...</td>\n",
       "    </tr>\n",
       "    <tr>\n",
       "      <th>2017-09-29 04:12:00</th>\n",
       "      <td>traf-other</td>\n",
       "      <td>all-other-crimes</td>\n",
       "      <td>-105.006426</td>\n",
       "      <td>39.783139</td>\n",
       "      <td>sunnyside</td>\n",
       "      <td>1</td>\n",
       "      <td>0</td>\n",
       "    </tr>\n",
       "    <tr>\n",
       "      <th>2017-09-29 04:12:00</th>\n",
       "      <td>drug-pcs-other-drug</td>\n",
       "      <td>drug-alcohol</td>\n",
       "      <td>-105.048416</td>\n",
       "      <td>39.726209</td>\n",
       "      <td>villa-park</td>\n",
       "      <td>1</td>\n",
       "      <td>0</td>\n",
       "    </tr>\n",
       "    <tr>\n",
       "      <th>2017-09-29 06:16:00</th>\n",
       "      <td>theft-of-motor-vehicle</td>\n",
       "      <td>auto-theft</td>\n",
       "      <td>-104.890269</td>\n",
       "      <td>39.657222</td>\n",
       "      <td>hampden</td>\n",
       "      <td>1</td>\n",
       "      <td>0</td>\n",
       "    </tr>\n",
       "  </tbody>\n",
       "</table>\n",
       "<p>460911 rows × 7 columns</p>\n",
       "</div>"
      ],
      "text/plain": [
       "                                    OFFENSE_TYPE_ID OFFENSE_CATEGORY_ID  \\\n",
       "REPORTED_DATE                                                             \n",
       "2012-01-02 00:06:00              aggravated-assault  aggravated-assault   \n",
       "2012-01-02 00:06:00  violation-of-restraining-order    all-other-crimes   \n",
       "2012-01-02 00:16:00       traffic-accident-dui-duid    traffic-accident   \n",
       "...                                             ...                 ...   \n",
       "2017-09-29 04:12:00                      traf-other    all-other-crimes   \n",
       "2017-09-29 04:12:00             drug-pcs-other-drug        drug-alcohol   \n",
       "2017-09-29 06:16:00          theft-of-motor-vehicle          auto-theft   \n",
       "\n",
       "                        GEO_LON    GEO_LAT NEIGHBORHOOD_ID  IS_CRIME  \\\n",
       "REPORTED_DATE                                                          \n",
       "2012-01-02 00:06:00 -104.816860  39.796717       montbello         1   \n",
       "2012-01-02 00:06:00 -104.816860  39.796717       montbello         1   \n",
       "2012-01-02 00:16:00 -104.971851  39.736874   cheesman-park         0   \n",
       "...                         ...        ...             ...       ...   \n",
       "2017-09-29 04:12:00 -105.006426  39.783139       sunnyside         1   \n",
       "2017-09-29 04:12:00 -105.048416  39.726209      villa-park         1   \n",
       "2017-09-29 06:16:00 -104.890269  39.657222         hampden         1   \n",
       "\n",
       "                     IS_TRAFFIC  \n",
       "REPORTED_DATE                    \n",
       "2012-01-02 00:06:00           0  \n",
       "2012-01-02 00:06:00           0  \n",
       "2012-01-02 00:16:00           1  \n",
       "...                         ...  \n",
       "2017-09-29 04:12:00           0  \n",
       "2017-09-29 04:12:00           0  \n",
       "2017-09-29 06:16:00           0  \n",
       "\n",
       "[460911 rows x 7 columns]"
      ]
     },
     "execution_count": 196,
     "metadata": {},
     "output_type": "execute_result"
    }
   ],
   "source": [
    "crime_sort"
   ]
  },
  {
   "cell_type": "code",
   "execution_count": 201,
   "metadata": {},
   "outputs": [
    {
     "data": {
      "text/plain": [
       "REPORTED_DATE  OFFENSE_CATEGORY_ID     \n",
       "2012-01-31     aggravated-assault           113\n",
       "               all-other-crimes             124\n",
       "               arson                          5\n",
       "                                           ... \n",
       "2017-09-30     theft-from-motor-vehicle     496\n",
       "               traffic-accident            1926\n",
       "               white-collar-crime           125\n",
       "Length: 1035, dtype: int64"
      ]
     },
     "execution_count": 201,
     "metadata": {},
     "output_type": "execute_result"
    }
   ],
   "source": [
    "# 按月统计犯罪数量\n",
    "\n",
    "all_data = crime_sort.groupby([pd.Grouper(freq='M'), 'OFFENSE_CATEGORY_ID']).size()\n",
    "all_data"
   ]
  },
  {
   "cell_type": "code",
   "execution_count": 202,
   "metadata": {},
   "outputs": [
    {
     "data": {
      "text/html": [
       "<div>\n",
       "<style scoped>\n",
       "    .dataframe tbody tr th:only-of-type {\n",
       "        vertical-align: middle;\n",
       "    }\n",
       "\n",
       "    .dataframe tbody tr th {\n",
       "        vertical-align: top;\n",
       "    }\n",
       "\n",
       "    .dataframe thead th {\n",
       "        text-align: right;\n",
       "    }\n",
       "</style>\n",
       "<table border=\"1\" class=\"dataframe\">\n",
       "  <thead>\n",
       "    <tr style=\"text-align: right;\">\n",
       "      <th>OFFENSE_CATEGORY_ID</th>\n",
       "      <th>aggravated-assault</th>\n",
       "      <th>all-other-crimes</th>\n",
       "      <th>arson</th>\n",
       "      <th>auto-theft</th>\n",
       "      <th>burglary</th>\n",
       "      <th>drug-alcohol</th>\n",
       "      <th>larceny</th>\n",
       "      <th>murder</th>\n",
       "      <th>other-crimes-against-persons</th>\n",
       "      <th>public-disorder</th>\n",
       "      <th>robbery</th>\n",
       "      <th>sexual-assault</th>\n",
       "      <th>theft-from-motor-vehicle</th>\n",
       "      <th>traffic-accident</th>\n",
       "      <th>white-collar-crime</th>\n",
       "    </tr>\n",
       "    <tr>\n",
       "      <th>REPORTED_DATE</th>\n",
       "      <th></th>\n",
       "      <th></th>\n",
       "      <th></th>\n",
       "      <th></th>\n",
       "      <th></th>\n",
       "      <th></th>\n",
       "      <th></th>\n",
       "      <th></th>\n",
       "      <th></th>\n",
       "      <th></th>\n",
       "      <th></th>\n",
       "      <th></th>\n",
       "      <th></th>\n",
       "      <th></th>\n",
       "      <th></th>\n",
       "    </tr>\n",
       "  </thead>\n",
       "  <tbody>\n",
       "    <tr>\n",
       "      <th>2012-01-31</th>\n",
       "      <td>113</td>\n",
       "      <td>124</td>\n",
       "      <td>5</td>\n",
       "      <td>275</td>\n",
       "      <td>343</td>\n",
       "      <td>106</td>\n",
       "      <td>381</td>\n",
       "      <td>0</td>\n",
       "      <td>130</td>\n",
       "      <td>434</td>\n",
       "      <td>123</td>\n",
       "      <td>22</td>\n",
       "      <td>558</td>\n",
       "      <td>1569</td>\n",
       "      <td>46</td>\n",
       "    </tr>\n",
       "    <tr>\n",
       "      <th>2012-02-29</th>\n",
       "      <td>94</td>\n",
       "      <td>150</td>\n",
       "      <td>4</td>\n",
       "      <td>220</td>\n",
       "      <td>266</td>\n",
       "      <td>127</td>\n",
       "      <td>396</td>\n",
       "      <td>4</td>\n",
       "      <td>97</td>\n",
       "      <td>405</td>\n",
       "      <td>64</td>\n",
       "      <td>28</td>\n",
       "      <td>437</td>\n",
       "      <td>1624</td>\n",
       "      <td>61</td>\n",
       "    </tr>\n",
       "    <tr>\n",
       "      <th>2012-03-31</th>\n",
       "      <td>147</td>\n",
       "      <td>158</td>\n",
       "      <td>11</td>\n",
       "      <td>236</td>\n",
       "      <td>357</td>\n",
       "      <td>127</td>\n",
       "      <td>470</td>\n",
       "      <td>4</td>\n",
       "      <td>120</td>\n",
       "      <td>526</td>\n",
       "      <td>104</td>\n",
       "      <td>42</td>\n",
       "      <td>481</td>\n",
       "      <td>1526</td>\n",
       "      <td>86</td>\n",
       "    </tr>\n",
       "    <tr>\n",
       "      <th>...</th>\n",
       "      <td>...</td>\n",
       "      <td>...</td>\n",
       "      <td>...</td>\n",
       "      <td>...</td>\n",
       "      <td>...</td>\n",
       "      <td>...</td>\n",
       "      <td>...</td>\n",
       "      <td>...</td>\n",
       "      <td>...</td>\n",
       "      <td>...</td>\n",
       "      <td>...</td>\n",
       "      <td>...</td>\n",
       "      <td>...</td>\n",
       "      <td>...</td>\n",
       "      <td>...</td>\n",
       "    </tr>\n",
       "    <tr>\n",
       "      <th>2017-07-31</th>\n",
       "      <td>245</td>\n",
       "      <td>1448</td>\n",
       "      <td>14</td>\n",
       "      <td>477</td>\n",
       "      <td>363</td>\n",
       "      <td>446</td>\n",
       "      <td>782</td>\n",
       "      <td>12</td>\n",
       "      <td>427</td>\n",
       "      <td>848</td>\n",
       "      <td>123</td>\n",
       "      <td>68</td>\n",
       "      <td>628</td>\n",
       "      <td>2032</td>\n",
       "      <td>124</td>\n",
       "    </tr>\n",
       "    <tr>\n",
       "      <th>2017-08-31</th>\n",
       "      <td>195</td>\n",
       "      <td>1583</td>\n",
       "      <td>7</td>\n",
       "      <td>599</td>\n",
       "      <td>432</td>\n",
       "      <td>636</td>\n",
       "      <td>877</td>\n",
       "      <td>7</td>\n",
       "      <td>376</td>\n",
       "      <td>878</td>\n",
       "      <td>108</td>\n",
       "      <td>57</td>\n",
       "      <td>675</td>\n",
       "      <td>2126</td>\n",
       "      <td>138</td>\n",
       "    </tr>\n",
       "    <tr>\n",
       "      <th>2017-09-30</th>\n",
       "      <td>200</td>\n",
       "      <td>1249</td>\n",
       "      <td>8</td>\n",
       "      <td>538</td>\n",
       "      <td>361</td>\n",
       "      <td>503</td>\n",
       "      <td>748</td>\n",
       "      <td>3</td>\n",
       "      <td>361</td>\n",
       "      <td>671</td>\n",
       "      <td>101</td>\n",
       "      <td>53</td>\n",
       "      <td>496</td>\n",
       "      <td>1926</td>\n",
       "      <td>125</td>\n",
       "    </tr>\n",
       "  </tbody>\n",
       "</table>\n",
       "<p>69 rows × 15 columns</p>\n",
       "</div>"
      ],
      "text/plain": [
       "OFFENSE_CATEGORY_ID  aggravated-assault  all-other-crimes  arson  auto-theft  \\\n",
       "REPORTED_DATE                                                                  \n",
       "2012-01-31                          113               124      5         275   \n",
       "2012-02-29                           94               150      4         220   \n",
       "2012-03-31                          147               158     11         236   \n",
       "...                                 ...               ...    ...         ...   \n",
       "2017-07-31                          245              1448     14         477   \n",
       "2017-08-31                          195              1583      7         599   \n",
       "2017-09-30                          200              1249      8         538   \n",
       "\n",
       "OFFENSE_CATEGORY_ID  burglary  drug-alcohol  larceny  murder  \\\n",
       "REPORTED_DATE                                                  \n",
       "2012-01-31                343           106      381       0   \n",
       "2012-02-29                266           127      396       4   \n",
       "2012-03-31                357           127      470       4   \n",
       "...                       ...           ...      ...     ...   \n",
       "2017-07-31                363           446      782      12   \n",
       "2017-08-31                432           636      877       7   \n",
       "2017-09-30                361           503      748       3   \n",
       "\n",
       "OFFENSE_CATEGORY_ID  other-crimes-against-persons  public-disorder  robbery  \\\n",
       "REPORTED_DATE                                                                 \n",
       "2012-01-31                                    130              434      123   \n",
       "2012-02-29                                     97              405       64   \n",
       "2012-03-31                                    120              526      104   \n",
       "...                                           ...              ...      ...   \n",
       "2017-07-31                                    427              848      123   \n",
       "2017-08-31                                    376              878      108   \n",
       "2017-09-30                                    361              671      101   \n",
       "\n",
       "OFFENSE_CATEGORY_ID  sexual-assault  theft-from-motor-vehicle  \\\n",
       "REPORTED_DATE                                                   \n",
       "2012-01-31                       22                       558   \n",
       "2012-02-29                       28                       437   \n",
       "2012-03-31                       42                       481   \n",
       "...                             ...                       ...   \n",
       "2017-07-31                       68                       628   \n",
       "2017-08-31                       57                       675   \n",
       "2017-09-30                       53                       496   \n",
       "\n",
       "OFFENSE_CATEGORY_ID  traffic-accident  white-collar-crime  \n",
       "REPORTED_DATE                                              \n",
       "2012-01-31                       1569                  46  \n",
       "2012-02-29                       1624                  61  \n",
       "2012-03-31                       1526                  86  \n",
       "...                               ...                 ...  \n",
       "2017-07-31                       2032                 124  \n",
       "2017-08-31                       2126                 138  \n",
       "2017-09-30                       1926                 125  \n",
       "\n",
       "[69 rows x 15 columns]"
      ]
     },
     "execution_count": 202,
     "metadata": {},
     "output_type": "execute_result"
    }
   ],
   "source": [
    "all_data.unstack('OFFENSE_CATEGORY_ID')"
   ]
  },
  {
   "cell_type": "code",
   "execution_count": 206,
   "metadata": {},
   "outputs": [
    {
     "data": {
      "text/plain": [
       "REPORTED_DATE  OFFENSE_CATEGORY_ID\n",
       "2012-01-31     murder                    0\n",
       "2016-12-31     murder                    1\n",
       "2016-05-31     murder                    1\n",
       "                                      ... \n",
       "2016-10-31     traffic-accident       2156\n",
       "2015-10-31     traffic-accident       2156\n",
       "2017-05-31     traffic-accident       2199\n",
       "Length: 1035, dtype: int64"
      ]
     },
     "execution_count": 206,
     "metadata": {},
     "output_type": "execute_result"
    }
   ],
   "source": [
    "all_data.sort_values()"
   ]
  },
  {
   "cell_type": "code",
   "execution_count": 207,
   "metadata": {},
   "outputs": [
    {
     "data": {
      "text/html": [
       "<div>\n",
       "<style scoped>\n",
       "    .dataframe tbody tr th:only-of-type {\n",
       "        vertical-align: middle;\n",
       "    }\n",
       "\n",
       "    .dataframe tbody tr th {\n",
       "        vertical-align: top;\n",
       "    }\n",
       "\n",
       "    .dataframe thead th {\n",
       "        text-align: right;\n",
       "    }\n",
       "</style>\n",
       "<table border=\"1\" class=\"dataframe\">\n",
       "  <thead>\n",
       "    <tr style=\"text-align: right;\">\n",
       "      <th></th>\n",
       "      <th>REPORTED_DATE</th>\n",
       "      <th>OFFENSE_CATEGORY_ID</th>\n",
       "      <th>0</th>\n",
       "    </tr>\n",
       "  </thead>\n",
       "  <tbody>\n",
       "    <tr>\n",
       "      <th>0</th>\n",
       "      <td>2012-01-31</td>\n",
       "      <td>murder</td>\n",
       "      <td>0</td>\n",
       "    </tr>\n",
       "    <tr>\n",
       "      <th>1</th>\n",
       "      <td>2016-12-31</td>\n",
       "      <td>murder</td>\n",
       "      <td>1</td>\n",
       "    </tr>\n",
       "    <tr>\n",
       "      <th>2</th>\n",
       "      <td>2016-05-31</td>\n",
       "      <td>murder</td>\n",
       "      <td>1</td>\n",
       "    </tr>\n",
       "    <tr>\n",
       "      <th>...</th>\n",
       "      <td>...</td>\n",
       "      <td>...</td>\n",
       "      <td>...</td>\n",
       "    </tr>\n",
       "    <tr>\n",
       "      <th>1032</th>\n",
       "      <td>2016-10-31</td>\n",
       "      <td>traffic-accident</td>\n",
       "      <td>2156</td>\n",
       "    </tr>\n",
       "    <tr>\n",
       "      <th>1033</th>\n",
       "      <td>2015-10-31</td>\n",
       "      <td>traffic-accident</td>\n",
       "      <td>2156</td>\n",
       "    </tr>\n",
       "    <tr>\n",
       "      <th>1034</th>\n",
       "      <td>2017-05-31</td>\n",
       "      <td>traffic-accident</td>\n",
       "      <td>2199</td>\n",
       "    </tr>\n",
       "  </tbody>\n",
       "</table>\n",
       "<p>1035 rows × 3 columns</p>\n",
       "</div>"
      ],
      "text/plain": [
       "     REPORTED_DATE OFFENSE_CATEGORY_ID     0\n",
       "0       2012-01-31              murder     0\n",
       "1       2016-12-31              murder     1\n",
       "2       2016-05-31              murder     1\n",
       "...            ...                 ...   ...\n",
       "1032    2016-10-31    traffic-accident  2156\n",
       "1033    2015-10-31    traffic-accident  2156\n",
       "1034    2017-05-31    traffic-accident  2199\n",
       "\n",
       "[1035 rows x 3 columns]"
      ]
     },
     "execution_count": 207,
     "metadata": {},
     "output_type": "execute_result"
    }
   ],
   "source": [
    "all_data.sort_values().reset_index()"
   ]
  },
  {
   "cell_type": "code",
   "execution_count": 208,
   "metadata": {},
   "outputs": [
    {
     "data": {
      "text/html": [
       "<div>\n",
       "<style scoped>\n",
       "    .dataframe tbody tr th:only-of-type {\n",
       "        vertical-align: middle;\n",
       "    }\n",
       "\n",
       "    .dataframe tbody tr th {\n",
       "        vertical-align: top;\n",
       "    }\n",
       "\n",
       "    .dataframe thead th {\n",
       "        text-align: right;\n",
       "    }\n",
       "</style>\n",
       "<table border=\"1\" class=\"dataframe\">\n",
       "  <thead>\n",
       "    <tr style=\"text-align: right;\">\n",
       "      <th></th>\n",
       "      <th>REPORTED_DATE</th>\n",
       "      <th>OFFENSE_CATEGORY_ID</th>\n",
       "      <th>Total</th>\n",
       "    </tr>\n",
       "  </thead>\n",
       "  <tbody>\n",
       "    <tr>\n",
       "      <th>0</th>\n",
       "      <td>2012-01-31</td>\n",
       "      <td>murder</td>\n",
       "      <td>0</td>\n",
       "    </tr>\n",
       "    <tr>\n",
       "      <th>1</th>\n",
       "      <td>2016-12-31</td>\n",
       "      <td>murder</td>\n",
       "      <td>1</td>\n",
       "    </tr>\n",
       "    <tr>\n",
       "      <th>2</th>\n",
       "      <td>2016-05-31</td>\n",
       "      <td>murder</td>\n",
       "      <td>1</td>\n",
       "    </tr>\n",
       "    <tr>\n",
       "      <th>...</th>\n",
       "      <td>...</td>\n",
       "      <td>...</td>\n",
       "      <td>...</td>\n",
       "    </tr>\n",
       "    <tr>\n",
       "      <th>1032</th>\n",
       "      <td>2016-10-31</td>\n",
       "      <td>traffic-accident</td>\n",
       "      <td>2156</td>\n",
       "    </tr>\n",
       "    <tr>\n",
       "      <th>1033</th>\n",
       "      <td>2015-10-31</td>\n",
       "      <td>traffic-accident</td>\n",
       "      <td>2156</td>\n",
       "    </tr>\n",
       "    <tr>\n",
       "      <th>1034</th>\n",
       "      <td>2017-05-31</td>\n",
       "      <td>traffic-accident</td>\n",
       "      <td>2199</td>\n",
       "    </tr>\n",
       "  </tbody>\n",
       "</table>\n",
       "<p>1035 rows × 3 columns</p>\n",
       "</div>"
      ],
      "text/plain": [
       "     REPORTED_DATE OFFENSE_CATEGORY_ID  Total\n",
       "0       2012-01-31              murder      0\n",
       "1       2016-12-31              murder      1\n",
       "2       2016-05-31              murder      1\n",
       "...            ...                 ...    ...\n",
       "1032    2016-10-31    traffic-accident   2156\n",
       "1033    2015-10-31    traffic-accident   2156\n",
       "1034    2017-05-31    traffic-accident   2199\n",
       "\n",
       "[1035 rows x 3 columns]"
      ]
     },
     "execution_count": 208,
     "metadata": {},
     "output_type": "execute_result"
    }
   ],
   "source": [
    "all_data.sort_values().reset_index(name='Total')"
   ]
  },
  {
   "cell_type": "code",
   "execution_count": null,
   "metadata": {},
   "outputs": [],
   "source": []
  },
  {
   "cell_type": "code",
   "execution_count": null,
   "metadata": {},
   "outputs": [],
   "source": []
  },
  {
   "cell_type": "code",
   "execution_count": 216,
   "metadata": {},
   "outputs": [
    {
     "data": {
      "text/plain": [
       "'minute'"
      ]
     },
     "execution_count": 216,
     "metadata": {},
     "output_type": "execute_result"
    }
   ],
   "source": [
    "crime_sort.index.resolution"
   ]
  },
  {
   "cell_type": "code",
   "execution_count": 215,
   "metadata": {},
   "outputs": [
    {
     "data": {
      "text/plain": [
       "DatetimeIndex(['2012-01-02 00:06:00', '2012-01-02 00:06:00',\n",
       "               '2012-01-02 00:16:00', '2012-01-02 00:47:00',\n",
       "               '2012-01-02 01:35:00', '2012-01-02 02:39:00',\n",
       "               '2012-01-02 03:30:00', '2012-01-02 04:07:00',\n",
       "               '2012-01-02 04:46:00', '2012-01-02 06:52:00',\n",
       "               ...\n",
       "               '2017-09-29 03:05:00', '2017-09-29 03:20:00',\n",
       "               '2017-09-29 03:23:00', '2017-09-29 03:47:00',\n",
       "               '2017-09-29 03:54:00', '2017-09-29 03:58:00',\n",
       "               '2017-09-29 03:58:00', '2017-09-29 04:12:00',\n",
       "               '2017-09-29 04:12:00', '2017-09-29 06:16:00'],\n",
       "              dtype='datetime64[ns]', name='REPORTED_DATE', length=460911, freq=None)"
      ]
     },
     "execution_count": 215,
     "metadata": {},
     "output_type": "execute_result"
    }
   ],
   "source": [
    "crime_sort.index"
   ]
  },
  {
   "cell_type": "code",
   "execution_count": 217,
   "metadata": {},
   "outputs": [
    {
     "data": {
      "text/plain": [
       "PeriodIndex(['2012-01', '2012-01', '2012-01', '2012-01', '2012-01', '2012-01',\n",
       "             '2012-01', '2012-01', '2012-01', '2012-01',\n",
       "             ...\n",
       "             '2017-09', '2017-09', '2017-09', '2017-09', '2017-09', '2017-09',\n",
       "             '2017-09', '2017-09', '2017-09', '2017-09'],\n",
       "            dtype='period[M]', name='REPORTED_DATE', length=460911, freq='M')"
      ]
     },
     "execution_count": 217,
     "metadata": {},
     "output_type": "execute_result"
    }
   ],
   "source": [
    "crime_sort.index.to_period('M')"
   ]
  },
  {
   "cell_type": "code",
   "execution_count": 220,
   "metadata": {},
   "outputs": [
    {
     "data": {
      "text/html": [
       "<div>\n",
       "<style scoped>\n",
       "    .dataframe tbody tr th:only-of-type {\n",
       "        vertical-align: middle;\n",
       "    }\n",
       "\n",
       "    .dataframe tbody tr th {\n",
       "        vertical-align: top;\n",
       "    }\n",
       "\n",
       "    .dataframe thead th {\n",
       "        text-align: right;\n",
       "    }\n",
       "</style>\n",
       "<table border=\"1\" class=\"dataframe\">\n",
       "  <thead>\n",
       "    <tr style=\"text-align: right;\">\n",
       "      <th>OFFENSE_CATEGORY_ID</th>\n",
       "      <th>aggravated-assault</th>\n",
       "      <th>all-other-crimes</th>\n",
       "      <th>arson</th>\n",
       "      <th>auto-theft</th>\n",
       "      <th>burglary</th>\n",
       "      <th>drug-alcohol</th>\n",
       "      <th>larceny</th>\n",
       "      <th>murder</th>\n",
       "      <th>other-crimes-against-persons</th>\n",
       "      <th>public-disorder</th>\n",
       "      <th>robbery</th>\n",
       "      <th>sexual-assault</th>\n",
       "      <th>theft-from-motor-vehicle</th>\n",
       "      <th>traffic-accident</th>\n",
       "      <th>white-collar-crime</th>\n",
       "    </tr>\n",
       "  </thead>\n",
       "  <tbody>\n",
       "    <tr>\n",
       "      <th>2012-01</th>\n",
       "      <td>113</td>\n",
       "      <td>124</td>\n",
       "      <td>5</td>\n",
       "      <td>275</td>\n",
       "      <td>343</td>\n",
       "      <td>106</td>\n",
       "      <td>381</td>\n",
       "      <td>0</td>\n",
       "      <td>130</td>\n",
       "      <td>434</td>\n",
       "      <td>123</td>\n",
       "      <td>22</td>\n",
       "      <td>558</td>\n",
       "      <td>1569</td>\n",
       "      <td>46</td>\n",
       "    </tr>\n",
       "    <tr>\n",
       "      <th>2012-02</th>\n",
       "      <td>94</td>\n",
       "      <td>150</td>\n",
       "      <td>4</td>\n",
       "      <td>220</td>\n",
       "      <td>266</td>\n",
       "      <td>127</td>\n",
       "      <td>396</td>\n",
       "      <td>4</td>\n",
       "      <td>97</td>\n",
       "      <td>405</td>\n",
       "      <td>64</td>\n",
       "      <td>28</td>\n",
       "      <td>437</td>\n",
       "      <td>1624</td>\n",
       "      <td>61</td>\n",
       "    </tr>\n",
       "    <tr>\n",
       "      <th>2012-03</th>\n",
       "      <td>147</td>\n",
       "      <td>158</td>\n",
       "      <td>11</td>\n",
       "      <td>236</td>\n",
       "      <td>357</td>\n",
       "      <td>127</td>\n",
       "      <td>470</td>\n",
       "      <td>4</td>\n",
       "      <td>120</td>\n",
       "      <td>526</td>\n",
       "      <td>104</td>\n",
       "      <td>42</td>\n",
       "      <td>481</td>\n",
       "      <td>1526</td>\n",
       "      <td>86</td>\n",
       "    </tr>\n",
       "    <tr>\n",
       "      <th>...</th>\n",
       "      <td>...</td>\n",
       "      <td>...</td>\n",
       "      <td>...</td>\n",
       "      <td>...</td>\n",
       "      <td>...</td>\n",
       "      <td>...</td>\n",
       "      <td>...</td>\n",
       "      <td>...</td>\n",
       "      <td>...</td>\n",
       "      <td>...</td>\n",
       "      <td>...</td>\n",
       "      <td>...</td>\n",
       "      <td>...</td>\n",
       "      <td>...</td>\n",
       "      <td>...</td>\n",
       "    </tr>\n",
       "    <tr>\n",
       "      <th>2017-07</th>\n",
       "      <td>245</td>\n",
       "      <td>1448</td>\n",
       "      <td>14</td>\n",
       "      <td>477</td>\n",
       "      <td>363</td>\n",
       "      <td>446</td>\n",
       "      <td>782</td>\n",
       "      <td>12</td>\n",
       "      <td>427</td>\n",
       "      <td>848</td>\n",
       "      <td>123</td>\n",
       "      <td>68</td>\n",
       "      <td>628</td>\n",
       "      <td>2032</td>\n",
       "      <td>124</td>\n",
       "    </tr>\n",
       "    <tr>\n",
       "      <th>2017-08</th>\n",
       "      <td>195</td>\n",
       "      <td>1583</td>\n",
       "      <td>7</td>\n",
       "      <td>599</td>\n",
       "      <td>432</td>\n",
       "      <td>636</td>\n",
       "      <td>877</td>\n",
       "      <td>7</td>\n",
       "      <td>376</td>\n",
       "      <td>878</td>\n",
       "      <td>108</td>\n",
       "      <td>57</td>\n",
       "      <td>675</td>\n",
       "      <td>2126</td>\n",
       "      <td>138</td>\n",
       "    </tr>\n",
       "    <tr>\n",
       "      <th>2017-09</th>\n",
       "      <td>200</td>\n",
       "      <td>1249</td>\n",
       "      <td>8</td>\n",
       "      <td>538</td>\n",
       "      <td>361</td>\n",
       "      <td>503</td>\n",
       "      <td>748</td>\n",
       "      <td>3</td>\n",
       "      <td>361</td>\n",
       "      <td>671</td>\n",
       "      <td>101</td>\n",
       "      <td>53</td>\n",
       "      <td>496</td>\n",
       "      <td>1926</td>\n",
       "      <td>125</td>\n",
       "    </tr>\n",
       "  </tbody>\n",
       "</table>\n",
       "<p>69 rows × 15 columns</p>\n",
       "</div>"
      ],
      "text/plain": [
       "OFFENSE_CATEGORY_ID  aggravated-assault  all-other-crimes  arson  auto-theft  \\\n",
       "2012-01                             113               124      5         275   \n",
       "2012-02                              94               150      4         220   \n",
       "2012-03                             147               158     11         236   \n",
       "...                                 ...               ...    ...         ...   \n",
       "2017-07                             245              1448     14         477   \n",
       "2017-08                             195              1583      7         599   \n",
       "2017-09                             200              1249      8         538   \n",
       "\n",
       "OFFENSE_CATEGORY_ID  burglary  drug-alcohol  larceny  murder  \\\n",
       "2012-01                   343           106      381       0   \n",
       "2012-02                   266           127      396       4   \n",
       "2012-03                   357           127      470       4   \n",
       "...                       ...           ...      ...     ...   \n",
       "2017-07                   363           446      782      12   \n",
       "2017-08                   432           636      877       7   \n",
       "2017-09                   361           503      748       3   \n",
       "\n",
       "OFFENSE_CATEGORY_ID  other-crimes-against-persons  public-disorder  robbery  \\\n",
       "2012-01                                       130              434      123   \n",
       "2012-02                                        97              405       64   \n",
       "2012-03                                       120              526      104   \n",
       "...                                           ...              ...      ...   \n",
       "2017-07                                       427              848      123   \n",
       "2017-08                                       376              878      108   \n",
       "2017-09                                       361              671      101   \n",
       "\n",
       "OFFENSE_CATEGORY_ID  sexual-assault  theft-from-motor-vehicle  \\\n",
       "2012-01                          22                       558   \n",
       "2012-02                          28                       437   \n",
       "2012-03                          42                       481   \n",
       "...                             ...                       ...   \n",
       "2017-07                          68                       628   \n",
       "2017-08                          57                       675   \n",
       "2017-09                          53                       496   \n",
       "\n",
       "OFFENSE_CATEGORY_ID  traffic-accident  white-collar-crime  \n",
       "2012-01                          1569                  46  \n",
       "2012-02                          1624                  61  \n",
       "2012-03                          1526                  86  \n",
       "...                               ...                 ...  \n",
       "2017-07                          2032                 124  \n",
       "2017-08                          2126                 138  \n",
       "2017-09                          1926                 125  \n",
       "\n",
       "[69 rows x 15 columns]"
      ]
     },
     "execution_count": 220,
     "metadata": {},
     "output_type": "execute_result"
    }
   ],
   "source": [
    "crime_sort.groupby([lambda x: x.to_period('M'), 'OFFENSE_CATEGORY_ID']).size().unstack()"
   ]
  },
  {
   "cell_type": "code",
   "execution_count": null,
   "metadata": {},
   "outputs": [],
   "source": []
  },
  {
   "cell_type": "code",
   "execution_count": 57,
   "metadata": {},
   "outputs": [
    {
     "data": {
      "text/plain": [
       "REPORTED_DATE\n",
       "2012-01-08     877\n",
       "2012-01-15    1071\n",
       "2012-01-22     991\n",
       "              ... \n",
       "2017-09-17    1976\n",
       "2017-09-24    1839\n",
       "2017-10-01    1059\n",
       "Freq: W-SUN, Length: 300, dtype: int64"
      ]
     },
     "execution_count": 57,
     "metadata": {},
     "output_type": "execute_result"
    }
   ],
   "source": [
    "# 通过resample方法的`on`参数指定分组列\n",
    "# For a DataFrame, column to use instead of index for resampling. Column must be datetime-like\n",
    "\n",
    "_crime = pd.read_hdf('data/crime.h5', 'crime')\n",
    "_crime.resample('W', on='REPORTED_DATE').size()"
   ]
  },
  {
   "cell_type": "code",
   "execution_count": 61,
   "metadata": {},
   "outputs": [
    {
     "data": {
      "text/plain": [
       "REPORTED_DATE\n",
       "2012-01-08     877\n",
       "2012-01-15    1071\n",
       "2012-01-22     991\n",
       "              ... \n",
       "2017-09-17    1976\n",
       "2017-09-24    1839\n",
       "2017-10-01    1059\n",
       "Freq: W-SUN, Length: 300, dtype: int64"
      ]
     },
     "execution_count": 61,
     "metadata": {},
     "output_type": "execute_result"
    }
   ],
   "source": [
    "# 通过 pd.Grouper 参数`key`设为 Timestamp 来进行分组\n",
    "\n",
    "_crime.groupby(pd.Grouper(key='REPORTED_DATE', freq='W')).size()"
   ]
  },
  {
   "cell_type": "code",
   "execution_count": 62,
   "metadata": {},
   "outputs": [
    {
     "data": {
      "text/plain": [
       "<matplotlib.axes._subplots.AxesSubplot at 0x7fc1f98cc1d0>"
      ]
     },
     "execution_count": 62,
     "metadata": {},
     "output_type": "execute_result"
    },
    {
     "data": {
      "image/png": "[encoded data removed]",
      "text/plain": [
       "<Figure size 1152x288 with 1 Axes>"
      ]
     },
     "metadata": {
      "needs_background": "light"
     },
     "output_type": "display_data"
    }
   ],
   "source": [
    "# 绘图\n",
    "\n",
    "_crime.groupby(pd.Grouper(key='REPORTED_DATE', freq='W')).size().plot(\n",
    "    figsize=(16, 4), title='All Denver Crimes'\n",
    ")"
   ]
  },
  {
   "cell_type": "code",
   "execution_count": null,
   "metadata": {},
   "outputs": [],
   "source": []
  }
 ],
 "metadata": {
  "kernelspec": {
   "display_name": "Python 3",
   "language": "python",
   "name": "python3"
  },
  "language_info": {
   "codemirror_mode": {
    "name": "ipython",
    "version": 3
   },
   "file_extension": ".py",
   "mimetype": "text/x-python",
   "name": "python",
   "nbconvert_exporter": "python",
   "pygments_lexer": "ipython3",
   "version": "3.6.7"
  }
 },
 "nbformat": 4,
 "nbformat_minor": 4
}
