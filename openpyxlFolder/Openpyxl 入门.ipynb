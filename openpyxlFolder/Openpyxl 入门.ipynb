{
 "cells": [
  {
   "cell_type": "code",
   "execution_count": 1,
   "metadata": {},
   "outputs": [],
   "source": [
    "import openpyxl"
   ]
  },
  {
   "cell_type": "code",
   "execution_count": 45,
   "metadata": {},
   "outputs": [
    {
     "name": "stdout",
     "output_type": "stream",
     "text": [
      "['Sheet1']\n",
      "Sheet1\n"
     ]
    }
   ],
   "source": [
    "wb = openpyxl.load_workbook('List.xlsx')\n",
    "\n",
    "# Getting sheets from the workbook\n",
    "print(wb.sheetnames)\n",
    "\n",
    "# 遍历 sheets\n",
    "for sheet in wb:\n",
    "    print(sheet.title)"
   ]
  },
  {
   "cell_type": "code",
   "execution_count": 10,
   "metadata": {},
   "outputs": [
    {
     "name": "stdout",
     "output_type": "stream",
     "text": [
      "mySheet\n",
      "Sheet1\n"
     ]
    }
   ],
   "source": [
    "# 操作指定 sheet\n",
    "ws1 = wb['mySheet']\n",
    "print(ws1.title)\n",
    "\n",
    "# 获取当前活跃 sheet\n",
    "ws2 = wb.active\n",
    "print(ws2.title)"
   ]
  },
  {
   "cell_type": "code",
   "execution_count": 15,
   "metadata": {},
   "outputs": [
    {
     "name": "stdout",
     "output_type": "stream",
     "text": [
      "<Cell 'Sheet1'.A1>\n",
      "ID\n",
      "Row 1, Column B is Name\n",
      "Cell B1 is Name\n"
     ]
    }
   ],
   "source": [
    "# 获取指定 cell\n",
    "ws = wb['Sheet1']\n",
    "print(ws['A1'])\n",
    "print(ws['A1'].value)\n",
    "\n",
    "# 获取指定 cell 的坐标和内容\n",
    "c = ws['B1']\n",
    "print('Row {}, Column {} is {}'.format(c.row, c.column, c.value))\n",
    "print('Cell {} is {}'.format(c.coordinate, c.value))"
   ]
  },
  {
   "cell_type": "code",
   "execution_count": 17,
   "metadata": {},
   "outputs": [
    {
     "name": "stdout",
     "output_type": "stream",
     "text": [
      "Name\n",
      "Product_002\n",
      "Product_004\n",
      "Product_006\n"
     ]
    }
   ],
   "source": [
    "# 遍历 cells\n",
    "for i in range(1, 8, 2):\n",
    "    print(ws.cell(row=i, column=2).value)"
   ]
  },
  {
   "cell_type": "code",
   "execution_count": 24,
   "metadata": {},
   "outputs": [
    {
     "name": "stdout",
     "output_type": "stream",
     "text": [
      "<class 'tuple'> 21 11.99\n",
      "<class 'tuple'> 4 7.75\n"
     ]
    }
   ],
   "source": [
    "# 获取整行或整列数据\n",
    "colC = ws['C']                                # 返回一个元组，包含了第`C`列的全部数据 \n",
    "print(type(colC), len(colC), colC[2].value) \n",
    "\n",
    "row6 = ws[6]                                  # 返回一个元组，包含了第`6`行的全部数据\n",
    "print(type(row6), len(row6), row6[2].value)"
   ]
  },
  {
   "cell_type": "code",
   "execution_count": null,
   "metadata": {},
   "outputs": [],
   "source": [
    "# 切片\n",
    "col_range = ws['B:C']                        # 包含第`B`到`C`列的全部数据\n",
    "print(type(col_range))\n",
    "\n",
    "for col in col_range:\n",
    "    for cell in col:\n",
    "        print(cell.value)"
   ]
  },
  {
   "cell_type": "code",
   "execution_count": 38,
   "metadata": {},
   "outputs": [
    {
     "name": "stdout",
     "output_type": "stream",
     "text": [
      "A2 -> 1\n",
      "B2 -> Product_001\n",
      "C2 -> 9.82\n",
      "D2 -> Yes\n",
      "A3 -> 2\n",
      "B3 -> Product_002\n",
      "C3 -> 11.99\n",
      "D3 -> Yes\n",
      "A4 -> 3\n",
      "B4 -> Product_003\n",
      "C4 -> 9.62\n",
      "D4 -> No\n",
      "A5 -> 4\n",
      "B5 -> Product_004\n",
      "C5 -> 11.08\n",
      "D5 -> Yes\n",
      "A6 -> 5\n",
      "B6 -> Product_005\n",
      "C6 -> 7.75\n",
      "D6 -> Yes\n"
     ]
    }
   ],
   "source": [
    "row_range = ws[2:6]                         # 包含第`2`到`6`行的全部数据\n",
    "for row in row_range:\n",
    "    for cell in row:\n",
    "        print(f'{cell.coordinate} -> {cell.value}')"
   ]
  },
  {
   "cell_type": "code",
   "execution_count": 34,
   "metadata": {},
   "outputs": [
    {
     "name": "stdout",
     "output_type": "stream",
     "text": [
      "ID\n",
      "Name\n",
      "1\n",
      "Product_001\n"
     ]
    }
   ],
   "source": [
    "# iter_rows(range_string=None, min_row=None, max_row=None, min_col=None, max_col=None, row_offset=0, column_offset=0)\n",
    "\n",
    "for row in ws.iter_rows(min_row=1, max_row=2, max_col=2):\n",
    "    for cell in row:\n",
    "        print(cell.value)"
   ]
  },
  {
   "cell_type": "code",
   "execution_count": 39,
   "metadata": {},
   "outputs": [
    {
     "name": "stdout",
     "output_type": "stream",
     "text": [
      "21 * 4\n"
     ]
    }
   ],
   "source": [
    "# 获取最大行数和列数\n",
    "\n",
    "print('{} * {}'.format(ws.max_row, ws.max_column))"
   ]
  },
  {
   "cell_type": "code",
   "execution_count": 40,
   "metadata": {},
   "outputs": [
    {
     "name": "stdout",
     "output_type": "stream",
     "text": [
      "B AR\n",
      "26 702\n"
     ]
    }
   ],
   "source": [
    "# 列的字母与数字转换\n",
    "\n",
    "from openpyxl.utils import get_column_letter, column_index_from_string\n",
    "\n",
    "print(get_column_letter(2), get_column_letter(44))\n",
    "print(column_index_from_string('Z'), column_index_from_string('zz'))\n"
   ]
  },
  {
   "cell_type": "code",
   "execution_count": 46,
   "metadata": {},
   "outputs": [
    {
     "name": "stdout",
     "output_type": "stream",
     "text": [
      "['First Sheet', 'Middle Sheet', 'Sheet1']\n"
     ]
    }
   ],
   "source": [
    "# 新增 sheet\n",
    "# create_sheet(title=None, index=None)\n",
    "\n",
    "wb.create_sheet(title='First Sheet', index=0)\n",
    "wb.create_sheet(title='Middle Sheet', index=1)\n",
    "print(wb.sheetnames)"
   ]
  },
  {
   "cell_type": "code",
   "execution_count": null,
   "metadata": {},
   "outputs": [],
   "source": [
    "# 删除 sheet\n",
    "\n",
    "del wb['Middle Sheet']\n",
    "print(wb.sheetnames)"
   ]
  },
  {
   "cell_type": "code",
   "execution_count": 60,
   "metadata": {},
   "outputs": [
    {
     "name": "stdout",
     "output_type": "stream",
     "text": [
      "Hello python\n"
     ]
    }
   ],
   "source": [
    "# 写入 cell\n",
    "\n",
    "wb1 = openpyxl.Workbook()\n",
    "sheet = wb1.active\n",
    "\n",
    "sheet['A1'] = 'Hello python'\n",
    "print(sheet['A1'].value)\n",
    "\n",
    "wb1.close()"
   ]
  },
  {
   "cell_type": "markdown",
   "metadata": {},
   "source": [
    "## Excel 格式"
   ]
  },
  {
   "cell_type": "code",
   "execution_count": 62,
   "metadata": {},
   "outputs": [],
   "source": [
    "import openpyxl\n",
    "from openpyxl.styles import Font, colors"
   ]
  },
  {
   "cell_type": "code",
   "execution_count": 65,
   "metadata": {},
   "outputs": [],
   "source": [
    "wb = openpyxl.Workbook()\n",
    "\n",
    "# Font\n",
    "ws = wb.active\n",
    "ws.title = 'Font'\n",
    "\n",
    "# define font\n",
    "# Font(name=None, sz=None, b=None, i=None, charset=None, u=None, strike=None, color=None, scheme=None, family=None, size=None, bold=None, italic=None, strikethrough=None, underline=None, vertAlign=None, outline=None, shadow=None, condense=None, extend=None)\n",
    "italic24Font = Font(size=24, italic=True)\n",
    "ws['B3'].font = italic24Font\n",
    "ws['B3'] = '24pt Italic'\n",
    "\n",
    "boldRedFont = Font(name='Times New Roman', bold=True, color=colors.RED)\n",
    "ws['A1'].font = boldRedFont\n",
    "ws['A1'] = 'Bold Red Times New Roman'\n",
    "\n",
    "\n",
    "# Formulas\n",
    "ws = wb.copy_worksheet(wb['Font'])\n",
    "ws.title = 'Formula'\n",
    "ws['A1'] = 200\n",
    "ws['A2'] = 300\n",
    "ws['A3'] = '=SUM(A1:A2)'\n",
    "\n",
    "\n",
    "# Setting row height and column width\n",
    "ws = wb.create_sheet('dimensions')\n",
    "ws['A1'] = 'Tall row'\n",
    "ws.row_dimensions[1].height = 70\n",
    "ws['B2'] = 'Wide column'\n",
    "ws.column_dimensions['B'].width = 50\n",
    "\n",
    "\n",
    "# Merging cells\n",
    "ws = wb.create_sheet('merged')\n",
    "ws.merge_cells('A1:D3')\n",
    "ws['A1'] = 'Four cells merged together'\n",
    "ws.merge_cells('C5:D5')\n",
    "ws['C5'] = 'Two cells merged together'\n",
    "\n",
    "\n",
    "# Unmerging cells\n",
    "ws = wb.copy_worksheet(wb['merged'])\n",
    "ws.title = 'unmerged'\n",
    "ws.unmerge_cells('A1:D3')\n",
    "ws.unmerge_cells('C5:D5')\n",
    "\n",
    "\n",
    "# Save excel\n",
    "wb.save('change_style.xlsx')"
   ]
  },
  {
   "cell_type": "markdown",
   "metadata": {},
   "source": [
    "## 图表"
   ]
  },
  {
   "cell_type": "code",
   "execution_count": 67,
   "metadata": {},
   "outputs": [],
   "source": [
    "from openpyxl.chart import (\n",
    "    Reference,\n",
    "    Series,\n",
    "    PieChart,\n",
    "    BarChart,\n",
    "    BubbleChart,\n",
    ")\n",
    "\n",
    "wb = openpyxl.Workbook()"
   ]
  },
  {
   "cell_type": "code",
   "execution_count": 69,
   "metadata": {},
   "outputs": [],
   "source": [
    "# Pie chart\n",
    "\n",
    "ws = wb.active\n",
    "ws.title = 'pieChart'\n",
    "\n",
    "data = [\n",
    "    ['Pie', 'Sold'],\n",
    "    ['Apple', 50],\n",
    "    ['Cherry', 30],\n",
    "    ['Pumpkin', 10],\n",
    "    ['Chocolate', 40],\n",
    "]\n",
    "\n",
    "for row in data:\n",
    "    ws.append(row)\n",
    "    \n",
    "pie = PieChart()\n",
    "labels = Reference(ws, min_col=1, min_row=2, max_row=5)\n",
    "data = Reference(ws, min_col=2, min_row=2, max_row=5)\n",
    "pie.add_data(data)\n",
    "pie.set_categories(labels)\n",
    "pie.title = 'Pies sold by category'\n",
    "ws.add_chart(pie, 'A15')\n",
    "\n",
    "\n",
    "# Bar chart\n",
    "ws = wb.create_sheet('barChart')\n",
    "\n",
    "rows = [\n",
    "    ('Number', 'Batch1', 'Batch2'),\n",
    "    (2, 10, 30),\n",
    "    (3, 40, 60),\n",
    "    (4, 50, 70),\n",
    "    (5, 20, 10),\n",
    "    (6, 10, 40),\n",
    "    (7, 50, 30),\n",
    "]\n",
    "\n",
    "for row in rows:\n",
    "    ws.append(row)\n",
    "    \n",
    "chart1 = BarChart()\n",
    "chart1.type = 'col'\n",
    "chart1.style = 15\n",
    "chart1.title = 'Bar Chart'\n",
    "chart1.y_axis.title = 'Sample length(mm)'\n",
    "chart1.x_axis.title = 'Test number'\n",
    "\n",
    "cats = Reference(ws, min_col=1, min_row=2, max_row=7)\n",
    "data = Reference(ws, min_col=2, max_col=3, min_row=2, max_row=7)\n",
    "chart1.add_data(data)\n",
    "chart1.set_categories(cats)\n",
    "ws.add_chart(chart1, 'A10')\n",
    "\n",
    "\n",
    "# Bubble chart\n",
    "ws = wb.create_sheet('bubbleChart')\n",
    "\n",
    "rows = [\n",
    "    ('Number of Products', 'Sales in USD', 'Market share'),\n",
    "    (14, 12200, 15),\n",
    "    (20, 60000, 33),\n",
    "    (18, 24400, 10),\n",
    "    (22, 32000, 42),\n",
    "    (),\n",
    "    (12, 8200, 18),\n",
    "    (15, 50000, 30),\n",
    "    (19, 22400, 15),\n",
    "    (25, 25000, 50),\n",
    "]\n",
    "\n",
    "for row in rows:\n",
    "    ws.append(row)\n",
    "    \n",
    "chart = BubbleChart()\n",
    "chart.style = 18\n",
    "\n",
    "# add the first series of data\n",
    "xValue = Reference(ws, min_col=1, min_row=2, max_row=5)\n",
    "yValue = Reference(ws, min_col=2, min_row=2, max_row=5)\n",
    "size = Reference(ws, min_col=3, min_row=2, max_row=5)\n",
    "series = Series(values=yValue, xvalues=xValue, zvalues=size, title='2013')\n",
    "chart.series.append(series)\n",
    "\n",
    "# add the first series of data\n",
    "xValue = Reference(ws, min_col=1, min_row=7, max_row=10)\n",
    "yValue = Reference(ws, min_col=2, min_row=7, max_row=10)\n",
    "size = Reference(ws, min_col=3, min_row=7, max_row=10)\n",
    "series = Series(values=yValue, xvalues=xValue, zvalues=size, title='2014')\n",
    "chart.series.append(series)\n",
    "\n",
    "ws.add_chart(chart, 'E1')\n",
    "\n",
    "# Save\n",
    "wb.save('chart.xlsx')"
   ]
  },
  {
   "cell_type": "code",
   "execution_count": null,
   "metadata": {},
   "outputs": [],
   "source": []
  }
 ],
 "metadata": {
  "kernelspec": {
   "display_name": "Python 3",
   "language": "python",
   "name": "python3"
  },
  "language_info": {
   "codemirror_mode": {
    "name": "ipython",
    "version": 3
   },
   "file_extension": ".py",
   "mimetype": "text/x-python",
   "name": "python",
   "nbconvert_exporter": "python",
   "pygments_lexer": "ipython3",
   "version": "3.7.0"
  }
 },
 "nbformat": 4,
 "nbformat_minor": 2
}
