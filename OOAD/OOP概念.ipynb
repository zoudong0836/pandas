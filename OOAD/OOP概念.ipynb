{
 "cells": [
  {
   "cell_type": "markdown",
   "metadata": {},
   "source": [
    "## OOP的主要特征\n",
    "\n",
    "* 抽象（abstract）\n",
    "* 封装 (encapsulation)\n",
    "* 继承 (inheritance)\n",
    "* 多态 (polymorphism)\n",
    "* 关联 (association)\n",
    "* 聚合 (aggregation)\n",
    "* 组合 (composition)\n",
    "* 内聚与耦合 (cohesion & coupling)"
   ]
  },
  {
   "cell_type": "markdown",
   "metadata": {},
   "source": [
    "## 对象之间的关系\n",
    "\n",
    "* 关联        （Association）\n",
    "* 依赖         (Dependency)\n",
    "* 聚集         (Aggregation)\n",
    "* 一般化（泛化） (Generalization)"
   ]
  },
  {
   "cell_type": "markdown",
   "metadata": {},
   "source": [
    "## 关联关系\n",
    "\n",
    "![avatar](imgs/association.jpg)"
   ]
  },
  {
   "cell_type": "markdown",
   "metadata": {},
   "source": [
    "## 依赖关系\n",
    "\n",
    "![avatar](imgs/dependency.jpg)"
   ]
  },
  {
   "cell_type": "markdown",
   "metadata": {},
   "source": [
    "## 聚集关系\n",
    "* 聚集指的是整体与部分之间的关系\n",
    "![avatar](imgs/aggregation.jpg)"
   ]
  },
  {
   "cell_type": "markdown",
   "metadata": {},
   "source": [
    "## 一般化关系\n",
    "* 一般化指的是类之间的`继承关系`\n",
    "\n",
    "![avatar](imgs/generalization.jpg)"
   ]
  },
  {
   "cell_type": "markdown",
   "metadata": {},
   "source": [
    "## 统一软件开发过程 (USDP)\n",
    "> 是一个迭代、递增的开发过程\n"
   ]
  },
  {
   "cell_type": "markdown",
   "metadata": {},
   "source": [
    "## UML\n",
    "> Unified Modeling Language, 统一建模语言\n",
    "\n",
    "### 静态建模\n",
    "* 创建并记录一个系统的静态特征\n",
    "* 创建相关问题域主要元素的视图\n",
    "* 静态建模包括:  \n",
    "-- 用例图 (use case diagrams)  \n",
    "-- 类图 (class diagrams)    \n",
    "-- 对象图 (object diagrams)    \n",
    "-- 组件图 (component diagrams)     \n",
    "-- 部署图 (deployment diagrams)    \n",
    "\n",
    "\n",
    "### 动态建模\n",
    "* 动态建模用以展示系统的行为\n",
    "* 动态建模包括:  \n",
    "-- 时序图 (sequence diagrams)    \n",
    "-- 协作图 (collaboration diagrams)  \n",
    "-- 状态图 (state chart diagrams)  \n",
    "-- 活动图 (activity diagrams)  "
   ]
  },
  {
   "cell_type": "markdown",
   "metadata": {},
   "source": [
    "## 用例图\n",
    "* 展示系统的核心功能及与其交互的用户\n",
    "* 用户被称之为`活动者`(Actor)\n",
    "* 用例使用椭圆表示\n",
    "\n",
    "![avatar](imgs/usecase.jpg)"
   ]
  },
  {
   "cell_type": "markdown",
   "metadata": {},
   "source": [
    "## 类图\n",
    "* 表现类的特征\n",
    "* 类图描述了多个类、接口的特征，以及对象之间的协作与交互\n",
    "* 由一个或多个矩形区域构成，内容包括:  \n",
    "    * 类型（类名）\n",
    "    * 属性 (可选)\n",
    "    * 操作 (可选)\n",
    "    \n",
    "![avatar](imgs/classDiagram.jpg)\n",
    "\n",
    "+ `1`: 表示一个集合中的一个对象对应另一个集合中`1`个对象\n",
    "+ `0..*`: 表示一个集合中的一个对象对应另一个集合中的`0`个或多个对象(可以不对应)\n",
    "+ `1..*`: 表示一个集合中的一个对象对应另一个集合中的一个或多个对象(至少对应一个)\n",
    "+ `*`: 表示一个集合中的一个对象对应另一个集合中的多个对象\n",
    "\n",
    "\n",
    "\n",
    "<br/><br/>\n",
    "* 类与类的关系\n",
    "![avatar](imgs/classRelation.jpg)"
   ]
  },
  {
   "cell_type": "markdown",
   "metadata": {},
   "source": [
    "## 时序图\n",
    "* 捕捉一段时间范围内多个对象之间的交互信息\n",
    "* 强调消息交互的时间顺序\n",
    "\n",
    "![avatar](imgs/sequenceDiagram.jpg)"
   ]
  },
  {
   "cell_type": "markdown",
   "metadata": {},
   "source": [
    "## 活动图\n",
    "\n",
    "![avatar](imgs/activityDiagram.jpg)\n",
    "\n",
    "![avatar](imgs/activityDiagram2.jpg)"
   ]
  },
  {
   "cell_type": "markdown",
   "metadata": {},
   "source": [
    "## 协作图\n",
    "\n",
    "![avatar](imgs/collaboration.jpg)"
   ]
  },
  {
   "cell_type": "code",
   "execution_count": null,
   "metadata": {},
   "outputs": [],
   "source": []
  }
 ],
 "metadata": {
  "kernelspec": {
   "display_name": "Python 3",
   "language": "python",
   "name": "python3"
  },
  "language_info": {
   "codemirror_mode": {
    "name": "ipython",
    "version": 3
   },
   "file_extension": ".py",
   "mimetype": "text/x-python",
   "name": "python",
   "nbconvert_exporter": "python",
   "pygments_lexer": "ipython3",
   "version": "3.7.0"
  }
 },
 "nbformat": 4,
 "nbformat_minor": 2
}
