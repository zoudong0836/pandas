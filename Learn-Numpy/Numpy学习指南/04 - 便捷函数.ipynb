{
 "cells": [
  {
   "cell_type": "markdown",
   "metadata": {},
   "source": [
    "# 协方差\n",
    "> 描述的是两个变量共同变化的趋势，其实就是归一化前的相关系数\n",
    "\n",
    "> + 如果两个变量的变化趋势一致，也就是说如果其中一个大于自身的期望值，另外一个也大于自身的期望值，那么两个变量之间的协方差就是正值。   \n",
    "> + 如果两个变量的变化趋势相反，即其中一个大于自身的期望值，另外一个却小于自身的期望值，那么两个变量之间的协方差就是负值  \n",
    "> + 如果协方差值为 0，也是就是统计上说的“相互独立”\n",
    "\n",
    "\n",
    "$$ cov(X,Y) = \\frac{\\sum_{i=1}^n(X_i - \\bar{X})(Y_i - \\bar{Y})}{n} $$"
   ]
  },
  {
   "cell_type": "code",
   "execution_count": 4,
   "metadata": {},
   "outputs": [],
   "source": [
    "import numpy as np\n",
    "import matplotlib.pyplot as plt"
   ]
  },
  {
   "cell_type": "code",
   "execution_count": 25,
   "metadata": {},
   "outputs": [
    {
     "data": {
      "text/plain": [
       "array([93.72, 95.64, 94.56, 93.3 , 93.93, 92.39, 92.11, 92.36, 91.76,\n",
       "       93.91, 94.6 , 93.27, 94.43, 96.02, 95.76, 94.47, 94.34, 92.22,\n",
       "       88.31, 89.59, 89.02, 86.95, 84.88, 87.38, 88.56, 89.59, 88.71,\n",
       "       90.02, 91.26, 90.67])"
      ]
     },
     "execution_count": 25,
     "metadata": {},
     "output_type": "execute_result"
    }
   ],
   "source": [
    "bhp = np.loadtxt('Data/BHP.csv', delimiter=',', usecols=(6, ), unpack=True)\n",
    "bhp"
   ]
  },
  {
   "cell_type": "code",
   "execution_count": 7,
   "metadata": {},
   "outputs": [
    {
     "data": {
      "text/plain": [
       "array([ 0.02048656, -0.01129235, -0.01332487,  0.00675241, -0.01639519,\n",
       "       -0.00303063,  0.00271415, -0.00649632,  0.02343069,  0.00734746,\n",
       "       -0.0140592 ,  0.01243701,  0.01683787, -0.00270777, -0.01347118,\n",
       "       -0.0013761 , -0.02247191, -0.04239861,  0.01449439, -0.00636232,\n",
       "       -0.0232532 , -0.02380679,  0.02945335,  0.01350423,  0.01163053,\n",
       "       -0.00982252,  0.01476722,  0.01377472, -0.00646504])"
      ]
     },
     "execution_count": 7,
     "metadata": {},
     "output_type": "execute_result"
    }
   ],
   "source": [
    "# 归一化\n",
    "\n",
    "bhp_returns = np.diff(bhp) / bhp[:-1]\n",
    "bhp_returns"
   ]
  },
  {
   "cell_type": "code",
   "execution_count": 26,
   "metadata": {},
   "outputs": [
    {
     "data": {
      "text/plain": [
       "array([34.37, 35.13, 35.14, 35.31, 35.57, 35.03, 33.44, 33.94, 34.21,\n",
       "       34.27, 34.23, 33.76, 34.32, 34.87, 34.5 , 33.23, 33.29, 32.88,\n",
       "       31.91, 32.17, 32.44, 31.91, 31.04, 31.51, 32.14, 32.42, 32.25,\n",
       "       32.7 , 32.36, 32.34])"
      ]
     },
     "execution_count": 26,
     "metadata": {},
     "output_type": "execute_result"
    }
   ],
   "source": [
    "vale = np.loadtxt('Data/VALE.csv', delimiter=',', usecols=(6, ), unpack=True)\n",
    "vale"
   ]
  },
  {
   "cell_type": "code",
   "execution_count": 11,
   "metadata": {},
   "outputs": [
    {
     "data": {
      "text/plain": [
       "array([ 0.02211231,  0.00028466,  0.00483779,  0.00736335, -0.01518133,\n",
       "       -0.04538967,  0.01495215,  0.00795522,  0.00175387, -0.0011672 ,\n",
       "       -0.01373065,  0.01658768,  0.01602564, -0.01061084, -0.03681159,\n",
       "        0.0018056 , -0.01231601, -0.02950122,  0.00814792,  0.00839291,\n",
       "       -0.01633785, -0.02726418,  0.01514175,  0.01999365,  0.00871189,\n",
       "       -0.00524368,  0.01395349, -0.01039755, -0.00061805])"
      ]
     },
     "execution_count": 11,
     "metadata": {},
     "output_type": "execute_result"
    }
   ],
   "source": [
    "# 归一化\n",
    "\n",
    "vale_returns = np.diff(vale) / vale[:-1]\n",
    "vale_returns"
   ]
  },
  {
   "cell_type": "code",
   "execution_count": 14,
   "metadata": {},
   "outputs": [
    {
     "data": {
      "text/plain": [
       "array([[0.00028179, 0.00019766],\n",
       "       [0.00019766, 0.00030123]])"
      ]
     },
     "execution_count": 14,
     "metadata": {},
     "output_type": "execute_result"
    }
   ],
   "source": [
    "# 计算协方差\n",
    "\n",
    "covariance = np.cov(bhp_returns, vale_returns)\n",
    "covariance"
   ]
  },
  {
   "cell_type": "code",
   "execution_count": 15,
   "metadata": {},
   "outputs": [
    {
     "data": {
      "text/plain": [
       "array([0.00028179, 0.00030123])"
      ]
     },
     "execution_count": 15,
     "metadata": {},
     "output_type": "execute_result"
    }
   ],
   "source": [
    "# 查看对角线上的元素\n",
    "\n",
    "covariance.diagonal()"
   ]
  },
  {
   "cell_type": "code",
   "execution_count": 16,
   "metadata": {},
   "outputs": [
    {
     "data": {
      "text/plain": [
       "0.000583023549920278"
      ]
     },
     "execution_count": 16,
     "metadata": {},
     "output_type": "execute_result"
    }
   ],
   "source": [
    "# 计算矩阵的迹，即对角线上元素之和\n",
    "\n",
    "covariance.trace()"
   ]
  },
  {
   "cell_type": "markdown",
   "metadata": {},
   "source": [
    "# 相关系数\n",
    "> 用以反映变量之间相关关系密切程度的统计指标。相关系数也可以看成协方差：一种剔除了两个变量量纲影响、标准化后的特殊协方差,它消除了两个变量变化幅度的影响，而只是单纯反应两个变量每单位变化时的相似程度\n",
    "\n",
    "> 相关系数的取值范围在`-1`到`1`之间。根据定义，一组数值与自身的相关系数等于`1`，这是严格线性关系的理想值\n",
    "\n",
    "$$ corr(x, y) = \\frac{Cov(x,y)}{\\sqrt{\\sigma_x}\\sqrt{\\sigma_y}} $$\n",
    "\n",
    "$$ |corr(x,y)| \\leq 1 $$"
   ]
  },
  {
   "cell_type": "code",
   "execution_count": 17,
   "metadata": {},
   "outputs": [
    {
     "data": {
      "text/plain": [
       "array([[1.00173366, 0.70264666],\n",
       "       [0.70264666, 1.0708476 ]])"
      ]
     },
     "execution_count": 17,
     "metadata": {},
     "output_type": "execute_result"
    }
   ],
   "source": [
    "# 按照公式计算相关系数\n",
    "\n",
    "covariance / (bhp_returns.std() * vale_returns.std())"
   ]
  },
  {
   "cell_type": "code",
   "execution_count": 20,
   "metadata": {},
   "outputs": [
    {
     "data": {
      "text/plain": [
       "array([[0.96719112, 0.67841747],\n",
       "       [0.67841747, 1.03392182]])"
      ]
     },
     "execution_count": 20,
     "metadata": {},
     "output_type": "execute_result"
    }
   ],
   "source": [
    "covariance / (bhp_returns.std(ddof=1) * vale_returns.std(ddof=1))"
   ]
  },
  {
   "cell_type": "markdown",
   "metadata": {},
   "source": [
    "# corrcoef (计算相关系数)\n",
    "\n",
    "> 相关系数矩阵是关于对角线对称的"
   ]
  },
  {
   "cell_type": "code",
   "execution_count": 18,
   "metadata": {},
   "outputs": [
    {
     "data": {
      "text/plain": [
       "array([[1.        , 0.67841747],\n",
       "       [0.67841747, 1.        ]])"
      ]
     },
     "execution_count": 18,
     "metadata": {},
     "output_type": "execute_result"
    }
   ],
   "source": [
    "# 利用Numpy提供的方法计算相关系数\n",
    "\n",
    "np.corrcoef(bhp_returns, vale_returns)"
   ]
  },
  {
   "cell_type": "markdown",
   "metadata": {},
   "source": [
    "> 由于NumPy在计算协方差时，自由度参数默认为1，即分母为N-1而不是N，从而求得总体协方差的无偏估计。而调用.std()计算标准差时，自由度参数默认为0，从而求得的是样本标准差，而非总体标准差的无偏估计。\n",
    "\n",
    "> 如果在调用.std()方法时指定ddof=1，即自由度设为1，就可以得到与下一步计算结果相同的副对角线元素"
   ]
  },
  {
   "cell_type": "code",
   "execution_count": 31,
   "metadata": {},
   "outputs": [
    {
     "data": {
      "text/plain": [
       "[<matplotlib.lines.Line2D at 0x7fdc1f488f28>]"
      ]
     },
     "execution_count": 31,
     "metadata": {},
     "output_type": "execute_result"
    },
    {
     "data": {
      "image/png": "[encoded data removed]",
      "text/plain": [
       "<Figure size 432x288 with 1 Axes>"
      ]
     },
     "metadata": {
      "needs_background": "light"
     },
     "output_type": "display_data"
    }
   ],
   "source": [
    "t = np.arange(len(bhp_returns))\n",
    "plt.plot(t, bhp_returns, lw=1)\n",
    "plt.plot(t, vale_returns, lw=5)"
   ]
  },
  {
   "cell_type": "code",
   "execution_count": null,
   "metadata": {},
   "outputs": [],
   "source": []
  },
  {
   "cell_type": "code",
   "execution_count": 32,
   "metadata": {},
   "outputs": [
    {
     "data": {
      "text/plain": [
       "array([93.72, 95.64, 94.56, 93.3 , 93.93, 92.39, 92.11, 92.36, 91.76,\n",
       "       93.91, 94.6 , 93.27, 94.43, 96.02, 95.76, 94.47, 94.34, 92.22,\n",
       "       88.31, 89.59, 89.02, 86.95, 84.88, 87.38, 88.56, 89.59, 88.71,\n",
       "       90.02, 91.26, 90.67])"
      ]
     },
     "execution_count": 32,
     "metadata": {},
     "output_type": "execute_result"
    }
   ],
   "source": [
    "c, v=np.loadtxt('Data/BHP.csv', delimiter=',', usecols=(6, 7), unpack=True)\n",
    "c"
   ]
  },
  {
   "cell_type": "code",
   "execution_count": 34,
   "metadata": {},
   "outputs": [
    {
     "data": {
      "text/plain": [
       "array([ 1.92, -1.08, -1.26,  0.63, -1.54, -0.28,  0.25, -0.6 ,  2.15,\n",
       "        0.69, -1.33,  1.16,  1.59, -0.26, -1.29, -0.13, -2.12, -3.91,\n",
       "        1.28, -0.57, -2.07, -2.07,  2.5 ,  1.18,  1.03, -0.88,  1.31,\n",
       "        1.24, -0.59])"
      ]
     },
     "execution_count": 34,
     "metadata": {},
     "output_type": "execute_result"
    }
   ],
   "source": [
    "change = np.diff(c)\n",
    "change"
   ]
  },
  {
   "cell_type": "markdown",
   "metadata": {},
   "source": [
    "# sign\n",
    "> 可以返回数组中每个元素的正负符号，数组元素为负时返回-1，为正时返回1，否则返回0"
   ]
  },
  {
   "cell_type": "code",
   "execution_count": 35,
   "metadata": {},
   "outputs": [
    {
     "data": {
      "text/plain": [
       "array([ 1., -1., -1.,  1., -1., -1.,  1., -1.,  1.,  1., -1.,  1.,  1.,\n",
       "       -1., -1., -1., -1., -1.,  1., -1., -1., -1.,  1.,  1.,  1., -1.,\n",
       "        1.,  1., -1.])"
      ]
     },
     "execution_count": 35,
     "metadata": {},
     "output_type": "execute_result"
    }
   ],
   "source": [
    "signs = np.sign(change)\n",
    "signs"
   ]
  },
  {
   "cell_type": "markdown",
   "metadata": {},
   "source": [
    "# piecewise\n",
    "> 分段给定取值"
   ]
  },
  {
   "cell_type": "code",
   "execution_count": 37,
   "metadata": {},
   "outputs": [
    {
     "data": {
      "text/plain": [
       "array([ 1., -1., -1.,  1., -1., -1.,  1., -1.,  1.,  1., -1.,  1.,  1.,\n",
       "       -1., -1., -1., -1., -1.,  1., -1., -1., -1.,  1.,  1.,  1., -1.,\n",
       "        1.,  1., -1.])"
      ]
     },
     "execution_count": 37,
     "metadata": {},
     "output_type": "execute_result"
    }
   ],
   "source": [
    "pieces = np.piecewise(change, condlist=[change < 0, change > 0], funclist=[-1, 1])\n",
    "pieces"
   ]
  },
  {
   "cell_type": "markdown",
   "metadata": {},
   "source": [
    "# array_equal\n",
    "> 判断两个 array 是否有相同的 shape 和 elements"
   ]
  },
  {
   "cell_type": "code",
   "execution_count": 38,
   "metadata": {},
   "outputs": [
    {
     "data": {
      "text/plain": [
       "True"
      ]
     },
     "execution_count": 38,
     "metadata": {},
     "output_type": "execute_result"
    }
   ],
   "source": [
    "np.array_equal(signs, pieces)"
   ]
  },
  {
   "cell_type": "code",
   "execution_count": null,
   "metadata": {},
   "outputs": [],
   "source": []
  },
  {
   "cell_type": "code",
   "execution_count": null,
   "metadata": {},
   "outputs": [],
   "source": []
  }
 ],
 "metadata": {
  "kernelspec": {
   "display_name": "Python 3",
   "language": "python",
   "name": "python3"
  },
  "language_info": {
   "codemirror_mode": {
    "name": "ipython",
    "version": 3
   },
   "file_extension": ".py",
   "mimetype": "text/x-python",
   "name": "python",
   "nbconvert_exporter": "python",
   "pygments_lexer": "ipython3",
   "version": "3.6.7"
  }
 },
 "nbformat": 4,
 "nbformat_minor": 4
}
