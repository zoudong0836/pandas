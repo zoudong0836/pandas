{
 "cells": [
  {
   "cell_type": "markdown",
   "metadata": {},
   "source": [
    "# 读入CSV文件"
   ]
  },
  {
   "cell_type": "markdown",
   "metadata": {},
   "source": [
    "## 函数原型\n",
    "\n",
    "```python\n",
    "loadtxt(fname, dtype=float, comments='#', delimiter=None,\n",
    "            converters=None, skiprows=0, usecols=None, unpack=False,\n",
    "            ndmin=0, encoding='bytes', max_rows=None)\n",
    "\n",
    "```"
   ]
  },
  {
   "cell_type": "code",
   "execution_count": 67,
   "metadata": {},
   "outputs": [],
   "source": [
    "import numpy as np\n",
    "import matplotlib.pyplot as plt"
   ]
  },
  {
   "cell_type": "code",
   "execution_count": 3,
   "metadata": {},
   "outputs": [],
   "source": [
    "# data.csv 为苹果公司的历史股价数据\n",
    "# 第一列为股票代码以标识股票（苹果公司股票代码为AAPL）\n",
    "# 第二列为dd-mm-yyyy格式的日期\n",
    "# 第三列为空\n",
    "# 第四列为开盘价\n",
    "# 第五列为最高价\n",
    "# 第六列为最低价\n",
    "# 第七列为收盘价\n",
    "# 第八列为当日的成交量\n",
    "\n",
    "\n",
    "# 读取收盘价和当日的成交量\n",
    "c, v = np.loadtxt('Data/data.csv', delimiter=',', usecols=(6, 7), unpack=True)"
   ]
  },
  {
   "cell_type": "markdown",
   "metadata": {},
   "source": [
    "# 成交量加权平均值 (VWAP)\n",
    "> VWAP（Volume-Weighted Average Price，成交量加权平均价格）是一个非常重要的经济学量，\n",
    "它代表着金融资产的“平均”价格。某个价格的成交量越高，该价格所占的权重就越大。VWAP\n",
    "就是以成交量为权重计算出来的加权平均值，常用于算法交易"
   ]
  },
  {
   "cell_type": "code",
   "execution_count": 4,
   "metadata": {},
   "outputs": [
    {
     "data": {
      "text/plain": [
       "350.5895493532009"
      ]
     },
     "execution_count": 4,
     "metadata": {},
     "output_type": "execute_result"
    }
   ],
   "source": [
    "vwap = np.average(c, weights=v)\n",
    "vwap"
   ]
  },
  {
   "cell_type": "markdown",
   "metadata": {},
   "source": [
    "# 时间加权平均价格 (TWAP)\n",
    "> TWAP（Time-Weighted Average Price，时间加权平均价格）是另一种“平均”价格的指标。基本的思想就是最近的价格重要性大一些，所以我们应该对近期的价格给以较高的权重。最简单的方法就是用arange函数创建一个从0开始依次增长的自然数序列，自然数的个数即为收盘价的个数。当然，这并不一定是正确的计算TWAP的方式"
   ]
  },
  {
   "cell_type": "code",
   "execution_count": 5,
   "metadata": {},
   "outputs": [
    {
     "data": {
      "text/plain": [
       "352.4283218390804"
      ]
     },
     "execution_count": 5,
     "metadata": {},
     "output_type": "execute_result"
    }
   ],
   "source": [
    "t = np.arange(len(c))\n",
    "twap = np.average(c, weights=t)\n",
    "twap"
   ]
  },
  {
   "cell_type": "markdown",
   "metadata": {},
   "source": [
    "# 极差 (ptp)\n",
    ">  $ptp$ 函数可以计算数组的取值范围。该函数返回的是数组元素的最大值和最小值之间的差值。也就是说，返回值等于 $max(array)$ - $min(array)$"
   ]
  },
  {
   "cell_type": "code",
   "execution_count": 6,
   "metadata": {},
   "outputs": [],
   "source": [
    "# 读取每日最高价和最低价\n",
    "h, l = np.loadtxt('Data/data.csv', delimiter=',', usecols=(4, 5), unpack=True)"
   ]
  },
  {
   "cell_type": "code",
   "execution_count": 7,
   "metadata": {},
   "outputs": [
    {
     "data": {
      "text/plain": [
       "24.859999999999957"
      ]
     },
     "execution_count": 7,
     "metadata": {},
     "output_type": "execute_result"
    }
   ],
   "source": [
    "np.ptp(h)"
   ]
  },
  {
   "cell_type": "code",
   "execution_count": 8,
   "metadata": {},
   "outputs": [
    {
     "data": {
      "text/plain": [
       "26.970000000000027"
      ]
     },
     "execution_count": 8,
     "metadata": {},
     "output_type": "execute_result"
    }
   ],
   "source": [
    "np.ptp(l)"
   ]
  },
  {
   "cell_type": "markdown",
   "metadata": {},
   "source": [
    "# 中位数 (median)\n",
    "> 将各个数值按大小顺序排列起来，形成一个数列，居于数列中间位置的那个数即为中位数"
   ]
  },
  {
   "cell_type": "code",
   "execution_count": 11,
   "metadata": {},
   "outputs": [
    {
     "data": {
      "text/plain": [
       "352.055"
      ]
     },
     "execution_count": 11,
     "metadata": {},
     "output_type": "execute_result"
    }
   ],
   "source": [
    "# 读取收盘价\n",
    "c = np.loadtxt('Data/data.csv', delimiter=',', usecols=(6,), unpack=True)\n",
    "np.median(c)"
   ]
  },
  {
   "cell_type": "code",
   "execution_count": 12,
   "metadata": {},
   "outputs": [],
   "source": [
    "# 手动实现中位数算法\n",
    "\n",
    "## 对数据进行排序\n",
    "## `np.msort(a)` is equivalent to  `np.sort(a, axis=0)`\n",
    "sorted_close = np.msort(c)"
   ]
  },
  {
   "cell_type": "code",
   "execution_count": 20,
   "metadata": {},
   "outputs": [
    {
     "name": "stdout",
     "output_type": "stream",
     "text": [
      "352.055\n"
     ]
    }
   ],
   "source": [
    "N = len(c)\n",
    "\n",
    "# 对于长度为偶数的数组，中位数的值应该等于中间那两个数的平均值\n",
    "if N % 2 == 0:\n",
    "    print((sorted_close[N // 2] + sorted_close[(N-1) // 2]) / 2)\n",
    "    \n",
    "# 对于长度为奇数的数组，中位数的值应该等于中间那个数 \n",
    "else:\n",
    "    print(sorted_close[(N-1) // 2])"
   ]
  },
  {
   "cell_type": "markdown",
   "metadata": {},
   "source": [
    "# 方差\n",
    "> 方差能够体现变量变化的程度"
   ]
  },
  {
   "cell_type": "code",
   "execution_count": 23,
   "metadata": {},
   "outputs": [
    {
     "data": {
      "text/plain": [
       "50.126517888888884"
      ]
     },
     "execution_count": 23,
     "metadata": {},
     "output_type": "execute_result"
    }
   ],
   "source": [
    "np.var(c)"
   ]
  },
  {
   "cell_type": "markdown",
   "metadata": {},
   "source": [
    "> 方差是指各个数据与所有数据算术平均数的离差平方和除以数据个数所得到的值  \n",
    "\n",
    "$$ s_N^2 = \\frac{\\sum_{i=1}^N(x_i - \\bar{x})^2}{n} $$"
   ]
  },
  {
   "cell_type": "code",
   "execution_count": 24,
   "metadata": {},
   "outputs": [
    {
     "data": {
      "text/plain": [
       "50.126517888888884"
      ]
     },
     "execution_count": 24,
     "metadata": {},
     "output_type": "execute_result"
    }
   ],
   "source": [
    "np.mean((c - c.mean()) ** 2)"
   ]
  },
  {
   "cell_type": "markdown",
   "metadata": {},
   "source": [
    "> 注意注意样本方差和总体方差在计算上的区别：  \n",
    "> + 总体方差是用数据个数去除离差平方和   \n",
    "> + 样本方差则是用样本数据个数减1去除离差平方和，其中样本数据个数减1（即$n-1$）称为自由度。之所以有这样的差别，是为了保证样本方差是一个无偏估计量。"
   ]
  },
  {
   "cell_type": "markdown",
   "metadata": {},
   "source": [
    "# diff\n",
    "> 计算一个由相邻数组元素的差值构成的数组   \n",
    "> diff 返回的数组比原始数组少一个元素"
   ]
  },
  {
   "cell_type": "code",
   "execution_count": 29,
   "metadata": {},
   "outputs": [
    {
     "data": {
      "text/plain": [
       "array([336.1 , 339.32, 345.03, 344.32, 343.44, 346.5 , 351.88, 355.2 ,\n",
       "       358.16, 354.54, 356.85, 359.18, 359.9 , 363.13, 358.3 , 350.56,\n",
       "       338.61, 342.62, 342.88, 348.16, 353.21, 349.31, 352.12, 359.56,\n",
       "       360.  , 355.36, 355.76, 352.47, 346.67, 351.99])"
      ]
     },
     "execution_count": 29,
     "metadata": {},
     "output_type": "execute_result"
    }
   ],
   "source": [
    "c"
   ]
  },
  {
   "cell_type": "code",
   "execution_count": 28,
   "metadata": {},
   "outputs": [
    {
     "data": {
      "text/plain": [
       "array([  3.22,   5.71,  -0.71,  -0.88,   3.06,   5.38,   3.32,   2.96,\n",
       "        -3.62,   2.31,   2.33,   0.72,   3.23,  -4.83,  -7.74, -11.95,\n",
       "         4.01,   0.26,   5.28,   5.05,  -3.9 ,   2.81,   7.44,   0.44,\n",
       "        -4.64,   0.4 ,  -3.29,  -5.8 ,   5.32])"
      ]
     },
     "execution_count": 28,
     "metadata": {},
     "output_type": "execute_result"
    }
   ],
   "source": [
    "np.diff(c)"
   ]
  },
  {
   "cell_type": "markdown",
   "metadata": {},
   "source": [
    "# 日期数据\n",
    "> NumPy是面向浮点数运算的，因此需要对日期做一些专门的处理，否则会报错"
   ]
  },
  {
   "cell_type": "markdown",
   "metadata": {},
   "source": [
    "```python\n",
    "dates, close=np.loadtxt('Data/data.csv', delimiter=',', usecols=(1,6), unpack=True)\n",
    "\n",
    "ValueError: could not convert string to float: '28-01-2011'\n",
    "```"
   ]
  },
  {
   "cell_type": "code",
   "execution_count": 32,
   "metadata": {},
   "outputs": [
    {
     "data": {
      "text/plain": [
       "array([4., 0., 1., 2., 3., 4., 0., 1., 2., 3., 4., 0., 1., 2., 3., 4., 1.,\n",
       "       2., 3., 4., 0., 1., 2., 3., 4., 0., 1., 2., 3., 4.])"
      ]
     },
     "execution_count": 32,
     "metadata": {},
     "output_type": "execute_result"
    }
   ],
   "source": [
    "# 定义一个函数用于将日期转换成浮点数\n",
    "def datestr2num(s):\n",
    "    import datetime\n",
    "    return datetime.datetime.strptime(s.decode(), '%d-%m-%Y').date().weekday()\n",
    "\n",
    "dates, close = np.loadtxt('Data/data.csv', delimiter=',', usecols=(1, 6), \n",
    "                         converters={1 : datestr2num}, unpack=True)\n",
    "dates"
   ]
  },
  {
   "cell_type": "markdown",
   "metadata": {},
   "source": [
    "# where\n",
    "> 根据指定的条件返回所有满足条件的数组元素的索引值"
   ]
  },
  {
   "cell_type": "markdown",
   "metadata": {},
   "source": [
    "# take\n",
    "> 按照索引值从数组中取出相应的元素"
   ]
  },
  {
   "cell_type": "code",
   "execution_count": 37,
   "metadata": {},
   "outputs": [
    {
     "name": "stdout",
     "output_type": "stream",
     "text": [
      "Day 0, Prices [[[339.32 351.88 359.18 353.21 355.36]]], Average: 351.79\n",
      "Day 1, Prices [[[345.03 355.2  359.9  338.61 349.31 355.76]]], Average: 350.635\n",
      "Day 2, Prices [[[344.32 358.16 363.13 342.62 352.12 352.47]]], Average: 352.137\n",
      "Day 3, Prices [[[343.44 354.54 358.3  342.88 359.56 346.67]]], Average: 350.898\n",
      "Day 4, Prices [[[336.1  346.5  356.85 350.56 348.16 360.   351.99]]], Average: 350.023\n"
     ]
    },
    {
     "data": {
      "text/plain": [
       "array([351.79 , 350.635, 352.137, 350.898, 350.023])"
      ]
     },
     "execution_count": 37,
     "metadata": {},
     "output_type": "execute_result"
    }
   ],
   "source": [
    "# 创建一个包含5个元素的数组，数组元素将初始化为0\n",
    "averages = np.zeros(5)\n",
    "\n",
    "for i in range(5):\n",
    "    \n",
    "    # 提取索引\n",
    "    indices = np.where(dates == i)\n",
    "    \n",
    "    # 提取索引对应的数值\n",
    "    prices = np.take(close, indices)\n",
    "    \n",
    "    # 计算平均值\n",
    "    avg = round(np.mean(prices), 3)\n",
    "    print(f'Day {i}, Prices [{prices}], Average: {avg}')\n",
    "    \n",
    "    # 存储平均值\n",
    "    averages[i] = avg\n",
    "    \n",
    "averages"
   ]
  },
  {
   "cell_type": "code",
   "execution_count": 43,
   "metadata": {},
   "outputs": [
    {
     "data": {
      "text/plain": [
       "'Max Value Index: 2, Max Value: 352.137'"
      ]
     },
     "execution_count": 43,
     "metadata": {},
     "output_type": "execute_result"
    }
   ],
   "source": [
    "# 最大值索引 及 最大值\n",
    "\n",
    "f'Max Value Index: {np.argmax(averages)}, Max Value: {np.max(averages)}'"
   ]
  },
  {
   "cell_type": "code",
   "execution_count": 42,
   "metadata": {},
   "outputs": [
    {
     "data": {
      "text/plain": [
       "'Min Value Index: 4, Max Value: 350.023'"
      ]
     },
     "execution_count": 42,
     "metadata": {},
     "output_type": "execute_result"
    }
   ],
   "source": [
    "# 最小值索引 及 最小值\n",
    "\n",
    "f'Min Value Index: {np.argmin(averages)}, Min Value: {np.min(averages)}'"
   ]
  },
  {
   "cell_type": "markdown",
   "metadata": {},
   "source": [
    "# ravel\n",
    "> 降维，返回一维数组\n",
    "\n",
    "+ ravel()：如果没有必要，不会产生源数据的副本 \n",
    "+ flatten()：返回源数据的副本 \n",
    "+ squeeze()：只能对维数为1的维度降维\n",
    "+ reshape(-1) 也可以“拉平”多维数组"
   ]
  },
  {
   "cell_type": "code",
   "execution_count": 44,
   "metadata": {},
   "outputs": [
    {
     "data": {
      "text/plain": [
       "array([4., 0., 1., 2., 3., 4., 0., 1., 2., 3., 4., 0., 1., 2., 3., 4., 1.,\n",
       "       2., 3., 4., 0., 1., 2., 3., 4., 0., 1., 2., 3., 4.])"
      ]
     },
     "execution_count": 44,
     "metadata": {},
     "output_type": "execute_result"
    }
   ],
   "source": [
    "dates"
   ]
  },
  {
   "cell_type": "code",
   "execution_count": 51,
   "metadata": {},
   "outputs": [
    {
     "data": {
      "text/plain": [
       "(array([ 1,  6, 11, 20, 25]),)"
      ]
     },
     "execution_count": 51,
     "metadata": {},
     "output_type": "execute_result"
    }
   ],
   "source": [
    "np.where(dates == 0)  # 注意： 返回的是一个tuple"
   ]
  },
  {
   "cell_type": "code",
   "execution_count": 53,
   "metadata": {},
   "outputs": [
    {
     "data": {
      "text/plain": [
       "array([ 1,  6, 11, 20, 25])"
      ]
     },
     "execution_count": 53,
     "metadata": {},
     "output_type": "execute_result"
    }
   ],
   "source": [
    "np.ravel(np.where(dates == 0))  # 展平为一维"
   ]
  },
  {
   "cell_type": "code",
   "execution_count": 54,
   "metadata": {},
   "outputs": [
    {
     "data": {
      "text/plain": [
       "1"
      ]
     },
     "execution_count": 54,
     "metadata": {},
     "output_type": "execute_result"
    }
   ],
   "source": [
    "# 找出第一个星期一在整个数组中的索引\n",
    "\n",
    "np.ravel(np.where(dates == 0))[0]"
   ]
  },
  {
   "cell_type": "markdown",
   "metadata": {},
   "source": [
    "# 简单移动平均线\n",
    "> 简单移动平均线（simple moving average）通常用于分析时间序列上的数据。为了计算它，需要定义一个N个周期的移动窗口，按照时间序列滑动这个窗口，并计算窗口内数据的均值\n",
    "\n",
    "> 简单移动平均线只不过是计算与等权重的指示函数的卷积， Numpy 提供了 $convolve$ 函数"
   ]
  },
  {
   "cell_type": "code",
   "execution_count": 59,
   "metadata": {},
   "outputs": [
    {
     "data": {
      "text/plain": [
       "array([0.2, 0.2, 0.2, 0.2, 0.2])"
      ]
     },
     "execution_count": 59,
     "metadata": {},
     "output_type": "execute_result"
    }
   ],
   "source": [
    "# 使用ones函数创建一个长度为N的元素均初始化为1的数组，然后对整个数组除以N，即可得到权重\n",
    "N = 5\n",
    "\n",
    "weights = np.ones(N) / N\n",
    "weights"
   ]
  },
  {
   "cell_type": "code",
   "execution_count": 70,
   "metadata": {},
   "outputs": [
    {
     "data": {
      "text/plain": [
       "array([336.1 , 339.32, 345.03, 344.32, 343.44, 346.5 , 351.88, 355.2 ,\n",
       "       358.16, 354.54, 356.85, 359.18, 359.9 , 363.13, 358.3 , 350.56,\n",
       "       338.61, 342.62, 342.88, 348.16, 353.21, 349.31, 352.12, 359.56,\n",
       "       360.  , 355.36, 355.76, 352.47, 346.67, 351.99])"
      ]
     },
     "execution_count": 70,
     "metadata": {},
     "output_type": "execute_result"
    }
   ],
   "source": [
    "c"
   ]
  },
  {
   "cell_type": "markdown",
   "metadata": {},
   "source": [
    "> 简单移动平均线可以用信号处理技术求解\n",
    ">> 与 $1/N$ 的权重进行卷积运算，N 为移动平均窗口的大小"
   ]
  },
  {
   "cell_type": "code",
   "execution_count": 61,
   "metadata": {},
   "outputs": [
    {
     "data": {
      "text/plain": [
       "array([ 67.22 , 135.084, 204.09 , 272.954, 341.642, 343.722, 346.234,\n",
       "       348.268, 351.036, 353.256, 355.326, 356.786, 357.726, 358.72 ,\n",
       "       359.472, 358.214, 354.1  , 350.644, 346.594, 344.566, 345.096,\n",
       "       347.236, 349.136, 352.472, 354.84 , 355.27 , 356.56 , 356.63 ,\n",
       "       354.052, 352.45 , 281.378, 210.226, 139.732,  70.398])"
      ]
     },
     "execution_count": 61,
     "metadata": {},
     "output_type": "execute_result"
    }
   ],
   "source": [
    "# 使用这些权重值，调用convolve函数\n",
    "\n",
    "np.convolve(weights, c)"
   ]
  },
  {
   "cell_type": "code",
   "execution_count": 62,
   "metadata": {},
   "outputs": [
    {
     "data": {
      "text/plain": [
       "array([341.642, 343.722, 346.234, 348.268, 351.036, 353.256, 355.326,\n",
       "       356.786, 357.726, 358.72 , 359.472, 358.214, 354.1  , 350.644,\n",
       "       346.594, 344.566, 345.096, 347.236, 349.136, 352.472, 354.84 ,\n",
       "       355.27 , 356.56 , 356.63 , 354.052, 352.45 ])"
      ]
     },
     "execution_count": 62,
     "metadata": {},
     "output_type": "execute_result"
    }
   ],
   "source": [
    "# 取出中间的长度为N的部分 (即两者做卷积运算时完全重叠的区域)\n",
    "\n",
    "np.convolve(weights, c)[N-1 : -N+1]"
   ]
  },
  {
   "cell_type": "code",
   "execution_count": 69,
   "metadata": {},
   "outputs": [
    {
     "data": {
      "text/plain": [
       "[<matplotlib.lines.Line2D at 0x7f386eaa7358>]"
      ]
     },
     "execution_count": 69,
     "metadata": {},
     "output_type": "execute_result"
    },
    {
     "data": {
      "image/png": "[encoded data removed]",
      "text/plain": [
       "<Figure size 432x288 with 1 Axes>"
      ]
     },
     "metadata": {
      "needs_background": "light"
     },
     "output_type": "display_data"
    }
   ],
   "source": [
    "# 绘制曲线\n",
    "\n",
    "sma = np.convolve(weights, c)[N-1 : -N+1]\n",
    "t = np.arange(N-1, len(c))\n",
    "plt.plot(t, c[N-1 : ], lw=1.0)\n",
    "plt.plot(t, sma, lw=5.0)"
   ]
  },
  {
   "cell_type": "markdown",
   "metadata": {},
   "source": [
    "# 指数移动平均线\n",
    "> 指数移动平均线（exponential moving average）也是一种流行的技术指标。指数移动平均线使用的权重是指数衰减的。对历史上的数据点赋予的权重以指数速度减小，但永远不会到达0。\n",
    "\n",
    "> 与`简单移动平均线`的主要区别在于：权重"
   ]
  },
  {
   "cell_type": "markdown",
   "metadata": {},
   "source": [
    "# exp \n",
    "> exp，高等数学里以自然常数`e`为底的指数函数；返回`e`的`n`次方，`e`是一个常数为2.71828"
   ]
  },
  {
   "cell_type": "code",
   "execution_count": 76,
   "metadata": {},
   "outputs": [
    {
     "data": {
      "text/plain": [
       "array([0.36787944, 0.47236655, 0.60653066, 0.77880078, 1.        ])"
      ]
     },
     "execution_count": 76,
     "metadata": {},
     "output_type": "execute_result"
    }
   ],
   "source": [
    "# 构造权重值\n",
    "\n",
    "N = 5\n",
    "weights= np.exp(np.linspace(-1, 0, N))\n",
    "weights"
   ]
  },
  {
   "cell_type": "code",
   "execution_count": 77,
   "metadata": {},
   "outputs": [
    {
     "data": {
      "text/plain": [
       "array([0.11405072, 0.14644403, 0.18803785, 0.24144538, 0.31002201])"
      ]
     },
     "execution_count": 77,
     "metadata": {},
     "output_type": "execute_result"
    }
   ],
   "source": [
    "# 对权重值做归一化处理\n",
    "\n",
    "weights /= weights.sum()\n",
    "weights"
   ]
  },
  {
   "cell_type": "code",
   "execution_count": 79,
   "metadata": {},
   "outputs": [
    {
     "data": {
      "text/plain": [
       "array([340.5975344 , 343.06107601, 345.55611377, 346.86543931,\n",
       "       349.16687079, 352.05941068, 354.81884961, 356.48612788,\n",
       "       357.38745929, 357.73487019, 359.07112525, 358.98460222,\n",
       "       356.58308089, 353.67019505, 348.67384286, 344.78329523,\n",
       "       343.44479866, 346.03834711, 348.09272645, 351.47563932,\n",
       "       353.76772573, 354.17134307, 356.28771523, 357.51137004,\n",
       "       355.45939324, 353.25619921])"
      ]
     },
     "execution_count": 79,
     "metadata": {},
     "output_type": "execute_result"
    }
   ],
   "source": [
    "# 计算指数移动平均值\n",
    "\n",
    "np.convolve(weights, c)[N-1 : -N+1]"
   ]
  },
  {
   "cell_type": "code",
   "execution_count": 78,
   "metadata": {},
   "outputs": [
    {
     "data": {
      "text/plain": [
       "[<matplotlib.lines.Line2D at 0x7f386dab4c18>]"
      ]
     },
     "execution_count": 78,
     "metadata": {},
     "output_type": "execute_result"
    },
    {
     "data": {
      "image/png": "[encoded data removed]",
      "text/plain": [
       "<Figure size 432x288 with 1 Axes>"
      ]
     },
     "metadata": {
      "needs_background": "light"
     },
     "output_type": "display_data"
    }
   ],
   "source": [
    "ema = np.convolve(weights, c)[N-1 : -N+1]\n",
    "t = np.arange(N-1, len(c))\n",
    "plt.plot(t, c[N-1 :], lw=1.0)\n",
    "plt.plot(t, ema, lw=5.0)"
   ]
  },
  {
   "cell_type": "markdown",
   "metadata": {},
   "source": [
    "# clip\n",
    "> 返回一个修剪过的数组，也就是将所有比给定最大值还大的元素全部设为给定的最大值，而所有比给定最小值还小的元素全部设为给定的最小值"
   ]
  },
  {
   "cell_type": "code",
   "execution_count": 80,
   "metadata": {},
   "outputs": [
    {
     "data": {
      "text/plain": [
       "array([0, 1, 2, 3, 4])"
      ]
     },
     "execution_count": 80,
     "metadata": {},
     "output_type": "execute_result"
    }
   ],
   "source": [
    "a = np.arange(5)\n",
    "a"
   ]
  },
  {
   "cell_type": "code",
   "execution_count": 81,
   "metadata": {},
   "outputs": [
    {
     "data": {
      "text/plain": [
       "array([1, 1, 2, 2, 2])"
      ]
     },
     "execution_count": 81,
     "metadata": {},
     "output_type": "execute_result"
    }
   ],
   "source": [
    "a.clip(1, 2)"
   ]
  },
  {
   "cell_type": "markdown",
   "metadata": {},
   "source": [
    "# compress\n",
    "> 返回一个根据给定条件筛选后的数组"
   ]
  },
  {
   "cell_type": "code",
   "execution_count": 83,
   "metadata": {},
   "outputs": [
    {
     "data": {
      "text/plain": [
       "array([3, 4])"
      ]
     },
     "execution_count": 83,
     "metadata": {},
     "output_type": "execute_result"
    }
   ],
   "source": [
    "a = np.arange(5)\n",
    "a.compress(a > 2)"
   ]
  },
  {
   "cell_type": "code",
   "execution_count": null,
   "metadata": {},
   "outputs": [],
   "source": []
  },
  {
   "cell_type": "code",
   "execution_count": null,
   "metadata": {},
   "outputs": [],
   "source": []
  },
  {
   "cell_type": "code",
   "execution_count": null,
   "metadata": {},
   "outputs": [],
   "source": []
  }
 ],
 "metadata": {
  "kernelspec": {
   "display_name": "Python 3",
   "language": "python",
   "name": "python3"
  },
  "language_info": {
   "codemirror_mode": {
    "name": "ipython",
    "version": 3
   },
   "file_extension": ".py",
   "mimetype": "text/x-python",
   "name": "python",
   "nbconvert_exporter": "python",
   "pygments_lexer": "ipython3",
   "version": "3.6.7"
  }
 },
 "nbformat": 4,
 "nbformat_minor": 4
}
