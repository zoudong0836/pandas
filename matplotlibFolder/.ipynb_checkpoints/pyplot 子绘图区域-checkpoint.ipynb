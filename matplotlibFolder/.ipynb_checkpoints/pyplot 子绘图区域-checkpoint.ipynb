{
 "cells": [
  {
   "cell_type": "markdown",
   "metadata": {},
   "source": [
    "``` python\n",
    "plt.subplot2grid()\n",
    "\n",
    "plt.subplot2grid(GridSpec, CurSpec, colspan=1, rowspan=1)\n",
    "\n",
    "思路： 设定网格、选中网格、确定选中行列区域数量，编号从`0`开始\n",
    "```"
   ]
  },
  {
   "cell_type": "markdown",
   "metadata": {},
   "source": [
    "```python\n",
    "plt.subplot2grid((3, 3), (0, 0), colspan=3)\n",
    "\n",
    "plt.subplot2grid((3, 3), (1, 0), colspan=2)\n",
    "\n",
    "plt.subplot2grid((3, 3), (1, 2), rowspan=2)\n",
    "\n",
    "plt.subplot2grid((3, 3), (2, 0))\n",
    "\n",
    "plt.subplot2grid((3, 3), (2, 1))\n",
    "```"
   ]
  },
  {
   "cell_type": "markdown",
   "metadata": {},
   "source": [
    "```python\n",
    "\n",
    "import matplotlib.gridspec as gridspec\n",
    "\n",
    "gs = gridspec.GridSpec(3, 3)\n",
    "\n",
    "ax1 = plt.subplot(gs[0, :])\n",
    "\n",
    "ax2 = plt.subplot(gs[1, :-1])\n",
    "\n",
    "ax3 = plt.subplot(gs[1:, -1])\n",
    "\n",
    "ax4 = plt.subplot(gs[2, 0])\n",
    "\n",
    "ax5 = plt.subplot(gs[2, 1])\n",
    "```"
   ]
  },
  {
   "cell_type": "code",
   "execution_count": null,
   "metadata": {},
   "outputs": [],
   "source": []
  }
 ],
 "metadata": {
  "kernelspec": {
   "display_name": "Python 3",
   "language": "python",
   "name": "python3"
  },
  "language_info": {
   "codemirror_mode": {
    "name": "ipython",
    "version": 3
   },
   "file_extension": ".py",
   "mimetype": "text/x-python",
   "name": "python",
   "nbconvert_exporter": "python",
   "pygments_lexer": "ipython3",
   "version": "3.7.0"
  }
 },
 "nbformat": 4,
 "nbformat_minor": 2
}
