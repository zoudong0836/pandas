{
 "cells": [
  {
   "cell_type": "markdown",
   "metadata": {},
   "source": [
    "## 通过 openpyxl 向 Excel 中插入图片"
   ]
  },
  {
   "cell_type": "code",
   "execution_count": null,
   "metadata": {},
   "outputs": [],
   "source": [
    "from openpyxl import load_workbook\n",
    "from openpyxl.drawing.image import Image\n",
    "\n",
    "# 初始化图片对象\n",
    "img = Image('sig_size.png')\n",
    "\n",
    "# 生成新的图片的宽和高\n",
    "newsize = (1123, 600)\n",
    "\n",
    "# 加载 excel 文件\n",
    "wb = load_workbook('data-1.xlsx')\n",
    "ws = wb.active\n",
    "\n",
    "# 向指定位置'A10'插入图片\n",
    "ws.add_image(img, 'A10')\n",
    "\n",
    "# 另存为\n",
    "wb.save('data-2.xlsx')"
   ]
  },
  {
   "cell_type": "markdown",
   "metadata": {},
   "source": [
    "## openpyxl 插入 matplotlib 生成的图片"
   ]
  },
  {
   "cell_type": "code",
   "execution_count": null,
   "metadata": {},
   "outputs": [],
   "source": [
    "#-*- coding:utf-8 -*-\n",
    "from openpyxl import load_workbook\n",
    "from openpyxl.drawing.image import Image\n",
    "import matplotlib.pyplot as plt\n",
    "from io import BytesIO\n",
    "\n",
    "# 创建二进制内存存储对象\n",
    "byteData = BytesIO()\n",
    "\n",
    "\n",
    "# 设置图片大小\n",
    "fig = plt.figure(figsize=(20, 8), dpi=100)     # (20, 8) 图形宽20，高8\n",
    "\n",
    "# 绘图\n",
    "x = range(2, 26, 2)\n",
    "y = [15, 13, 14, 5, 17, 20, 25, 26, 26, 24, 22, 18]\n",
    "plt.plot(x, y)\n",
    "\n",
    "# 设置x轴的刻度\n",
    "# plt.xticks(x)\n",
    "plt.xticks(range(2, 25))\n",
    "\n",
    "# 保存图片数据到内存中\n",
    "plt.savefig(byteData)\n",
    "\n",
    "\n",
    "# 从内存中加载图片数据\n",
    "img = Image(byteData)\n",
    "\n",
    "# 生成新的图片的宽和高\n",
    "newsize = (1123, 600)\n",
    "\n",
    "# 将图片添加到excel中  self.ws = sheet对象\n",
    "wb = load_workbook('data-2.xlsx')\n",
    "ws = wb.active\n",
    "ws.add_image(img, 'A10')\n",
    "wb.save('data-3.xlsx')"
   ]
  }
 ],
 "metadata": {
  "kernelspec": {
   "display_name": "Python 3",
   "language": "python",
   "name": "python3"
  },
  "language_info": {
   "codemirror_mode": {
    "name": "ipython",
    "version": 3
   },
   "file_extension": ".py",
   "mimetype": "text/x-python",
   "name": "python",
   "nbconvert_exporter": "python",
   "pygments_lexer": "ipython3",
   "version": "3.6.8"
  },
  "toc": {
   "base_numbering": 1,
   "nav_menu": {},
   "number_sections": true,
   "sideBar": true,
   "skip_h1_title": false,
   "title_cell": "Table of Contents",
   "title_sidebar": "Contents",
   "toc_cell": false,
   "toc_position": {},
   "toc_section_display": true,
   "toc_window_display": false
  },
  "varInspector": {
   "cols": {
    "lenName": "16",
    "lenType": "16",
    "lenVar": 40
   },
   "kernels_config": {
    "python": {
     "delete_cmd_postfix": "",
     "delete_cmd_prefix": "del ",
     "library": "var_list.py",
     "varRefreshCmd": "print(var_dic_list())"
    },
    "r": {
     "delete_cmd_postfix": ") ",
     "delete_cmd_prefix": "rm(",
     "library": "var_list.r",
     "varRefreshCmd": "cat(var_dic_list()) "
    }
   },
   "types_to_exclude": [
    "module",
    "function",
    "builtin_function_or_method",
    "instance",
    "_Feature"
   ],
   "window_display": false
  }
 },
 "nbformat": 4,
 "nbformat_minor": 2
}
